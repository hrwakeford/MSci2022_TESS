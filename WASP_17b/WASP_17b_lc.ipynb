{
 "cells": [
  {
   "cell_type": "code",
   "execution_count": 1,
   "metadata": {},
   "outputs": [],
   "source": [
    "import os\n",
    "import pickle\n",
    "import lightkurve as lk\n",
    "import astropy\n",
    "from astropy.utils.masked import Masked"
   ]
  },
  {
   "cell_type": "code",
   "execution_count": 2,
   "metadata": {},
   "outputs": [
    {
     "name": "stdout",
     "output_type": "stream",
     "text": [
      "started\n",
      "Searching\n",
      "trying to download\n",
      "Search done\n",
      "LightCurveCollection of 2 objects:\n",
      "    0: <TessLightCurve LABEL=\"TIC 66818296\" SECTOR=12 AUTHOR=SPOC FLUX_ORIGIN=pdcsap_flux>\n",
      "    1: <TessLightCurve LABEL=\"TIC 66818296\" SECTOR=38 AUTHOR=SPOC FLUX_ORIGIN=pdcsap_flux>\n"
     ]
    },
    {
     "ename": "PicklingError",
     "evalue": "Can't pickle <class 'astropy.utils.masked.core.MaskedQuantity'>: attribute lookup MaskedQuantity on astropy.utils.masked.core failed",
     "output_type": "error",
     "traceback": [
      "\u001b[1;31m---------------------------------------------------------------------------\u001b[0m",
      "\u001b[1;31mPicklingError\u001b[0m                             Traceback (most recent call last)",
      "\u001b[1;32mc:\\Users\\Student\\OneDrive\\MSci project\\MSci2022_TESS\\WASP_17b\\WASP_17b_lc.ipynb Cell 2\u001b[0m in \u001b[0;36m<cell line: 13>\u001b[1;34m()\u001b[0m\n\u001b[0;32m     <a href='vscode-notebook-cell:/c%3A/Users/Student/OneDrive/MSci%20project/MSci2022_TESS/WASP_17b/WASP_17b_lc.ipynb#W0sZmlsZQ%3D%3D?line=28'>29</a>\u001b[0m         os\u001b[39m.\u001b[39mmkdir(cache_dir)\n\u001b[0;32m     <a href='vscode-notebook-cell:/c%3A/Users/Student/OneDrive/MSci%20project/MSci2022_TESS/WASP_17b/WASP_17b_lc.ipynb#W0sZmlsZQ%3D%3D?line=29'>30</a>\u001b[0m     \u001b[39mwith\u001b[39;00m \u001b[39mopen\u001b[39m(cache_pickle, \u001b[39m'\u001b[39m\u001b[39mwb\u001b[39m\u001b[39m'\u001b[39m) \u001b[39mas\u001b[39;00m f:\n\u001b[1;32m---> <a href='vscode-notebook-cell:/c%3A/Users/Student/OneDrive/MSci%20project/MSci2022_TESS/WASP_17b/WASP_17b_lc.ipynb#W0sZmlsZQ%3D%3D?line=30'>31</a>\u001b[0m         pickle\u001b[39m.\u001b[39;49mdump(lc_collection, f)\n\u001b[0;32m     <a href='vscode-notebook-cell:/c%3A/Users/Student/OneDrive/MSci%20project/MSci2022_TESS/WASP_17b/WASP_17b_lc.ipynb#W0sZmlsZQ%3D%3D?line=32'>33</a>\u001b[0m \u001b[39m# Collate all sectors into one light curve.\u001b[39;00m\n\u001b[0;32m     <a href='vscode-notebook-cell:/c%3A/Users/Student/OneDrive/MSci%20project/MSci2022_TESS/WASP_17b/WASP_17b_lc.ipynb#W0sZmlsZQ%3D%3D?line=33'>34</a>\u001b[0m lc \u001b[39m=\u001b[39m lc_collection\u001b[39m.\u001b[39mstitch(corrector_func\u001b[39m=\u001b[39m\u001b[39mlambda\u001b[39;00m x: x\u001b[39m.\u001b[39m\n\u001b[0;32m     <a href='vscode-notebook-cell:/c%3A/Users/Student/OneDrive/MSci%20project/MSci2022_TESS/WASP_17b/WASP_17b_lc.ipynb#W0sZmlsZQ%3D%3D?line=34'>35</a>\u001b[0m                           remove_nans()\u001b[39m.\u001b[39mnormalize(unit\u001b[39m=\u001b[39m\u001b[39m'\u001b[39m\u001b[39munscaled\u001b[39m\u001b[39m'\u001b[39m))\n",
      "\u001b[1;31mPicklingError\u001b[0m: Can't pickle <class 'astropy.utils.masked.core.MaskedQuantity'>: attribute lookup MaskedQuantity on astropy.utils.masked.core failed"
     ]
    }
   ],
   "source": [
    "\n",
    "print(\"started\")\n",
    "\n",
    "\n",
    "# Config.\n",
    "TIC = 'TIC 66818296' #WASP-17 / TIC 66818296\n",
    "repo_path = 'C:\\\\Users\\\\Student\\\\OneDrive\\\\MSci project\\\\MSci2022_TESS\\\\'\n",
    "LOAD_FROM_CACHE = True\n",
    "\n",
    "\n",
    "# Retrieve data.\n",
    "cache_dir = os.path.join(repo_path, 'lc_cache', '{}.p'.format(TIC))\n",
    "cache_pickle = os.path.join(cache_dir, '{}.p'.format(TIC))\n",
    "if LOAD_FROM_CACHE and os.path.exists(cache_pickle):\n",
    "    # From cache.\n",
    "    with open(cache_pickle, 'rb') as f:\n",
    "        lc_collection = pickle.load(f)\n",
    "else:\n",
    "    # From MAST data archive.\n",
    "    print(\"Searching\")\n",
    "    search_result = lk.search_lightcurve(\n",
    "        target=TIC,\n",
    "        mission='TESS', author='SPOC')\n",
    "    print(\"trying to download\")\n",
    "    lc_collection = search_result.download_all()\n",
    "    print(\"Search done\")\n",
    "    print(lc_collection)\n",
    "    # Save to cache.\n",
    "    if not os.path.exists(cache_dir):\n",
    "        os.mkdir(cache_dir)\n",
    "    with open(cache_pickle, 'wb') as f:\n",
    "        pickle.dump(lc_collection, f)\n",
    "\n",
    "# Collate all sectors into one light curve.\n",
    "lc = lc_collection.stitch(corrector_func=lambda x: x.\n",
    "                          remove_nans().normalize(unit='unscaled'))\n",
    "\n",
    "print(\"Done\")\n"
   ]
  },
  {
   "cell_type": "code",
   "execution_count": null,
   "metadata": {},
   "outputs": [],
   "source": []
  }
 ],
 "metadata": {
  "kernelspec": {
   "display_name": "Python 3.10.4 ('MSci_project')",
   "language": "python",
   "name": "python3"
  },
  "language_info": {
   "codemirror_mode": {
    "name": "ipython",
    "version": 3
   },
   "file_extension": ".py",
   "mimetype": "text/x-python",
   "name": "python",
   "nbconvert_exporter": "python",
   "pygments_lexer": "ipython3",
   "version": "3.10.4"
  },
  "orig_nbformat": 4,
  "vscode": {
   "interpreter": {
    "hash": "7bd4fe6967f9cc850d872c9777b9eeb4234965a4c66e35bcc9347dfc982970e3"
   }
  }
 },
 "nbformat": 4,
 "nbformat_minor": 2
}
