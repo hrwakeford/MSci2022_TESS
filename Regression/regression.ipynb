{
 "cells": [
  {
   "cell_type": "code",
   "execution_count": 1,
   "metadata": {},
   "outputs": [],
   "source": [
    "import numpy as np\n",
    "from matplotlib import pyplot as plt\n",
    "from scipy import optimize"
   ]
  },
  {
   "cell_type": "code",
   "execution_count": 2,
   "metadata": {},
   "outputs": [],
   "source": [
    "#True data points\n",
    "def make_real_y(x):\n",
    "    m = 1.2\n",
    "    c = 1.4\n",
    "    var = 7.5*np.random.random()\n",
    "    y = x*m + c + var\n",
    "    return y"
   ]
  },
  {
   "cell_type": "code",
   "execution_count": 3,
   "metadata": {},
   "outputs": [],
   "source": [
    "real_x = range(0, 20, 1)\n",
    "real_y = [make_real_y(x) for x in real_x]\n",
    "y_error = np.random.normal(0, 2, size=len(real_x))"
   ]
  },
  {
   "cell_type": "code",
   "execution_count": 4,
   "metadata": {},
   "outputs": [
    {
     "data": {
      "image/png": "[encoded data removed]",
      "text/plain": [
       "<Figure size 640x480 with 1 Axes>"
      ]
     },
     "metadata": {},
     "output_type": "display_data"
    }
   ],
   "source": [
    "plt.errorbar(real_x, real_y, yerr=y_error, fmt='.', ecolor='LightGrey')\n",
    "plt.xlabel(\"x\")\n",
    "plt.ylabel(\"y\")\n",
    "plt.show()"
   ]
  },
  {
   "cell_type": "code",
   "execution_count": 5,
   "metadata": {},
   "outputs": [],
   "source": [
    "#Model\n",
    "def make_model_y(x):\n",
    "    m = 1.2\n",
    "    c = 1.4\n",
    "    y = x*m + c\n",
    "    return y"
   ]
  },
  {
   "cell_type": "code",
   "execution_count": 6,
   "metadata": {},
   "outputs": [],
   "source": [
    "model_x = range(0, 20, 1)\n",
    "model_y = [make_model_y(m_x) for m_x in model_x]\n"
   ]
  },
  {
   "cell_type": "code",
   "execution_count": 7,
   "metadata": {},
   "outputs": [],
   "source": [
    "# model_y = [1, 2, 3]\n",
    "# res = optimize.minimize(make_real_y, model_y)\n",
    "# print(res.x)"
   ]
  },
  {
   "cell_type": "code",
   "execution_count": 8,
   "metadata": {},
   "outputs": [
    {
     "name": "stdout",
     "output_type": "stream",
     "text": [
      "5.724229681548652\n"
     ]
    }
   ],
   "source": [
    "#P(Y | \\thera)\n",
    "P_y_theta = 0\n",
    "for y, m_y in zip(real_y, model_y):\n",
    "    P_y_theta += np.exp( -0.5 *((y - m_y)**2 / (1)**2))\n",
    "\n",
    "print(P_y_theta)"
   ]
  }
 ],
 "metadata": {
  "kernelspec": {
   "display_name": "Python 3.10.4 ('MSci_project')",
   "language": "python",
   "name": "python3"
  },
  "language_info": {
   "codemirror_mode": {
    "name": "ipython",
    "version": 3
   },
   "file_extension": ".py",
   "mimetype": "text/x-python",
   "name": "python",
   "nbconvert_exporter": "python",
   "pygments_lexer": "ipython3",
   "version": "3.10.4"
  },
  "orig_nbformat": 4,
  "vscode": {
   "interpreter": {
    "hash": "7bd4fe6967f9cc850d872c9777b9eeb4234965a4c66e35bcc9347dfc982970e3"
   }
  }
 },
 "nbformat": 4,
 "nbformat_minor": 2
}
