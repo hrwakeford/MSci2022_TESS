{
 "cells": [
  {
   "cell_type": "code",
   "execution_count": 1,
   "metadata": {},
   "outputs": [],
   "source": [
    "import numpy as np\n",
    "from matplotlib import pyplot as plt\n",
    "from scipy import optimize"
   ]
  },
  {
   "cell_type": "code",
   "execution_count": 2,
   "metadata": {},
   "outputs": [],
   "source": [
    "np.random.seed(100)"
   ]
  },
  {
   "cell_type": "code",
   "execution_count": 3,
   "metadata": {},
   "outputs": [],
   "source": [
    "#True data points\n",
    "def make_real_y(x):\n",
    "    m = 1.2\n",
    "    c = 1.4\n",
    "    var = 5*np.random.random() #Gaussian likelihood\n",
    "    y = x*m + c + var\n",
    "    return y"
   ]
  },
  {
   "cell_type": "code",
   "execution_count": 4,
   "metadata": {},
   "outputs": [],
   "source": [
    "real_x = range(0, 20, 1)\n",
    "real_y = [make_real_y(x) for x in real_x]\n",
    "real_y_sd = np.random.randint(1, 7, len(real_x))\n",
    "y_error = np.random.normal(0, 2, size=len(real_x))"
   ]
  },
  {
   "cell_type": "code",
   "execution_count": 5,
   "metadata": {},
   "outputs": [],
   "source": [
    "#Model\n",
    "def make_model_y(x):\n",
    "    m = 1.2\n",
    "    c = 1.4\n",
    "    y = x*m + c\n",
    "    return y"
   ]
  },
  {
   "cell_type": "code",
   "execution_count": 6,
   "metadata": {},
   "outputs": [],
   "source": [
    "model_x = range(0, 20, 1)\n",
    "model_y = [make_model_y(m_x) for m_x in model_x]\n"
   ]
  },
  {
   "cell_type": "code",
   "execution_count": 7,
   "metadata": {},
   "outputs": [
    {
     "name": "stdout",
     "output_type": "stream",
     "text": [
      "     fun: 0.03543429920830021\n",
      " message: '\\nOptimization terminated successfully;\\nThe returned value satisfies the termination criteria\\n(using xtol = 1.48e-08 )'\n",
      "    nfev: 36\n",
      "     nit: 31\n",
      " success: True\n",
      "       x: -1.5057221381717947\n"
     ]
    }
   ],
   "source": [
    "model_y = [1, 2, 3]\n",
    "res = optimize.minimize_scalar(make_real_y)\n",
    "print(res)"
   ]
  },
  {
   "cell_type": "code",
   "execution_count": 8,
   "metadata": {},
   "outputs": [
    {
     "name": "stdout",
     "output_type": "stream",
     "text": [
      "2.387268550801577\n"
     ]
    }
   ],
   "source": [
    "#P(Y | \\thera)\n",
    "P_y_theta = 0\n",
    "for y, m_y, sd_y in zip(real_y, model_y, real_y_sd):\n",
    "    P_y_theta += np.exp( -0.5 *((y - m_y)**2 / (sd_y)**2))\n",
    "\n",
    "#Sigma??    \n",
    "\n",
    "print(P_y_theta)"
   ]
  },
  {
   "cell_type": "code",
   "execution_count": 9,
   "metadata": {},
   "outputs": [
    {
     "ename": "SyntaxError",
     "evalue": "invalid syntax (210741713.py, line 6)",
     "output_type": "error",
     "traceback": [
      "\u001b[1;36m  Input \u001b[1;32mIn [9]\u001b[1;36m\u001b[0m\n\u001b[1;33m    L =\u001b[0m\n\u001b[1;37m        ^\u001b[0m\n\u001b[1;31mSyntaxError\u001b[0m\u001b[1;31m:\u001b[0m invalid syntax\n"
     ]
    }
   ],
   "source": [
    "def likelihood(parmas):\n",
    "    m, b, sigma = parmas\n",
    "    y_model = []\n",
    "    for x in real_x:\n",
    "        y_model.append(m * x + b)\n",
    "    L = \n"
   ]
  },
  {
   "cell_type": "code",
   "execution_count": null,
   "metadata": {},
   "outputs": [],
   "source": [
    "plt.errorbar(real_x, real_y, yerr=y_error, fmt='.', ecolor='LightGrey', label=\"Expected\")\n",
    "plt.xlabel(\"x\")\n",
    "plt.ylabel(\"y\")\n",
    "plt.legend()\n",
    "plt.show()"
   ]
  },
  {
   "cell_type": "code",
   "execution_count": null,
   "metadata": {},
   "outputs": [],
   "source": [
    "def lik(parameters):\n",
    "    m = parameters[0]\n",
    "    b = parameters[1]\n",
    "    sigma = parameters[2]\n",
    "    for i in np.arange(0, len(x)):\n",
    "        y_exp = m * x + b\n",
    "    L = (len(x)/2 * np.log(2 * np.pi) + len(x)/2 * np.log(sigma ** 2) + 1 /\n",
    "         (2 * sigma ** 2) * sum((y - y_exp) ** 2))\n",
    "    return L\n",
    "\n",
    "x = np.array([1,2,3,4,5])\n",
    "y = np.array([2,5,8,11,14])\n",
    "lik_model = optimize.minimize(lik, np.array([1,1,1]), method='L-BFGS-B')\n",
    "plt.scatter(x,y)\n",
    "plt.plot(x, lik_model['x'][0] * x + lik_model['x'][1])\n",
    "plt.show()"
   ]
  }
 ],
 "metadata": {
  "kernelspec": {
   "display_name": "Python 3.10.4 ('MSci_project')",
   "language": "python",
   "name": "python3"
  },
  "language_info": {
   "codemirror_mode": {
    "name": "ipython",
    "version": 3
   },
   "file_extension": ".py",
   "mimetype": "text/x-python",
   "name": "python",
   "nbconvert_exporter": "python",
   "pygments_lexer": "ipython3",
   "version": "3.10.4"
  },
  "orig_nbformat": 4,
  "vscode": {
   "interpreter": {
    "hash": "7bd4fe6967f9cc850d872c9777b9eeb4234965a4c66e35bcc9347dfc982970e3"
   }
  }
 },
 "nbformat": 4,
 "nbformat_minor": 2
}
