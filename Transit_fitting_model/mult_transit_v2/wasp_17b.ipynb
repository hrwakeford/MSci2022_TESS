{
 "cells": [
  {
   "cell_type": "code",
   "execution_count": 14,
   "metadata": {
    "collapsed": true
   },
   "outputs": [],
   "source": [
    "import os\n",
    "\n",
    "os.environ[\"OMP_NUM_THREADS\"] = \"1\""
   ]
  },
  {
   "cell_type": "code",
   "execution_count": 20,
   "outputs": [
    {
     "ename": "ImportError",
     "evalue": "cannot import name 'radius_in_stellar_radii' from 'unit_conversion' (/home/rk19047/PycharmProjects/MSci2022_TESS/packages/unit_conversion.py)",
     "output_type": "error",
     "traceback": [
      "\u001B[0;31m---------------------------------------------------------------------------\u001B[0m",
      "\u001B[0;31mImportError\u001B[0m                               Traceback (most recent call last)",
      "Cell \u001B[0;32mIn[20], line 15\u001B[0m\n\u001B[1;32m     13\u001B[0m \u001B[38;5;28;01mimport\u001B[39;00m \u001B[38;5;21;01msys\u001B[39;00m\n\u001B[1;32m     14\u001B[0m sys\u001B[38;5;241m.\u001B[39mpath\u001B[38;5;241m.\u001B[39minsert(\u001B[38;5;241m0\u001B[39m, \u001B[38;5;124mr\u001B[39m\u001B[38;5;124m'\u001B[39m\u001B[38;5;124m/home/rk19047/PycharmProjects/MSci2022_TESS/packages\u001B[39m\u001B[38;5;124m'\u001B[39m)\n\u001B[0;32m---> 15\u001B[0m \u001B[38;5;28;01mfrom\u001B[39;00m \u001B[38;5;21;01munit_conversion\u001B[39;00m \u001B[38;5;28;01mimport\u001B[39;00m radius_in_stellar_radii, semi_major_axis_in_stellar_radii\n",
      "\u001B[0;31mImportError\u001B[0m: cannot import name 'radius_in_stellar_radii' from 'unit_conversion' (/home/rk19047/PycharmProjects/MSci2022_TESS/packages/unit_conversion.py)"
     ]
    }
   ],
   "source": [
    "import pandas as pd\n",
    "import numpy as np\n",
    "import matplotlib.pyplot as plt\n",
    "import matplotlib.ticker as ticker\n",
    "import corner\n",
    "import batman\n",
    "import emcee\n",
    "import time\n",
    "from multiprocessing import Pool\n",
    "from scipy import optimize\n",
    "from IPython.display import display, Math\n",
    "\n",
    "# import sys\n",
    "# sys.path.insert(0, r'/home/rk19047/PycharmProjects/MSci2022_TESS/packages')\n",
    "# from unit_conversion import radius_in_stellar_radii, semi_major_axis_in_stellar_radii"
   ],
   "metadata": {
    "collapsed": false
   }
  },
  {
   "cell_type": "code",
   "execution_count": 16,
   "outputs": [],
   "source": [
    "np.random.seed(100)"
   ],
   "metadata": {
    "collapsed": false
   }
  },
  {
   "cell_type": "code",
   "execution_count": 17,
   "outputs": [],
   "source": [
    "#System\n",
    "#http://exoplanets.org/detail/WASP-17b\n",
    "\n",
    "# Semi-Major Axis[au]\t0.04994 ± 0.00083\n",
    "# Orbital Period[day]\t3.7354330 +7.5×10-6/-7.7×10-6\n",
    "# Orbital Eccentricity\t0\n",
    "# Orbit Inclination[deg]\t86.63 +0.39/-0.45\n",
    "# Argument of Periastron[deg]\t90\n",
    "\n",
    "# Time of Periastron[jd]\t2454559.18096 +0.00025/-0.00021\n",
    "# Transit Parameters\n",
    "# Planetary Radius[rjupiter]\t1.93 +0.052/-0.1\n",
    "# Impact Parameter\t0.400 +0.043/-0.04\n",
    "\n",
    "# Stellar Properties\n",
    "# Star Name\tWASP-17\n",
    "# Binary Flag\t✗\n",
    "# Mass of Star[msun]\t1.190 ± 0.03\n",
    "# Radius of Star[rsun]\t1.200 +0.081/-0.08\n",
    "# [Fe/H]\t-0.250 ± 0.09\n",
    "# Teff[k]\t6550 ± 100\n",
    "# Density of star[g/cm^3]\t0.67 +0.16/-0.13\n",
    "# log10(g)\t4.20 ± 0.2\n",
    "# Vsin(i)[km/s]\t9.0 ± 1.5\n",
    "# Gamma[km/s]\t-49"
   ],
   "metadata": {
    "collapsed": false
   }
  },
  {
   "cell_type": "code",
   "execution_count": 18,
   "outputs": [
    {
     "ename": "NameError",
     "evalue": "name 'radius_in_stellar_radii' is not defined",
     "output_type": "error",
     "traceback": [
      "\u001B[0;31m---------------------------------------------------------------------------\u001B[0m",
      "\u001B[0;31mNameError\u001B[0m                                 Traceback (most recent call last)",
      "Cell \u001B[0;32mIn[18], line 9\u001B[0m\n\u001B[1;32m      7\u001B[0m params\u001B[38;5;241m.\u001B[39mt0 \u001B[38;5;241m=\u001B[39m \u001B[38;5;241m0.\u001B[39m                                          \u001B[38;5;66;03m#time of inferior conjunction\u001B[39;00m\n\u001B[1;32m      8\u001B[0m params\u001B[38;5;241m.\u001B[39mper \u001B[38;5;241m=\u001B[39m \u001B[38;5;241m3.7354330\u001B[39m                                        \u001B[38;5;66;03m#orbital period (days)\u001B[39;00m\n\u001B[0;32m----> 9\u001B[0m params\u001B[38;5;241m.\u001B[39mrp \u001B[38;5;241m=\u001B[39m \u001B[43mradius_in_stellar_radii\u001B[49m(true_R_planet, true_R_star)                \u001B[38;5;66;03m#planet radius (in units of stellar radii)\u001B[39;00m\n\u001B[1;32m     10\u001B[0m params\u001B[38;5;241m.\u001B[39ma \u001B[38;5;241m=\u001B[39m semi_major_axis_in_stellar_radii(true_semi_major_axis, true_R_star) \u001B[38;5;66;03m#semi-major axis (in units of stellar radii))\u001B[39;00m\n\u001B[1;32m     11\u001B[0m params\u001B[38;5;241m.\u001B[39minc \u001B[38;5;241m=\u001B[39m \u001B[38;5;241m89.94\u001B[39m                                       \u001B[38;5;66;03m#orbital inclination (in degrees)\u001B[39;00m\n",
      "\u001B[0;31mNameError\u001B[0m: name 'radius_in_stellar_radii' is not defined"
     ]
    }
   ],
   "source": [
    "true_R_star = 1.200 #R_sun\n",
    "true_R_planet = 1.93 #R_J\n",
    "true_semi_major_axis = 0.04994 #AU\n",
    "\n",
    "\n",
    "params = batman.TransitParams()\n",
    "params.t0 = 0.                                          #time of inferior conjunction\n",
    "params.per = 3.7354330                                        #orbital period (days)\n",
    "params.rp = radius_in_stellar_radii(true_R_planet, true_R_star)                #planet radius (in units of stellar radii)\n",
    "params.a = semi_major_axis_in_stellar_radii(true_semi_major_axis, true_R_star) #semi-major axis (in units of stellar radii))\n",
    "params.inc = 89.94                                       #orbital inclination (in degrees)\n",
    "params.ecc = 0.0                                         #eccentricity\n",
    "params.w = 90.                                          #longitude of periastron (in degrees)\n",
    "params.limb_dark = \"quadratic\"                          #limb darkening model\n",
    "params.u = [0.21768792857990628,\n",
    "            0.2836292883489928]                             #limb darkening coefficients [u1, u2, u3, u4]\n",
    "\n",
    "t = np.linspace(0, 30, 21600)                      #times at which to calculate light curve\n",
    "m = batman.TransitModel(params, t)                      #initializes model\n",
    "true_flux = m.light_curve(params)"
   ],
   "metadata": {
    "collapsed": false
   }
  },
  {
   "cell_type": "code",
   "execution_count": null,
   "outputs": [],
   "source": [],
   "metadata": {
    "collapsed": false
   }
  }
 ],
 "metadata": {
  "kernelspec": {
   "display_name": "Python 3",
   "language": "python",
   "name": "python3"
  },
  "language_info": {
   "codemirror_mode": {
    "name": "ipython",
    "version": 2
   },
   "file_extension": ".py",
   "mimetype": "text/x-python",
   "name": "python",
   "nbconvert_exporter": "python",
   "pygments_lexer": "ipython2",
   "version": "2.7.6"
  }
 },
 "nbformat": 4,
 "nbformat_minor": 0
}
