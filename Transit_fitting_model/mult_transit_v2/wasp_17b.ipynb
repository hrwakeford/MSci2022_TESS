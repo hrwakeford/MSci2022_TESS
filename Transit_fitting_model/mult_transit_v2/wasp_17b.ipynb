{
 "cells": [
  {
   "cell_type": "code",
   "execution_count": 17,
   "metadata": {
    "collapsed": true
   },
   "outputs": [],
   "source": [
    "import os\n",
    "\n",
    "os.environ[\"OMP_NUM_THREADS\"] = \"1\""
   ]
  },
  {
   "cell_type": "code",
   "execution_count": 18,
   "metadata": {
    "collapsed": false
   },
   "outputs": [],
   "source": [
    "import pandas as pd\n",
    "import numpy as np\n",
    "import matplotlib.pyplot as plt\n",
    "import matplotlib.ticker as ticker\n",
    "import corner\n",
    "import batman\n",
    "import emcee\n",
    "import time\n",
    "from multiprocessing import Pool\n",
    "from scipy import optimize\n",
    "from IPython.display import display, Math\n",
    "\n",
    "# import sys\n",
    "# sys.path.insert(0, r'/home/rk19047/PycharmProjects/MSci2022_TESS/packages')\n",
    "# from unit_conversion import radius_in_stellar_radii, semi_major_axis_in_stellar_radii"
   ]
  },
  {
   "cell_type": "code",
   "execution_count": 19,
   "metadata": {
    "collapsed": false
   },
   "outputs": [],
   "source": [
    "np.random.seed(100)"
   ]
  },
  {
   "cell_type": "code",
   "execution_count": 20,
   "metadata": {},
   "outputs": [],
   "source": [
    "def radius_in_stellar_radii(R_planet, R_star):\n",
    "    \"\"\"\n",
    "    Convert planetary radius (R_Jupiter) in stellar radii.\n",
    "    \n",
    "    Parameters\n",
    "    ----------\n",
    "    R_planet : float\n",
    "        Planetary radius in R_Jupiter.\n",
    "\n",
    "    R_star : float\n",
    "        Stellar radius in R_sun.\n",
    "\n",
    "    Returns\n",
    "    -------\n",
    "    R_planet_stellar_radii : float \n",
    "        Planetary radius in stellar radii.\n",
    "\n",
    "    \"\"\"\n",
    "    # 1 R_Jupiter = 0.102763 R_sun\n",
    "\n",
    "    R_planet_stellar_radii = R_planet * 0.102763 / R_star\n",
    "\n",
    "    return R_planet_stellar_radii"
   ]
  },
  {
   "cell_type": "code",
   "execution_count": 21,
   "metadata": {},
   "outputs": [],
   "source": [
    "def semi_major_axis_in_stellar_radii(semi_major_axis, R_star):\n",
    "    \"\"\"\n",
    "    Converting the semi-major axis (AU) to (Stellar radii)\n",
    "\n",
    "    Parameters\n",
    "    ----------\n",
    "    semi_major_axis : float\n",
    "        Semi-major axis of the planet in AU.\n",
    "\n",
    "    R_star : float\n",
    "        Stellar radius in R_sun.\n",
    "\n",
    "    Returns\n",
    "    -------\n",
    "    a_stellar_radii : float\n",
    "        Semi-major axis of the planet in stellar radii\n",
    "    \"\"\"\n",
    "    #1 AU = 215.032 R_Sun\n",
    "\n",
    "    a_stellar_radii = semi_major_axis * 215.032 / R_star #Check this\n",
    "\n",
    "    return a_stellar_radii"
   ]
  },
  {
   "cell_type": "code",
   "execution_count": 22,
   "metadata": {
    "collapsed": false
   },
   "outputs": [],
   "source": [
    "#System\n",
    "#http://exoplanets.org/detail/WASP-17b\n",
    "\n",
    "# Semi-Major Axis[au]\t0.04994 ± 0.00083\n",
    "# Orbital Period[day]\t3.7354330 +7.5×10-6/-7.7×10-6\n",
    "# Orbital Eccentricity\t0\n",
    "# Orbit Inclination[deg]\t86.63 +0.39/-0.45\n",
    "# Argument of Periastron[deg]\t90\n",
    "\n",
    "# Time of Periastron[jd]\t2454559.18096 +0.00025/-0.00021\n",
    "# Transit Parameters\n",
    "# Planetary Radius[rjupiter]\t1.93 +0.052/-0.1\n",
    "# Impact Parameter\t0.400 +0.043/-0.04\n",
    "\n",
    "# Stellar Properties\n",
    "# Star Name\tWASP-17\n",
    "# Binary Flag\t✗\n",
    "# Mass of Star[msun]\t1.190 ± 0.03\n",
    "# Radius of Star[rsun]\t1.200 +0.081/-0.08\n",
    "# [Fe/H]\t-0.250 ± 0.09\n",
    "# Teff[k]\t6550 ± 100\n",
    "# Density of star[g/cm^3]\t0.67 +0.16/-0.13\n",
    "# log10(g)\t4.20 ± 0.2\n",
    "# Vsin(i)[km/s]\t9.0 ± 1.5\n",
    "# Gamma[km/s]\t-49"
   ]
  },
  {
   "cell_type": "code",
   "execution_count": 23,
   "metadata": {
    "collapsed": false
   },
   "outputs": [],
   "source": [
    "true_R_star = 1.200 #R_sun\n",
    "true_R_planet = 1.93 #R_J\n",
    "true_semi_major_axis = 0.04994 #AU\n",
    "\n",
    "\n",
    "params = batman.TransitParams()\n",
    "params.t0 = 0.                                          #time of inferior conjunction\n",
    "params.per = 3.7354330                                        #orbital period (days)\n",
    "params.rp = radius_in_stellar_radii(true_R_planet, true_R_star)                #planet radius (in units of stellar radii)\n",
    "params.a = semi_major_axis_in_stellar_radii(true_semi_major_axis, true_R_star) #semi-major axis (in units of stellar radii))\n",
    "params.inc = 86.63                                       #orbital inclination (in degrees)\n",
    "params.ecc = 0.0                                         #eccentricity\n",
    "params.w = 90.                                          #longitude of periastron (in degrees)\n",
    "params.limb_dark = \"quadratic\"                          #limb darkening model\n",
    "params.u = [0.21768792859790628, 0.2836292883489928]                             #limb darkening coefficients [u1, u2, u3, u4]\n",
    "\n",
    "t = np.linspace(0, 30, 21600)                      #times at which to calculate light curve\n",
    "m = batman.TransitModel(params, t)                      #initializes model\n",
    "true_flux = m.light_curve(params)"
   ]
  },
  {
   "cell_type": "code",
   "execution_count": 24,
   "metadata": {},
   "outputs": [],
   "source": [
    "#Add noise to the signal\n",
    "sigma = 0.00001\n",
    "yerrs = np.random.normal(loc=0., scale=sigma, size=len(true_flux))\n",
    "true_flux += yerrs\n",
    "ysigmas = np.full(len(true_flux), sigma)"
   ]
  },
  {
   "cell_type": "code",
   "execution_count": 25,
   "metadata": {
    "collapsed": false
   },
   "outputs": [
    {
     "data": {
      "image/png": "[encoded data removed]",
      "text/plain": [
       "<Figure size 800x600 with 1 Axes>"
      ]
     },
     "metadata": {},
     "output_type": "display_data"
    }
   ],
   "source": [
    "fig, ax = plt.subplots(1, figsize=(8,6))\n",
    "plt.title(\"WASP-17b - Simulated data points\", size=17)\n",
    "plt.errorbar(t, true_flux, yerr=ysigmas, fmt='.', ecolor='LightGrey', label=\"Expected\")\n",
    "plt.xlabel(\"Time (days)\", size=17)\n",
    "plt.ylabel(\"Normalised flux\", size=17)\n",
    "\n",
    "ax.xaxis.set_tick_params(labelsize=17)\n",
    "ax.yaxis.set_tick_params(labelsize=17)\n",
    "plt.show()"
   ]
  },
  {
   "cell_type": "code",
   "execution_count": null,
   "metadata": {},
   "outputs": [],
   "source": [
    "guess_params = batman.TransitParams()\n",
    "guess_params.t0 = params.t0\n",
    "guess_params.per = params.per\n",
    "guess_params.rp = params.rp\n",
    "guess_params.a = params.a\n",
    "guess_params.inc = params.inc\n",
    "guess_params.ecc = params.ecc\n",
    "guess_params.w = params.w\n",
    "guess_params.limb_dark = \"quadratic\"\n",
    "guess_params.u = params.u      "
   ]
  },
  {
   "cell_type": "code",
   "execution_count": null,
   "metadata": {},
   "outputs": [],
   "source": [
    "def log_likelihood(prior_params, true_flux, yerrs):\n",
    "    \"\"\"\n",
    "    \n",
    "    Parameters\n",
    "    ----------\n",
    "\n",
    "\n",
    "    Returns\n",
    "    -------\n",
    "    \n",
    "    \"\"\"\n",
    "    T_0, R_planet_stellar, orbital_period, orbital_inclination, semi_major_axis, impact_parameter = prior_params\n",
    "\n",
    "    guess_params.t0 = T_0\n",
    "    guess_params.rp = R_planet_stellar\n",
    "    guess_params.per = orbital_period\n",
    "    guess_params.inc = orbital_inclination\n",
    "    guess_params.a = semi_major_axis_in_stellar_radii(semi_major_axis, true_R_star)\n",
    "    \n",
    "    \n",
    "    guess_m = batman.TransitModel(guess_params, t)\n",
    "    guess_flux = guess_m.light_curve(guess_params)\n",
    "        \n",
    "    L1 = -0.5 * np.power((true_flux - guess_flux), 2) / np.power(yerrs, 2) #Sigma\n",
    "    L2 = -0.5 * np.log(2 * np.pi * yerrs**2) #Sigma\n",
    "    L3 = np.sum(L1) + np.sum(L2)\n",
    "    return L3\n",
    "\n",
    "\n",
    "def log_prior(prior_params):\n",
    "    \"\"\"\n",
    "    \n",
    "    Parameters\n",
    "    ----------\n",
    "\n",
    "\n",
    "    Returns\n",
    "    -------\n",
    "    \n",
    "    \"\"\"\n",
    "    T_0, R_planet_stellar, orbital_period, orbital_inclination, semi_major_axis, impact_parameter = prior_params\n",
    "\n",
    "    P = 0.0\n",
    "    if (T_0 < -0.5) or (T_0 > 0.5):\n",
    "        P += -np.inf\n",
    "        return -np.inf\n",
    "\n",
    "    if (R_planet_stellar < 0) or (R_planet_stellar > 0.5):\n",
    "        P += -np.inf\n",
    "        return P\n",
    "\n",
    "    if (orbital_period < 0) or (orbital_period > 5):\n",
    "        P += -np.inf\n",
    "        return P\n",
    "\n",
    "    if (orbital_inclination < 84) or (orbital_inclination > 90):\n",
    "        P += -np.inf\n",
    "        return -np.inf\n",
    "    \n",
    "\n",
    "    if (semi_major_axis < 0) or (semi_major_axis > 0.06): #AU\n",
    "        P += -np.inf\n",
    "        return P\n",
    "\n",
    "\n",
    "\n",
    "def log_prob(prior_params, true_flux, yerrs):\n",
    "    lp = log_prior(prior_params)\n",
    "    if (np.isfinite(lp) == False):\n",
    "        return -np.inf\n",
    "\n",
    "    return log_likelihood(prior_params, true_flux, yerrs) + lp"
   ]
  },
  {
   "cell_type": "code",
   "execution_count": null,
   "metadata": {},
   "outputs": [],
   "source": [
    "true_impact_parameter = np.cos(params.inc) * semi_major_axis_in_stellar_radii(true_semi_major_axis, true_R_star)\n",
    "guess = [params.t0, params.rp, params.per, params.inc, true_semi_major_axis, true_impact_parameter]"
   ]
  },
  {
   "cell_type": "code",
   "execution_count": null,
   "metadata": {},
   "outputs": [],
   "source": [
    "pos = guess + 1E-4 * np.random.randn(20, 6)\n",
    "\n",
    "nwalkers, ndim = pos.shape\n",
    "\n",
    "filename = \"mcmc_multiple_transit.h5\"\n",
    "backend = emcee.backends.HDFBackend(filename)\n",
    "backend.reset(nwalkers, ndim)\n",
    "\n",
    "with Pool() as pool:\n",
    "    start_time = time.time()\n",
    "    sampler = emcee.EnsembleSampler(nwalkers, ndim, log_prob, args=(true_flux, ysigmas), a=2)\n",
    "    sampler.run_mcmc(pos, 50000, progress=True)\n",
    "    end_time = time.time() \n",
    "    execution_time = (end_time - start_time)\n",
    "    print(\"Start:       {}\".format(time.ctime(int(start_time))))\n",
    "    print(\"End:         {}\".format(time.ctime(int(end_time))))\n",
    "    print(\"Time taken:  {:.2f} s\".format(execution_time))"
   ]
  },
  {
   "cell_type": "code",
   "execution_count": null,
   "metadata": {},
   "outputs": [],
   "source": []
  },
  {
   "cell_type": "code",
   "execution_count": null,
   "metadata": {},
   "outputs": [],
   "source": []
  }
 ],
 "metadata": {
  "kernelspec": {
   "display_name": "MSci_project",
   "language": "python",
   "name": "python3"
  },
  "language_info": {
   "codemirror_mode": {
    "name": "ipython",
    "version": 3
   },
   "file_extension": ".py",
   "mimetype": "text/x-python",
   "name": "python",
   "nbconvert_exporter": "python",
   "pygments_lexer": "ipython3",
   "version": "3.10.4"
  },
  "vscode": {
   "interpreter": {
    "hash": "7bd4fe6967f9cc850d872c9777b9eeb4234965a4c66e35bcc9347dfc982970e3"
   }
  }
 },
 "nbformat": 4,
 "nbformat_minor": 0
}
