{
 "cells": [
  {
   "cell_type": "code",
   "execution_count": 1,
   "metadata": {},
   "outputs": [
    {
     "name": "stdout",
     "output_type": "stream",
     "text": [
      "Collecting h5py\n",
      "  Using cached h5py-3.7.0-cp310-cp310-win_amd64.whl (2.6 MB)\n",
      "Requirement already satisfied: numpy>=1.14.5 in c:\\users\\student\\anaconda3\\envs\\msci_project\\lib\\site-packages (from h5py) (1.23.1)\n",
      "Installing collected packages: h5py\n",
      "Successfully installed h5py-3.7.0\n"
     ]
    }
   ],
   "source": [
    "import sys\n",
    "!{sys.executable} -m pip install h5py \n"
   ]
  }
 ],
 "metadata": {
  "kernelspec": {
   "display_name": "Python 3.10.4 ('MSci_project')",
   "language": "python",
   "name": "python3"
  },
  "language_info": {
   "codemirror_mode": {
    "name": "ipython",
    "version": 3
   },
   "file_extension": ".py",
   "mimetype": "text/x-python",
   "name": "python",
   "nbconvert_exporter": "python",
   "pygments_lexer": "ipython3",
   "version": "3.10.4"
  },
  "orig_nbformat": 4,
  "vscode": {
   "interpreter": {
    "hash": "7bd4fe6967f9cc850d872c9777b9eeb4234965a4c66e35bcc9347dfc982970e3"
   }
  }
 },
 "nbformat": 4,
 "nbformat_minor": 2
}
