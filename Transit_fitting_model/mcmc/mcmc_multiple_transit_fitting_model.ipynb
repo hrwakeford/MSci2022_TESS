{
 "cells": [
  {
   "cell_type": "code",
   "execution_count": 1,
   "metadata": {},
   "outputs": [],
   "source": [
    "import os\n",
    "\n",
    "os.environ[\"OMP_NUM_THREADS\"] = \"1\""
   ]
  },
  {
   "cell_type": "code",
   "execution_count": 2,
   "metadata": {},
   "outputs": [],
   "source": [
    "import pandas as pd\n",
    "import numpy as np\n",
    "import matplotlib.pyplot as plt\n",
    "import matplotlib.ticker as ticker\n",
    "import corner\n",
    "import batman\n",
    "import emcee\n",
    "import time\n",
    "from multiprocessing import Pool\n",
    "from scipy import optimize\n",
    "from IPython.display import display, Math"
   ]
  },
  {
   "cell_type": "code",
   "execution_count": null,
   "metadata": {},
   "outputs": [],
   "source": [
    "np.random.seed(100)\n"
   ]
  },
  {
   "cell_type": "code",
   "execution_count": null,
   "metadata": {},
   "outputs": [],
   "source": [
    "#System\n",
    "#http://exoplanets.org/detail/Kepler-19_b\n",
    "#Semi-Major Axis[au]\t0.0846 ± 0.00141\n",
    "#Orbital Period[day]\t9.2869944 ± 8.8×10-6\n",
    "#Orbit Inclination[deg]\t89.94 +0.15/-0.35\n",
    "#Planetary Radius[rjupiter]\t0.1971 ± 0.0043\n",
    "#Radius of Star[rsun]\t0.850 ± 0.018\n",
    "#Time of Periastron[jd]\t2454959.70597 ± 0.00036\n",
    "\n",
    "#Star\n",
    "#Teff[k]\t5541 ± 60\n",
    "#[Fe/H]\t-0.130 ± 0.06\n",
    "#log10(g)\t4.59 ± 0.1\n",
    "#Using - https://astroutils.astronomy.osu.edu/exofast/limbdark.shtml\n",
    "#Kepler bandpass\n",
    "#Quadratic coefficients:\n",
    "#   0.43135341      0.24553668\n",
    "\n",
    "\n",
    "#TESS has a cadence of 2 minutes\n",
    "#0.2 of a day has 144 measurements\n",
    "#1 day = 720 measurements"
   ]
  },
  {
   "cell_type": "code",
   "execution_count": null,
   "metadata": {},
   "outputs": [],
   "source": [
    "def radius_in_stellar_radii(R_planet, R_star):\n",
    "    \"\"\"\n",
    "    Convert planetary radius (R_Jupiter) in stellar radii.\n",
    "    \n",
    "    Parameters\n",
    "    ----------\n",
    "    R_planet : float\n",
    "        Planetary radius in R_Jupiter.\n",
    "\n",
    "    R_star : float\n",
    "        Stellar radius in R_sun.\n",
    "\n",
    "    Returns\n",
    "    -------\n",
    "    R_planet_stellar_radii : float \n",
    "        Planetary radius in stellar radii.\n",
    "\n",
    "    \"\"\"\n",
    "    # 1 R_Jupiter = 0.102763 R_sun\n",
    "\n",
    "    R_planet_stellar_radii = R_planet * 0.102763 / R_star\n",
    "\n",
    "    return R_planet_stellar_radii"
   ]
  },
  {
   "cell_type": "code",
   "execution_count": null,
   "metadata": {},
   "outputs": [],
   "source": [
    "def semi_major_axis_in_stellar_radii(semi_major_axis, R_star):\n",
    "    \"\"\"\n",
    "    Converting the semi-major axis (AU) to (Stellar radii)\n",
    "\n",
    "    Parameters\n",
    "    ----------\n",
    "    semi_major_axis : float\n",
    "        Semi-major axis of the planet in AU.\n",
    "\n",
    "    R_star : float\n",
    "        Stellar radius in R_sun.\n",
    "\n",
    "    Returns\n",
    "    -------\n",
    "    a_stellar_radii : float\n",
    "        Semi-major axis of the planet in stellar radii\n",
    "    \"\"\"\n",
    "    #1 AU = 215.032 R_Sun\n",
    "\n",
    "    a_stellar_radii = semi_major_axis * 215.032 / R_star #Check this\n",
    "\n",
    "    return a_stellar_radii"
   ]
  },
  {
   "cell_type": "code",
   "execution_count": null,
   "metadata": {},
   "outputs": [],
   "source": [
    "true_R_star = 0.850 #R_sun\n",
    "true_R_planet = 0.1971 #R_J\n",
    "true_semi_major_axis = 0.0846 #AU \n",
    "\n",
    "\n",
    "params = batman.TransitParams()\n",
    "params.t0 = 0.                                          #time of inferior conjunction\n",
    "params.per = 9.2869944                                        #orbital period (days)\n",
    "params.rp = radius_in_stellar_radii(true_R_planet, true_R_star)                #planet radius (in units of stellar radii)\n",
    "params.a = semi_major_axis_in_stellar_radii(true_semi_major_axis, true_R_star) #semi-major axis (in units of stellar radii))\n",
    "params.inc = 89.94                                       #orbital inclination (in degrees)\n",
    "params.ecc = 0.0                                         #eccentricity\n",
    "params.w = 90.                                          #longitude of periastron (in degrees)\n",
    "params.limb_dark = \"quadratic\"                          #limb darkening model\n",
    "params.u = [0.43135341, 0.24553668]                             #limb darkening coefficients [u1, u2, u3, u4]\n",
    "\n",
    "t = np.linspace(0, 15, 21600)                      #times at which to calculate light curve\n",
    "m = batman.TransitModel(params, t)                      #initializes model\n",
    "true_flux = m.light_curve(params)"
   ]
  },
  {
   "cell_type": "code",
   "execution_count": null,
   "metadata": {},
   "outputs": [],
   "source": [
    "#Add noise to the signal\n",
    "sigma = 0.00001\n",
    "yerrs = np.random.normal(loc=0., scale=sigma, size=len(true_flux))\n",
    "true_flux += yerrs\n",
    "ysigmas = np.full(len(true_flux), sigma)"
   ]
  },
  {
   "cell_type": "code",
   "execution_count": null,
   "metadata": {},
   "outputs": [],
   "source": [
    "fig, ax = plt.subplots(1, figsize=(8,6))\n",
    "plt.title(\"Kepler-19b - Simulated data points\", size=17)\n",
    "plt.errorbar(t, true_flux, yerr=ysigmas, fmt='.', ecolor='LightGrey', label=\"Expected\")\n",
    "plt.xlabel(\"Time (days)\", size=17)\n",
    "plt.ylabel(\"Normalised flux\", size=17)\n",
    "\n",
    "ax.xaxis.set_tick_params(labelsize=17)\n",
    "ax.yaxis.set_tick_params(labelsize=17)\n",
    "plt.show()"
   ]
  },
  {
   "cell_type": "code",
   "execution_count": null,
   "metadata": {},
   "outputs": [],
   "source": [
    "\n",
    "guess_params = batman.TransitParams()\n",
    "guess_params.t0 = params.t0\n",
    "guess_params.per = params.per\n",
    "\n",
    "guess_params.ecc = params.ecc\n",
    "guess_params.w = params.w\n",
    "guess_params.limb_dark = \"quadratic\"\n",
    "guess_params.u = params.u"
   ]
  },
  {
   "cell_type": "code",
   "execution_count": null,
   "metadata": {},
   "outputs": [],
   "source": [
    "def log_likelihood(prior_params, true_flux, yerrs):\n",
    "    \"\"\"\n",
    "    \n",
    "    Parameters\n",
    "    ----------\n",
    "\n",
    "\n",
    "    Returns\n",
    "    -------\n",
    "    \n",
    "    \"\"\"\n",
    "    orbital_inclination, R_planet, semi_major_axis, orbital_period = prior_params\n",
    "\n",
    "    guess_params.rp = radius_in_stellar_radii(R_planet, true_R_star)\n",
    "    guess_params.inc = orbital_inclination\n",
    "    guess_params.a = semi_major_axis_in_stellar_radii(semi_major_axis, true_R_star)\n",
    "    guess_params.per = orbital_period\n",
    "    \n",
    "    guess_m = batman.TransitModel(guess_params, t)\n",
    "    guess_flux = guess_m.light_curve(guess_params)\n",
    "        \n",
    "    L1 = -0.5 * np.power((true_flux - guess_flux), 2) / np.power(yerrs, 2) #Sigma\n",
    "    L2 = -0.5 * np.log(2 * np.pi * yerrs**2) #Sigma\n",
    "    L3 = np.sum(L1) + np.sum(L2)\n",
    "    return L3\n",
    "\n",
    "\n",
    "def log_prior(prior_params):\n",
    "    \"\"\"\n",
    "    \n",
    "    Parameters\n",
    "    ----------\n",
    "\n",
    "\n",
    "    Returns\n",
    "    -------\n",
    "    \n",
    "    \"\"\"\n",
    "    orbital_inclination, R_planet, semi_major_axis, orbital_period = prior_params\n",
    "\n",
    "    P = 0.0\n",
    "    if (orbital_inclination > 90) or (orbital_inclination < 87):\n",
    "        P += -np.inf\n",
    "        return -np.inf\n",
    "    \n",
    "    if (R_planet < 0) or (R_planet > 0.5):\n",
    "        P += -np.inf\n",
    "        return P\n",
    "\n",
    "    if (semi_major_axis < 0) or (semi_major_axis > 0.3):\n",
    "        P += -np.inf\n",
    "        return P\n",
    "\n",
    "    if (orbital_period < 0) or (orbital_period > 15):\n",
    "       P += -np.inf\n",
    "\n",
    "    return P\n",
    "\n",
    "def log_prob(prior_params, true_flux, yerrs):\n",
    "    lp = log_prior(prior_params)\n",
    "    if (np.isfinite(lp) == False):\n",
    "        return -np.inf\n",
    "\n",
    "    return log_likelihood(prior_params, true_flux, yerrs) + lp"
   ]
  },
  {
   "cell_type": "code",
   "execution_count": null,
   "metadata": {},
   "outputs": [],
   "source": [
    "#orbital_inclination, R_planet, semi_major_axis\n",
    "#guess = [89, 0.18, 0.08]\n",
    "guess = [params.inc, true_R_planet, true_semi_major_axis, params.per]\n",
    "# bnds = ((45, 90), (0, 0.3), (0, 0.2)) #Boundaries\n",
    "\n",
    "# nll = lambda *args: -log_likelihood(*args)\n",
    "\n",
    "# likelihood_model = optimize.minimize(nll, guess, args=(true_flux, ysigmas), bounds=bnds)\n",
    "# model_orbital_inclination, model_R_planet, model_semi_major_axis = likelihood_model['x']\n",
    "# print(likelihood_model)multiple\n",
    "\n"
   ]
  },
  {
   "cell_type": "code",
   "execution_count": null,
   "metadata": {},
   "outputs": [],
   "source": [
    "pos = guess + 1E-4 * np.random.randn(20, 4)\n",
    "\n",
    "nwalkers, ndim = pos.shape\n",
    "\n",
    "filename = \"mcmc_single_transit.h5\"\n",
    "backend = emcee.backends.HDFBackend(filename)\n",
    "backend.reset(nwalkers, ndim)\n",
    "\n",
    "with Pool() as pool:\n",
    "    start_time = time.time()\n",
    "    sampler = emcee.EnsembleSampler(nwalkers, ndim, log_prob, args=(true_flux, ysigmas), a=2)\n",
    "    sampler.run_mcmc(pos, 10000, progress=True)\n",
    "    end_time = time.time() \n",
    "    execution_time = (end_time - start_time)\n",
    "    print(\"Start:       {}\".format(time.ctime(int(start_time))))\n",
    "    print(\"End:         {}\".format(time.ctime(int(end_time))))\n",
    "    print(\"Time taken:  {:.2f} s\".format(execution_time))"
   ]
  },
  {
   "cell_type": "code",
   "execution_count": null,
   "metadata": {},
   "outputs": [],
   "source": [
    "fig, axes = plt.subplots(3, figsize=(10, 7), sharex=True)\n",
    "samples = sampler.get_chain()\n",
    "labels = [\"Orbital inclination (degrees)\", \"Planetary radius (R_Jup)\", \"Semi-major axis (AU)\"]\n",
    "\n",
    "for i in range(ndim):\n",
    "    ax = axes[i]\n",
    "    ax.plot(samples[:, :, i], \"k\", alpha=0.3)\n",
    "    ax.set_xlim(0, len(samples))\n",
    "    ax.set_ylabel(labels[i])\n",
    "    #ax.yaxis.set_label_coords(-0.1, 0.5)\n",
    "\n",
    "axes[-1].set_xlabel(\"step number\")\n",
    "plt.show()"
   ]
  },
  {
   "cell_type": "code",
   "execution_count": null,
   "metadata": {},
   "outputs": [],
   "source": [
    "tau = sampler.get_autocorr_time()\n",
    "print(tau)"
   ]
  },
  {
   "cell_type": "code",
   "execution_count": null,
   "metadata": {},
   "outputs": [],
   "source": [
    "flat_samples = sampler.get_chain(discard=400, thin=15, flat=True)\n",
    "print(flat_samples.shape)"
   ]
  },
  {
   "cell_type": "code",
   "execution_count": null,
   "metadata": {},
   "outputs": [],
   "source": [
    "fig = corner.corner(\n",
    "    flat_samples, labels=labels, truths=[params.inc, true_R_planet, true_semi_major_axis])"
   ]
  },
  {
   "cell_type": "code",
   "execution_count": null,
   "metadata": {},
   "outputs": [],
   "source": [
    "inds = np.random.randint(len(flat_samples), size=100)"
   ]
  },
  {
   "cell_type": "code",
   "execution_count": null,
   "metadata": {},
   "outputs": [],
   "source": [
    "model_params = batman.TransitParams()\n",
    "model_params.t0 = params.t0\n",
    "model_params.per = params.per\n",
    "\n",
    "model_params.ecc = params.ecc\n",
    "model_params.w = params.ecc\n",
    "model_params.limb_dark = \"quadratic\"\n",
    "model_params.u = params.u"
   ]
  },
  {
   "cell_type": "code",
   "execution_count": null,
   "metadata": {},
   "outputs": [],
   "source": [
    "fig, ax = plt.subplots(1, figsize=(8,6))\n",
    "\n",
    "inds = np.random.randint(len(flat_samples), size=1000)\n",
    "for ind in inds:\n",
    "    \n",
    "    model_orbital_inclination, model_R_planet, model_semi_major_axis = flat_samples[ind]\n",
    "\n",
    "    model_params.rp = radius_in_stellar_radii(model_R_planet, true_R_star)\n",
    "    model_params.a = semi_major_axis_in_stellar_radii(model_semi_major_axis, true_R_star)\n",
    "    model_params.inc = model_orbital_inclination\n",
    "\n",
    "    model_m = batman.TransitModel(model_params, t)\n",
    "    model_flux = model_m.light_curve(model_params)\n",
    "\n",
    "    plt.plot(t, model_flux, \"C1\", alpha=0.1)\n",
    "\n",
    "plt.errorbar(t, true_flux, yerr=ysigmas, fmt=\".\", color=\"black\", ecolor=\"LightGrey\", label=\"Data\")\n",
    "\n",
    "ax.xaxis.set_tick_params(labelsize=17)\n",
    "ax.yaxis.set_tick_params(labelsize=17)\n",
    "\n",
    "plt.legend(fontsize=14)\n",
    "plt.xlabel(\"Time from central transit (days)\", size=17)\n",
    "plt.ylabel(\"Normalised flux\", size=17)\n",
    "plt.show()"
   ]
  },
  {
   "cell_type": "code",
   "execution_count": null,
   "metadata": {},
   "outputs": [],
   "source": [
    "for i in range(ndim):\n",
    "    mcmc = np.percentile(flat_samples[:, i], [16, 50, 84])\n",
    "    q = np.diff(mcmc)\n",
    "    txt = \"\\mathrm{{{3}}} = {0:.3f}_{{-{1:.3f}}}^{{{2:.3f}}}\"\n",
    "    txt = txt.format(mcmc[1], q[0], q[1], labels[i])\n",
    "    display(Math(txt))"
   ]
  },
  {
   "cell_type": "code",
   "execution_count": null,
   "metadata": {},
   "outputs": [],
   "source": [
    "model_orbital_inclination = np.percentile(flat_samples[:, 0], 50)\n",
    "model_R_planet = np.percentile(flat_samples[:, 1], 50)\n",
    "model_semi_major_axis = np.percentile(flat_samples[:, 2], 50)\n",
    "\n",
    "model_params.rp = radius_in_stellar_radii(model_R_planet, true_R_star)\n",
    "model_params.a = semi_major_axis_in_stellar_radii(model_semi_major_axis, true_R_star)\n",
    "model_params.inc = model_orbital_inclination\n",
    "\n",
    "model_m = batman.TransitModel(model_params, t)\n",
    "model_flux = model_m.light_curve(model_params)"
   ]
  },
  {
   "cell_type": "code",
   "execution_count": null,
   "metadata": {},
   "outputs": [],
   "source": [
    "residual = true_flux - model_flux"
   ]
  },
  {
   "cell_type": "code",
   "execution_count": null,
   "metadata": {},
   "outputs": [],
   "source": [
    "fig, ax = plt.subplots(1, figsize=(8,6))\n",
    "plt.title(\"Kepler-19b - Single transit mcmc\", size=17)\n",
    "plt.errorbar(t, true_flux, yerr=ysigmas, fmt='.', ecolor='LightGrey', color=\"black\", label=\"Data\")\n",
    "plt.plot(t, model_flux, label=\"Model\", color=\"red\")\n",
    "plt.xlabel(\"Time from central transit (days)\", size=17)\n",
    "plt.ylabel(\"Normalised flux\", size=17)\n",
    "\n",
    "ax.xaxis.set_tick_params(labelsize=17)\n",
    "ax.yaxis.set_tick_params(labelsize=17)\n",
    "ax.legend(prop={'size': 14}, loc=\"lower right\")\n",
    "\n",
    "plt.show()"
   ]
  },
  {
   "cell_type": "code",
   "execution_count": null,
   "metadata": {},
   "outputs": [],
   "source": [
    "#Panel settings\n",
    "left = 0.1\n",
    "bottom = 0.1\n",
    "width = 0.65\n",
    "height = 0.9\n",
    "spacing = -1.15\n",
    "\n",
    "rect = [left, bottom, width, height]\n",
    "rect_res = [left, bottom+height+spacing, width, 0.15]\n",
    "\n",
    "fig = plt.figure(figsize=(8, 6), dpi=500)\n",
    "ax = fig.add_axes(rect)\n",
    "\n",
    "ax_res = fig.add_axes(rect_res, sharex=ax)\n",
    "\n",
    "#Top panel\n",
    "ax.errorbar(t, true_flux, yerr=ysigmas, fmt='.', markersize=5, color='black', ecolor='LightGrey', label=\"Data\")\n",
    "ax.plot(t, model_flux, color='red',label=\"Model\", lw=1)\n",
    "\n",
    "ax.set(ylabel=\"Normalised flux\")\n",
    "ax.xaxis.label.set_size(17)\n",
    "ax.yaxis.label.set_size(17)\n",
    "\n",
    "ax.legend(prop={'size': 14}, loc=\"lower right\")\n",
    "\n",
    "ax.xaxis.set_minor_locator(ticker.AutoMinorLocator())\n",
    "ax.yaxis.set_minor_locator(ticker.AutoMinorLocator())\n",
    "\n",
    "ax.xaxis.set_tick_params(labelsize=17)\n",
    "ax.yaxis.set_tick_params(labelsize=17)\n",
    "\n",
    "#Bottom panel\n",
    "ax_res.scatter(t, residual, color='black', s=5)\n",
    "ax_res.set_ylim((-max(abs(residual))*1.2, max(abs(residual)*1.2)))\n",
    "# ax_res.plot([min(t), max(t)], [0, 0], color='red', lw=1)\n",
    "\n",
    "ax_res.set(xlabel=\"Time from central transit (days)\", ylabel=\"Residuals\")\n",
    "ax_res.xaxis.label.set_size(17)\n",
    "ax_res.yaxis.label.set_size(17)\n",
    "\n",
    "ax_res.xaxis.set_minor_locator(ticker.AutoMinorLocator())\n",
    "ax_res.yaxis.set_minor_locator(ticker.AutoMinorLocator())\n",
    "\n",
    "ax_res.xaxis.set_tick_params(labelsize=17)\n",
    "ax_res.yaxis.set_tick_params(labelsize=17)\n",
    "\n",
    "# fig.subplots_adjust(hspace=0.1)\n",
    "plt.show()"
   ]
  }
 ],
 "metadata": {
  "kernelspec": {
   "display_name": "Python 3.10.4 ('MSci_project')",
   "language": "python",
   "name": "python3"
  },
  "language_info": {
   "codemirror_mode": {
    "name": "ipython",
    "version": 3
   },
   "file_extension": ".py",
   "mimetype": "text/x-python",
   "name": "python",
   "nbconvert_exporter": "python",
   "pygments_lexer": "ipython3",
   "version": "3.10.4 | packaged by conda-forge | (main, Mar 30 2022, 08:38:02) [MSC v.1916 64 bit (AMD64)]"
  },
  "orig_nbformat": 4,
  "vscode": {
   "interpreter": {
    "hash": "7bd4fe6967f9cc850d872c9777b9eeb4234965a4c66e35bcc9347dfc982970e3"
   }
  }
 },
 "nbformat": 4,
 "nbformat_minor": 2
}
