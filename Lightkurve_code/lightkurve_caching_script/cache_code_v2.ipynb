{
 "cells": [
  {
   "cell_type": "code",
   "execution_count": 5,
   "metadata": {},
   "outputs": [],
   "source": [
    "import os\n",
    "import pickle\n",
    "import lightkurve as lk\n",
    "import astropy\n",
    "from astropy.utils.masked import Masked"
   ]
  },
  {
   "cell_type": "code",
   "execution_count": 6,
   "metadata": {},
   "outputs": [
    {
     "ename": "EOFError",
     "evalue": "Ran out of input",
     "output_type": "error",
     "traceback": [
      "\u001b[1;31m---------------------------------------------------------------------------\u001b[0m",
      "\u001b[1;31mEOFError\u001b[0m                                  Traceback (most recent call last)",
      "\u001b[1;32mc:\\Users\\Student\\OneDrive\\MSci project\\MSci2022_TESS\\Lightkurve_code\\lightkurve_caching_script\\cache_code_v2.ipynb Cell 2\u001b[0m in \u001b[0;36m<cell line: 9>\u001b[1;34m()\u001b[0m\n\u001b[0;32m      <a href='vscode-notebook-cell:/c%3A/Users/Student/OneDrive/MSci%20project/MSci2022_TESS/Lightkurve_code/lightkurve_caching_script/cache_code_v2.ipynb#W1sZmlsZQ%3D%3D?line=8'>9</a>\u001b[0m \u001b[39mif\u001b[39;00m LOAD_FROM_CACHE \u001b[39mand\u001b[39;00m os\u001b[39m.\u001b[39mpath\u001b[39m.\u001b[39mexists(cache_pickle):\n\u001b[0;32m     <a href='vscode-notebook-cell:/c%3A/Users/Student/OneDrive/MSci%20project/MSci2022_TESS/Lightkurve_code/lightkurve_caching_script/cache_code_v2.ipynb#W1sZmlsZQ%3D%3D?line=9'>10</a>\u001b[0m     \u001b[39m# From cache.\u001b[39;00m\n\u001b[0;32m     <a href='vscode-notebook-cell:/c%3A/Users/Student/OneDrive/MSci%20project/MSci2022_TESS/Lightkurve_code/lightkurve_caching_script/cache_code_v2.ipynb#W1sZmlsZQ%3D%3D?line=10'>11</a>\u001b[0m     \u001b[39mwith\u001b[39;00m \u001b[39mopen\u001b[39m(cache_pickle, \u001b[39m'\u001b[39m\u001b[39mrb\u001b[39m\u001b[39m'\u001b[39m) \u001b[39mas\u001b[39;00m f:\n\u001b[1;32m---> <a href='vscode-notebook-cell:/c%3A/Users/Student/OneDrive/MSci%20project/MSci2022_TESS/Lightkurve_code/lightkurve_caching_script/cache_code_v2.ipynb#W1sZmlsZQ%3D%3D?line=11'>12</a>\u001b[0m         lc_collection \u001b[39m=\u001b[39m pickle\u001b[39m.\u001b[39;49mload(f)\n\u001b[0;32m     <a href='vscode-notebook-cell:/c%3A/Users/Student/OneDrive/MSci%20project/MSci2022_TESS/Lightkurve_code/lightkurve_caching_script/cache_code_v2.ipynb#W1sZmlsZQ%3D%3D?line=12'>13</a>\u001b[0m \u001b[39melse\u001b[39;00m:\n\u001b[0;32m     <a href='vscode-notebook-cell:/c%3A/Users/Student/OneDrive/MSci%20project/MSci2022_TESS/Lightkurve_code/lightkurve_caching_script/cache_code_v2.ipynb#W1sZmlsZQ%3D%3D?line=13'>14</a>\u001b[0m     \u001b[39m# From MAST data archive.\u001b[39;00m\n\u001b[0;32m     <a href='vscode-notebook-cell:/c%3A/Users/Student/OneDrive/MSci%20project/MSci2022_TESS/Lightkurve_code/lightkurve_caching_script/cache_code_v2.ipynb#W1sZmlsZQ%3D%3D?line=14'>15</a>\u001b[0m     \u001b[39mprint\u001b[39m(\u001b[39m\"\u001b[39m\u001b[39mSearching\u001b[39m\u001b[39m\"\u001b[39m)\n",
      "\u001b[1;31mEOFError\u001b[0m: Ran out of input"
     ]
    }
   ],
   "source": [
    "TIC = 'TIC 66818296' #WASP-17 / TIC 66818296\n",
    "repo_path = r'C:\\\\Users\\Student\\\\OneDrive\\\\MSci project\\\\MSci2022_TESS\\\\Lightkurve_code'\n",
    "LOAD_FROM_CACHE = True\n",
    "\n",
    "\n",
    "# Retrieve data.\n",
    "cache_dir = os.path.join(repo_path, 'lc_cache', '{}.pkl'.format(TIC))\n",
    "cache_pickle = os.path.join(cache_dir, '{}.pkl'.format(TIC))\n",
    "if LOAD_FROM_CACHE and os.path.exists(cache_pickle):\n",
    "    # From cache.\n",
    "    with open(cache_pickle, 'rb') as f:\n",
    "        lc_collection = pickle.load(f)\n",
    "else:\n",
    "    # From MAST data archive.\n",
    "    print(\"Searching\")\n",
    "    search_result = lk.search_lightcurve(\n",
    "        target=TIC,\n",
    "        mission='TESS', author='SPOC')\n",
    "    print(\"trying to download\")\n",
    "    lc_collection = search_result.download_all(download_dir=repo_path)\n",
    "    print(\"Search done\")\n",
    "    print(lc_collection)"
   ]
  },
  {
   "cell_type": "code",
   "execution_count": null,
   "metadata": {},
   "outputs": [],
   "source": []
  }
 ],
 "metadata": {
  "kernelspec": {
   "display_name": "MSci_project",
   "language": "python",
   "name": "python3"
  },
  "language_info": {
   "codemirror_mode": {
    "name": "ipython",
    "version": 3
   },
   "file_extension": ".py",
   "mimetype": "text/x-python",
   "name": "python",
   "nbconvert_exporter": "python",
   "pygments_lexer": "ipython3",
   "version": "3.10.4 | packaged by conda-forge | (main, Mar 30 2022, 08:38:02) [MSC v.1916 64 bit (AMD64)]"
  },
  "orig_nbformat": 4,
  "vscode": {
   "interpreter": {
    "hash": "7bd4fe6967f9cc850d872c9777b9eeb4234965a4c66e35bcc9347dfc982970e3"
   }
  }
 },
 "nbformat": 4,
 "nbformat_minor": 2
}
