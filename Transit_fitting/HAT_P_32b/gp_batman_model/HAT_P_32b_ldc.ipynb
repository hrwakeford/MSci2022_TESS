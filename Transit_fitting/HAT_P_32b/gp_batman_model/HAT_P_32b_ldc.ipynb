{
 "cells": [
  {
   "cell_type": "code",
   "execution_count": 1,
   "metadata": {},
   "outputs": [],
   "source": [
    "from exotic_ld import StellarLimbDarkening"
   ]
  },
  {
   "cell_type": "code",
   "execution_count": 2,
   "metadata": {},
   "outputs": [
    {
     "name": "stdout",
     "output_type": "stream",
     "text": [
      "[0.2366419727326458, 0.2819412888558852]\n"
     ]
    }
   ],
   "source": [
    "# ld_data_path = r\"/data/cluster4/rk19047/exotic_ld_data\"\n",
    "ld_data_path = r\"C:/Users/Student/Documents/exotic_ld_data\"\n",
    "\n",
    "ld_model = 'mps1' # Stellar models grid.\n",
    "\n",
    "M_H = -0.040 # Metallicty [dex].\n",
    "# Bonomo et al. 2017\n",
    "\n",
    "Teff = 6269 # Effective temperature [K].\n",
    "# Zhao et al. 2014\n",
    "\n",
    "logg = 4.33 # Surface gravity [dex].\n",
    "# Nortmann et al. 2016\n",
    "\n",
    "sld = StellarLimbDarkening(M_H, Teff, logg, ld_model, ld_data_path)\n",
    "\n",
    "# Start and end of wavelength interval [angstroms].\n",
    "wavelength_range = [6000., 10000.]\n",
    "\n",
    "# Instrument mode.\n",
    "mode = 'TESS'\n",
    "\n",
    "u1, u2 = sld.compute_quadratic_ld_coeffs(wavelength_range, mode)\n",
    "print([u1, u2])"
   ]
  }
 ],
 "metadata": {
  "kernelspec": {
   "display_name": "MSci_project",
   "language": "python",
   "name": "python3"
  },
  "language_info": {
   "codemirror_mode": {
    "name": "ipython",
    "version": 3
   },
   "file_extension": ".py",
   "mimetype": "text/x-python",
   "name": "python",
   "nbconvert_exporter": "python",
   "pygments_lexer": "ipython3",
   "version": "3.10.4"
  },
  "orig_nbformat": 4,
  "vscode": {
   "interpreter": {
    "hash": "7bd4fe6967f9cc850d872c9777b9eeb4234965a4c66e35bcc9347dfc982970e3"
   }
  }
 },
 "nbformat": 4,
 "nbformat_minor": 2
}
