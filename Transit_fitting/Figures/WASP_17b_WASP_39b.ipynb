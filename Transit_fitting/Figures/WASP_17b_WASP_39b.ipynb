{
 "cells": [
  {
   "cell_type": "code",
   "execution_count": null,
   "metadata": {},
   "outputs": [],
   "source": [
    "import os\n",
    "os.environ[\"OMP_NUM_THREADS\"] = \"4\"\n",
    "\n",
    "import lightkurve as lk\n",
    "import numpy as np\n",
    "import matplotlib.pyplot as plt\n",
    "import matplotlib.ticker as ticker\n",
    "import corner\n",
    "import batman\n",
    "import emcee\n",
    "import time\n",
    "from multiprocessing import Pool\n",
    "from IPython.display import display, Math\n",
    "from matplotlib.ticker import (MultipleLocator, AutoMinorLocator)\n",
    "import matplotlib.ticker as tck\n",
    "\n",
    "from exotic_ld import StellarLimbDarkening\n",
    "\n",
    "import pandas as pd\n",
    "import pickle\n",
    "\n",
    "import celerite2\n",
    "from celerite2 import terms"
   ]
  },
  {
   "cell_type": "code",
   "execution_count": null,
   "metadata": {},
   "outputs": [],
   "source": [
    "TIC = 'TIC 66818296' #WASP-17 / TIC 66818296\n",
    "\n",
    "search_result = lk.search_lightcurve(\n",
    "    target=TIC,\n",
    "    mission='TESS', author='SPOC')\n",
    "print(\"trying to download\")\n",
    "lc_collection = search_result.download_all()\n",
    "WASP_17b_lc_sector_12 = lc_collection[0].remove_nans()\n",
    "WASP_17b_lc_sector_38 = lc_collection[1].remove_nans()\n",
    "print(\"Search done\")\n",
    "print(lc_collection)\n",
    "lc = lc_collection.stitch(corrector_func=lambda x: x.\n",
    "                          remove_nans().normalize(unit='unscaled'))\n",
    "#Sector 12 and sector 38\n",
    "WASP_17b_lc = lc.remove_nans()"
   ]
  },
  {
   "cell_type": "code",
   "execution_count": null,
   "metadata": {},
   "outputs": [],
   "source": [
    "TIC = 'TIC 181949561' #WASP-39b / TIC 181949561\n",
    "\n",
    "search_result = lk.search_lightcurve(\n",
    "    target=TIC,\n",
    "    mission='TESS', author='SPOC')\n",
    "print(\"trying to download\")\n",
    "lc_collection = search_result.download_all()\n",
    "print(\"Search done\")\n",
    "print(lc_collection)\n",
    "lc = lc_collection.stitch(corrector_func=lambda x: x.\n",
    "                          remove_nans().normalize(unit='unscaled'))\n",
    "\n",
    "WASP_39b_lc = lc.remove_nans()"
   ]
  }
 ],
 "metadata": {
  "kernelspec": {
   "display_name": "MSci_project",
   "language": "python",
   "name": "python3"
  },
  "language_info": {
   "name": "python",
   "version": "3.10.4"
  },
  "orig_nbformat": 4,
  "vscode": {
   "interpreter": {
    "hash": "7bd4fe6967f9cc850d872c9777b9eeb4234965a4c66e35bcc9347dfc982970e3"
   }
  }
 },
 "nbformat": 4,
 "nbformat_minor": 2
}
