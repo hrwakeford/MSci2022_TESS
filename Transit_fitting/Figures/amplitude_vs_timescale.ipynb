{
 "cells": [
  {
   "cell_type": "code",
   "execution_count": 26,
   "metadata": {},
   "outputs": [],
   "source": [
    "import lightkurve as lk\n",
    "import numpy as np\n",
    "import matplotlib.pyplot as plt\n",
    "import matplotlib.ticker as ticker\n",
    "\n",
    "\n",
    "from matplotlib.ticker import (MultipleLocator, AutoMinorLocator)\n",
    "import matplotlib.ticker as tck\n",
    "\n",
    "import pandas as pd\n",
    "import pickle"
   ]
  },
  {
   "cell_type": "code",
   "execution_count": 27,
   "metadata": {},
   "outputs": [],
   "source": [
    "\"\"\"\n",
    "WASP-17b\n",
    "\"\"\"\n",
    "filename = r\"C:\\Users\\Student\\OneDrive\\MSci project\\MSci2022_TESS\\Transit_fitting\\WASP_17b\\gp_batman_model\\WASP_17b_flat_samples.p\"\n",
    "with open(filename, \"rb\") as f:\n",
    "    WASP_17b_flat_samples = pickle.load(f)\n",
    "f.close()\n",
    "\n",
    "#batman model\n",
    "WASP_17b_model_T0 = np.percentile(WASP_17b_flat_samples[:, 0], 50) #Mid-transit time (Days)\n",
    "WASP_17b_model_Rp = np.percentile(WASP_17b_flat_samples[:, 1], 50) #Rp/Rs\n",
    "WASP_17b_model_per = np.percentile(WASP_17b_flat_samples[:, 2], 50) #Orbital period (Days)\n",
    "WASP_17b_model_inc = np.percentile(WASP_17b_flat_samples[:, 3], 50) #Orbital inclination (Deg)\n",
    "WASP_17b_model_a = np.percentile(WASP_17b_flat_samples[:, 4], 50) #a/R*\n",
    "\n",
    "#GP model\n",
    "WASP_17b_model_sigma = np.percentile(WASP_17b_flat_samples[:, 5], 50) #amplitude\n",
    "WASP_17b_model_sigma_error = np.diff(np.percentile(WASP_17b_flat_samples[:, 5], [16, 50, 84]))\n",
    "WASP_17b_model_rho = np.percentile(WASP_17b_flat_samples[:, 6], 50) #time scale\n",
    "WASP_17b_model_rho_error = np.diff(np.percentile(WASP_17b_flat_samples[:, 6], [16, 50, 84]))"
   ]
  },
  {
   "cell_type": "code",
   "execution_count": 28,
   "metadata": {},
   "outputs": [],
   "source": [
    "\"\"\"\n",
    "WASP-39b\n",
    "\"\"\"\n",
    "filename = r\"C:\\Users\\Student\\OneDrive\\MSci project\\MSci2022_TESS\\Transit_fitting\\WASP_39b\\gp_batman_model\\WASP_39b_gp_batman_flat_samples.p\"\n",
    "with open(filename, \"rb\") as f:\n",
    "    WASP_39b_flat_samples = pickle.load(f)\n",
    "f.close()\n",
    "\n",
    "#batman model\n",
    "WASP_39b_model_T0 = np.percentile(WASP_39b_flat_samples[:, 0], 50) #Mid-transit time (Days)\n",
    "WASP_39b_model_Rp = np.percentile(WASP_39b_flat_samples[:, 1], 50) #Rp/Rs\n",
    "WASP_39b_model_per = np.percentile(WASP_39b_flat_samples[:, 2], 50) #Orbital period (Days)\n",
    "WASP_39b_model_inc = np.percentile(WASP_17b_flat_samples[:, 3], 50) #Orbital inclination (Deg)\n",
    "WASP_39b_model_a = np.percentile(WASP_39b_flat_samples[:, 4], 50) #a/R*\n",
    "\n",
    "#GP model\n",
    "WASP_39b_model_sigma = np.percentile(WASP_39b_flat_samples[:, 5], 50) #amplitude\n",
    "WASP_39b_model_sigma_error = np.diff(np.percentile(WASP_39b_flat_samples[:, 5], [16, 50, 84]))\n",
    "WASP_39b_model_rho = np.percentile(WASP_39b_flat_samples[:, 6], 50) #time scale\n",
    "WASP_39b_model_rho_error = np.diff(np.percentile(WASP_39b_flat_samples[:, 6], [16, 50, 84]))"
   ]
  },
  {
   "cell_type": "code",
   "execution_count": 29,
   "metadata": {},
   "outputs": [],
   "source": [
    "\"\"\"\n",
    "HAT_P_26b\n",
    "\"\"\"\n",
    "filename = r\"C:\\Users\\Student\\OneDrive\\MSci project\\MSci2022_TESS\\Transit_fitting\\HAT_P_26b\\gp_batman_model\\free_ecc\\HAT_P_26b_free_ecc_gp_batman_flat_samples.p\"\n",
    "with open(filename, \"rb\") as f:\n",
    "    HAT_P_26b_flat_samples = pickle.load(f)\n",
    "f.close()\n",
    "\n",
    "#batman model\n",
    "HAT_P_26b_model_T0 = np.percentile(HAT_P_26b_flat_samples[:, 0], 50) #Mid-transit time (Days)\n",
    "HAT_P_26b_model_Rp = np.percentile(HAT_P_26b_flat_samples[:, 1], 50) #Rp/Rs\n",
    "HAT_P_26b_model_per = np.percentile(HAT_P_26b_flat_samples[:, 2], 50) #Orbital period (Days)\n",
    "HAT_P_26b_model_inc = np.percentile(HAT_P_26b_flat_samples[:, 3], 50) #Orbital inclination (Deg)\n",
    "HAT_P_26b_model_a = np.percentile(HAT_P_26b_flat_samples[:, 4], 50) #a/R*\n",
    "HAT_P_26b_model_ecc = np.percentile(HAT_P_26b_flat_samples[:, 5], 50) #Eccentricity\n",
    "\n",
    "#GP model\n",
    "HAT_P_26b_model_sigma = np.percentile(HAT_P_26b_flat_samples[:, 6], 50) #amplitude\n",
    "HAT_P_26b_model_sigma_error = np.diff(np.percentile(HAT_P_26b_flat_samples[:, 6], [16, 50, 84]))\n",
    "HAT_P_26b_model_rho = np.percentile(HAT_P_26b_flat_samples[:, 7], 50) #time scale\n",
    "HAT_P_26b_model_rho_error = np.diff(np.percentile(HAT_P_26b_flat_samples[:, 7], [16, 50, 84]))"
   ]
  },
  {
   "cell_type": "code",
   "execution_count": 30,
   "metadata": {},
   "outputs": [],
   "source": [
    "\"\"\"\n",
    "HAT_P_32b\n",
    "\"\"\"\n",
    "filename = r\"C:\\Users\\Student\\OneDrive\\MSci project\\MSci2022_TESS\\Transit_fitting\\HAT_P_32b\\gp_batman_model\\free_ecc\\HAT_P_32b_free_ecc_gp_batman_flat_samples.p\"\n",
    "with open(filename, \"rb\") as f:\n",
    "    HAT_P_32b_flat_samples = pickle.load(f)\n",
    "f.close()\n",
    "\n",
    "#batman model\n",
    "HAT_P_32b_model_T0 = np.percentile(HAT_P_32b_flat_samples[:, 0], 50) #Mid-transit time (Days)\n",
    "HAT_P_32b_model_Rp = np.percentile(HAT_P_32b_flat_samples[:, 1], 50) #Rp/Rs\n",
    "HAT_P_32b_model_per = np.percentile(HAT_P_32b_flat_samples[:, 2], 50) #Orbital period (Days)\n",
    "HAT_P_32b_model_inc = np.percentile(HAT_P_32b_flat_samples[:, 3], 50) #Orbital inclination (Deg)\n",
    "HAT_P_32b_model_a = np.percentile(HAT_P_32b_flat_samples[:, 4], 50) #a/R*\n",
    "HAT_P_32b_model_ecc = np.percentile(HAT_P_32b_flat_samples[:, 5], 50) #Eccentricity\n",
    "\n",
    "#GP model\n",
    "HAT_P_32b_model_sigma = np.percentile(HAT_P_32b_flat_samples[:, 6], 50) #amplitude\n",
    "HAT_P_32b_model_sigma_error = np.diff(np.percentile(HAT_P_32b_flat_samples[:, 6], [16, 50, 84]))\n",
    "HAT_P_32b_model_rho = np.percentile(HAT_P_32b_flat_samples[:, 7], 50) #time scale\n",
    "HAT_P_32b_model_rho_error = np.diff(np.percentile(HAT_P_32b_flat_samples[:, 7], [16, 50, 84]))"
   ]
  },
  {
   "cell_type": "code",
   "execution_count": 48,
   "metadata": {},
   "outputs": [],
   "source": [
    "labels = [\"HAT-P-26b\", \"WASP-17b\", \"HAT-P-32b\", \"WASP-39b\"]\n",
    "colour_list = ['#ff7f0e', '#2ca02c', '#9467bd', '#d62728']\n",
    "\n",
    "markers = [\"o\", \"s\", \"^\", \"D\"]\n",
    "\n",
    "sigma_list = [WASP_39b_model_sigma, HAT_P_32b_model_sigma, WASP_17b_model_sigma, HAT_P_26b_model_sigma]\n",
    "sigma_errors = [WASP_39b_model_sigma_error, HAT_P_32b_model_sigma_error, WASP_17b_model_sigma_error, HAT_P_26b_model_sigma_error]\n",
    "sigma_error_list = [max(abs(err1), abs(err2)) for err1, err2 in sigma_errors]\n",
    "\n",
    "rho_list = [WASP_39b_model_rho, HAT_P_32b_model_rho, WASP_17b_model_rho, HAT_P_26b_model_rho]\n",
    "rho_errors = [WASP_39b_model_rho_error, HAT_P_32b_model_rho_error, WASP_17b_model_rho_error, HAT_P_26b_model_rho_error]\n",
    "rho_error_list = [max(abs(err1), abs(err2)) for err1, err2 in rho_errors]\n",
    "\n",
    "sigma_percent_list = np.multiply(sigma_list, 100)\n",
    "sigma_percent_error_list = np.multiply(np.divide(sigma_error_list, sigma_list), sigma_percent_list)\n"
   ]
  },
  {
   "cell_type": "code",
   "execution_count": 32,
   "metadata": {},
   "outputs": [],
   "source": [
    "# \"\"\"\n",
    "# Rp/Rs vs Amplitude\n",
    "\n",
    "# \"\"\"\n",
    "\n",
    "# fontsize = 15\n",
    "\n",
    "# fig, ax = plt.subplots(1, figsize=(8,6))\n",
    "\n",
    "# for sigma, Rp, sigma_err, Rp_error, label, mark in zip(sigma_list, Rp_list, sigma_error_list, Rp_errors_list, labels, markers):\n",
    "#     ax.errorbar(sigma, Rp, xerr=sigma_err, yerr=Rp_error, fmt=\".\", ecolor=\"LightGrey\", markersize=0, zorder=0)\n",
    "#     ax.scatter(sigma, Rp, label=label, marker=mark, zorder=10, s=40)\n",
    "\n",
    "\n",
    "# ax.set_xlabel(\"Amplitude $\\\\sigma$\", size=fontsize)\n",
    "# ax.set_ylabel(\"$R_{p}/R_{*}$\", size=fontsize)\n",
    "# ax.set_xlim([0, 0.0029])\n",
    "# ax.set_ylim([0, 0.31])\n",
    "\n",
    "# ax.xaxis.set_tick_params(labelsize=fontsize)\n",
    "# ax.yaxis.set_tick_params(labelsize=fontsize)\n",
    "\n",
    "# # Mirror y\n",
    "# axy = ax.twinx()\n",
    "# axy.set_ylim(ax.get_ylim())\n",
    "# axy.get_yaxis().set_ticklabels([])\n",
    "# axy.tick_params(which=\"both\", direction=\"in\")\n",
    "\n",
    "# # Mirror x\n",
    "# axx = ax.twiny()\n",
    "# axx.set_xlim(ax.get_xlim())\n",
    "# axx.get_xaxis().set_ticklabels([])\n",
    "# axx.tick_params(which=\"both\", direction=\"in\")\n",
    "\n",
    "# axx.xaxis.set_minor_locator(ticker.AutoMinorLocator())\n",
    "# axy.yaxis.set_minor_locator(ticker.AutoMinorLocator())\n",
    "# ax.xaxis.set_minor_locator(ticker.AutoMinorLocator())\n",
    "# ax.yaxis.set_minor_locator(ticker.AutoMinorLocator())\n",
    "\n",
    "# ax.legend(loc='upper right', prop={'size': fontsize})\n",
    "# plt.show()"
   ]
  },
  {
   "cell_type": "code",
   "execution_count": 50,
   "metadata": {},
   "outputs": [
    {
     "data": {
      "image/png": "[encoded data removed]",
      "text/plain": [
       "<Figure size 800x600 with 3 Axes>"
      ]
     },
     "metadata": {},
     "output_type": "display_data"
    }
   ],
   "source": [
    "fontsize = 15\n",
    "\n",
    "fig, ax = plt.subplots(1, figsize=(8,6))\n",
    "\n",
    "for sigma, rho, sigma_err, rho_error, label, mark, colour in zip(sigma_percent_list, rho_list, sigma_percent_error_list, rho_error_list, labels, markers, colour_list):\n",
    "    ax.errorbar(sigma, rho, xerr=sigma_err, yerr=rho_error, fmt=\".\", ecolor=\"LightGrey\", markersize=0, zorder=0)\n",
    "    ax.scatter(sigma, rho, label=label, marker=mark, zorder=10, s=30, color=colour)\n",
    "\n",
    "\n",
    "ax.set_xlabel(\"Amplitude $\\\\sigma$ (%)\", size=fontsize)\n",
    "ax.set_ylabel(\"Timescale $\\\\rho$ (days)\", size=fontsize)\n",
    "ax.set_xlim([0, 0.1675]) #Amplitude\n",
    "ax.set_ylim([0, 2.4]) #Rho\n",
    "\n",
    "\n",
    "ax.xaxis.set_tick_params(labelsize=fontsize)\n",
    "ax.yaxis.set_tick_params(labelsize=fontsize)\n",
    "\n",
    "# Mirror y\n",
    "axy = ax.twinx()\n",
    "axy.set_ylim(ax.get_ylim())\n",
    "axy.get_yaxis().set_ticklabels([])\n",
    "axy.tick_params(which=\"both\", direction=\"in\")\n",
    "\n",
    "# Mirror x\n",
    "axx = ax.twiny()\n",
    "axx.set_xlim(ax.get_xlim())\n",
    "axx.get_xaxis().set_ticklabels([])\n",
    "axx.tick_params(which=\"both\", direction=\"in\")\n",
    "\n",
    "axx.xaxis.set_minor_locator(ticker.AutoMinorLocator())\n",
    "axy.yaxis.set_minor_locator(ticker.AutoMinorLocator())\n",
    "ax.xaxis.set_minor_locator(ticker.AutoMinorLocator())\n",
    "ax.yaxis.set_minor_locator(ticker.AutoMinorLocator())\n",
    "\n",
    "ax.legend(loc='best', prop={'size': fontsize})\n",
    "plt.show()"
   ]
  },
  {
   "attachments": {},
   "cell_type": "markdown",
   "metadata": {},
   "source": [
    "A plot showing the Matern-3/2 kernel parameters timescale, $\\rho$, against amplitude $\\sigma$ of the four planets.\n",
    "\n",
    "WASP-17b has the longest baseline out of the four planets, thus has a smaller uncertainity.\n",
    "WASP-39b has the shortest baseline out of the four planets, thus it has a larger uncertainity.\n",
    "\n",
    "HAT-P-26b appears to be the quietest planet out of the four planets.\n",
    "\n",
    "\n",
    "There may be a relationship between amplitude and timescale, more data points will be required."
   ]
  }
 ],
 "metadata": {
  "kernelspec": {
   "display_name": "MSci_project",
   "language": "python",
   "name": "python3"
  },
  "language_info": {
   "codemirror_mode": {
    "name": "ipython",
    "version": 3
   },
   "file_extension": ".py",
   "mimetype": "text/x-python",
   "name": "python",
   "nbconvert_exporter": "python",
   "pygments_lexer": "ipython3",
   "version": "3.10.4"
  },
  "orig_nbformat": 4,
  "vscode": {
   "interpreter": {
    "hash": "7bd4fe6967f9cc850d872c9777b9eeb4234965a4c66e35bcc9347dfc982970e3"
   }
  }
 },
 "nbformat": 4,
 "nbformat_minor": 2
}
