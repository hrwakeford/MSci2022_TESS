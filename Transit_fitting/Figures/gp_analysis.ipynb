{
 "cells": [
  {
   "cell_type": "code",
   "execution_count": 5,
   "metadata": {},
   "outputs": [],
   "source": [
    "import lightkurve as lk\n",
    "import numpy as np\n",
    "import matplotlib.pyplot as plt\n",
    "import matplotlib.ticker as ticker\n",
    "\n",
    "\n",
    "from matplotlib.ticker import (MultipleLocator, AutoMinorLocator)\n",
    "import matplotlib.ticker as tck\n",
    "\n",
    "import pandas as pd\n",
    "import pickle"
   ]
  },
  {
   "cell_type": "code",
   "execution_count": 6,
   "metadata": {},
   "outputs": [],
   "source": [
    "\"\"\"\n",
    "WASP-17b\n",
    "\"\"\"\n",
    "filename = r\"C:\\Users\\Student\\OneDrive\\MSci project\\MSci2022_TESS\\Transit_fitting\\WASP_17b\\gp_batman_model\\WASP_17b_flat_samples.p\"\n",
    "with open(filename, \"rb\") as f:\n",
    "    WASP_17b_flat_samples = pickle.load(f)\n",
    "f.close()\n",
    "\n",
    "#batman model\n",
    "WASP_17b_model_T0 = np.percentile(WASP_17b_flat_samples[:, 0], 50) #Mid-transit time (Days)\n",
    "WASP_17b_model_Rp = np.percentile(WASP_17b_flat_samples[:, 1], 50) #Rp/Rs\n",
    "WASP_17b_model_per = np.percentile(WASP_17b_flat_samples[:, 2], 50) #Orbital period (Days)\n",
    "WASP_17b_model_inc = np.percentile(WASP_17b_flat_samples[:, 3], 50) #Orbital inclination (Deg)\n",
    "WASP_17b_model_a = np.percentile(WASP_17b_flat_samples[:, 4], 50) #a/R*\n",
    "\n",
    "#GP model\n",
    "WASP_17b_model_sigma = np.percentile(WASP_17b_flat_samples[:, 5], 50) #amplitude\n",
    "WASP_17b_model_sigma_error = np.percentile(WASP_17b_flat_samples[:, 5], [16, 84])\n",
    "WASP_17b_model_rho = np.percentile(WASP_17b_flat_samples[:, 6], 50) #time scale\n",
    "WASP_17b_model_rho_error = np.percentile(WASP_17b_flat_samples[:, 6], [16, 84])"
   ]
  },
  {
   "cell_type": "code",
   "execution_count": 9,
   "metadata": {},
   "outputs": [],
   "source": [
    "\"\"\"\n",
    "WASP-39b\n",
    "\"\"\"\n",
    "filename = r\"C:\\Users\\Student\\OneDrive\\MSci project\\MSci2022_TESS\\Transit_fitting\\WASP_39b\\gp_batman_model\\WASP_39b_gp_batman_flat_samples.p\"\n",
    "with open(filename, \"rb\") as f:\n",
    "    WASP_39b_flat_samples = pickle.load(f)\n",
    "f.close()\n",
    "\n",
    "#batman model\n",
    "WASP_39b_model_T0 = np.percentile(WASP_39b_flat_samples[:, 0], 50) #Mid-transit time (Days)\n",
    "WASP_39b_model_Rp = np.percentile(WASP_39b_flat_samples[:, 1], 50) #Rp/Rs\n",
    "WASP_39b_model_per = np.percentile(WASP_39b_flat_samples[:, 2], 50) #Orbital period (Days)\n",
    "WASP_39b_model_inc = np.percentile(WASP_17b_flat_samples[:, 3], 50) #Orbital inclination (Deg)\n",
    "WASP_39b_model_a = np.percentile(WASP_39b_flat_samples[:, 4], 50) #a/R*\n",
    "\n",
    "#GP model\n",
    "WASP_39b_model_sigma = np.percentile(WASP_39b_flat_samples[:, 5], 50) #amplitude\n",
    "WASP_39b_model_sigma_error = np.percentile(WASP_39b_flat_samples[:, 5], [16, 84])\n",
    "WASP_39b_model_rho = np.percentile(WASP_39b_flat_samples[:, 6], 50) #time scale\n",
    "WASP_39b_model_rho_error = np.percentile(WASP_39b_flat_samples[:, 6], [16, 84])"
   ]
  },
  {
   "cell_type": "code",
   "execution_count": 11,
   "metadata": {},
   "outputs": [],
   "source": [
    "\"\"\"\n",
    "HAT_P_26b\n",
    "\"\"\"\n",
    "filename = r\"C:\\Users\\Student\\OneDrive\\MSci project\\MSci2022_TESS\\Transit_fitting\\HAT_P_26b\\gp_batman_model\\free_ecc\\HAT_P_26b_free_ecc_gp_batman_flat_samples.p\"\n",
    "with open(filename, \"rb\") as f:\n",
    "    HAT_P_26b_flat_samples = pickle.load(f)\n",
    "f.close()\n",
    "\n",
    "#batman model\n",
    "HAT_P_26b_model_T0 = np.percentile(HAT_P_26b_flat_samples[:, 0], 50) #Mid-transit time (Days)\n",
    "HAT_P_26b_model_Rp = np.percentile(HAT_P_26b_flat_samples[:, 1], 50) #Rp/Rs\n",
    "HAT_P_26b_model_per = np.percentile(HAT_P_26b_flat_samples[:, 2], 50) #Orbital period (Days)\n",
    "HAT_P_26b_model_inc = np.percentile(HAT_P_26b_flat_samples[:, 3], 50) #Orbital inclination (Deg)\n",
    "HAT_P_26b_model_a = np.percentile(HAT_P_26b_flat_samples[:, 4], 50) #a/R*\n",
    "HAT_P_26b_model_ecc = np.percentile(HAT_P_26b_flat_samples[:, 5], 50) #Eccentricity\n",
    "\n",
    "#GP model\n",
    "HAT_P_26b_model_sigma = np.percentile(HAT_P_26b_flat_samples[:, 6], 50) #amplitude\n",
    "HAT_P_26b_model_sigma_error = np.percentile(HAT_P_26b_flat_samples[:, 6], [16, 84])\n",
    "HAT_P_26b_model_rho = np.percentile(HAT_P_26b_flat_samples[:, 7], 50) #time scale\n",
    "HAT_P_26b_model_rho_error = np.percentile(HAT_P_26b_flat_samples[:, 7], [16, 84])"
   ]
  },
  {
   "cell_type": "code",
   "execution_count": 12,
   "metadata": {},
   "outputs": [],
   "source": [
    "\"\"\"\n",
    "HAT_P_32b\n",
    "\"\"\"\n",
    "filename = r\"C:\\Users\\Student\\OneDrive\\MSci project\\MSci2022_TESS\\Transit_fitting\\HAT_P_32b\\gp_batman_model\\free_ecc\\HAT_P_32b_free_ecc_gp_batman_flat_samples.p\"\n",
    "with open(filename, \"rb\") as f:\n",
    "    HAT_P_32b_flat_samples = pickle.load(f)\n",
    "f.close()\n",
    "\n",
    "#batman model\n",
    "HAT_P_32b_model_T0 = np.percentile(HAT_P_32b_flat_samples[:, 0], 50) #Mid-transit time (Days)\n",
    "HAT_P_32b_model_Rp = np.percentile(HAT_P_32b_flat_samples[:, 1], 50) #Rp/Rs\n",
    "HAT_P_32b_model_per = np.percentile(HAT_P_32b_flat_samples[:, 2], 50) #Orbital period (Days)\n",
    "HAT_P_32b_model_inc = np.percentile(HAT_P_32b_flat_samples[:, 3], 50) #Orbital inclination (Deg)\n",
    "HAT_P_32b_model_a = np.percentile(HAT_P_32b_flat_samples[:, 4], 50) #a/R*\n",
    "HAT_P_32b_model_ecc = np.percentile(HAT_P_32b_flat_samples[:, 5], 50) #Eccentricity\n",
    "\n",
    "#GP model\n",
    "HAT_P_32b_model_sigma = np.percentile(HAT_P_32b_flat_samples[:, 6], 50) #amplitude\n",
    "HAT_P_32b_model_sigma_error = np.percentile(HAT_P_32b_flat_samples[:, 6], [16, 84])\n",
    "HAT_P_32b_model_rho = np.percentile(HAT_P_32b_flat_samples[:, 7], 50) #time scale\n",
    "HAT_P_32b_model_rho_error = np.percentile(HAT_P_32b_flat_samples[:, 7], [16, 84])"
   ]
  },
  {
   "cell_type": "code",
   "execution_count": 20,
   "metadata": {},
   "outputs": [],
   "source": [
    "labels = [\"WASP-17b\", \"WASP-39b\", \"HAT-P-26b\", \"HAT-P-32b\"]\n",
    "\n",
    "sigma_list = [WASP_17b_model_sigma, WASP_39b_model_sigma, HAT_P_26b_model_sigma, HAT_P_32b_model_sigma]\n",
    "sigma_errors = [WASP_17b_model_sigma_error, WASP_39b_model_sigma_error, HAT_P_26b_model_sigma_error, HAT_P_32b_model_sigma_error]\n",
    "sigma_error_list = [max(abs(err1), abs(err2)) for err1, err2 in sigma_errors]\n",
    "\n",
    "rho_list = [WASP_17b_model_rho, WASP_39b_model_rho, HAT_P_26b_model_rho, HAT_P_32b_model_rho]\n",
    "rho_errors = [WASP_17b_model_rho_error, WASP_39b_model_rho_error, HAT_P_26b_model_rho_error, HAT_P_32b_model_rho_error]\n",
    "rho_error_list = [max(abs(err1), abs(err2)) for err1, err2 in rho_errors]\n"
   ]
  },
  {
   "cell_type": "code",
   "execution_count": 33,
   "metadata": {},
   "outputs": [
    {
     "data": {
      "image/png": "[encoded data removed]",
      "text/plain": [
       "<Figure size 800x600 with 1 Axes>"
      ]
     },
     "metadata": {},
     "output_type": "display_data"
    }
   ],
   "source": [
    "fig, ax = plt.subplots(1, figsize=(8,6))\n",
    "\n",
    "\n",
    "plt.errorbar(sigma_list, rho_list, xerr=sigma_error_list, yerr=rho_error_list, fmt=\".\", ecolor=\"LightGrey\", color=\"black\")\n",
    "# plt.scatter(sigma_list, rho_list)\n",
    "plt.xlabel(\"Amplitude $\\\\sigma$\")\n",
    "plt.ylabel(\"Timescale $\\\\rho$ (Days)\")\n",
    "plt.show()"
   ]
  }
 ],
 "metadata": {
  "kernelspec": {
   "display_name": "MSci_project",
   "language": "python",
   "name": "python3"
  },
  "language_info": {
   "codemirror_mode": {
    "name": "ipython",
    "version": 3
   },
   "file_extension": ".py",
   "mimetype": "text/x-python",
   "name": "python",
   "nbconvert_exporter": "python",
   "pygments_lexer": "ipython3",
   "version": "3.10.4"
  },
  "orig_nbformat": 4,
  "vscode": {
   "interpreter": {
    "hash": "7bd4fe6967f9cc850d872c9777b9eeb4234965a4c66e35bcc9347dfc982970e3"
   }
  }
 },
 "nbformat": 4,
 "nbformat_minor": 2
}
