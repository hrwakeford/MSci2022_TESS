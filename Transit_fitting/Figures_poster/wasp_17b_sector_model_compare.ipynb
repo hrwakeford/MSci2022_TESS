{
 "cells": [
  {
   "cell_type": "code",
   "execution_count": 1,
   "metadata": {},
   "outputs": [],
   "source": [
    "import pandas as pd\n",
    "import numpy as np\n",
    "import matplotlib.pyplot as plt\n",
    "import matplotlib.ticker as tck\n",
    "import scipy\n",
    "import re\n",
    "\n",
    "import sys\n",
    "sys.path.insert(0, r'/Users/Student/OneDrive/MSci project/MSci2022_TESS/packages')\n",
    "from parameters_reading import read_df_params"
   ]
  },
  {
   "cell_type": "code",
   "execution_count": 2,
   "metadata": {},
   "outputs": [],
   "source": [
    "df = pd.read_csv(\"measured_wasp_17b_params.csv\")#, header=None)\n",
    "df = df.set_index('Parameter')"
   ]
  },
  {
   "cell_type": "code",
   "execution_count": 3,
   "metadata": {},
   "outputs": [
    {
     "data": {
      "text/html": [
       "<div>\n",
       "<style scoped>\n",
       "    .dataframe tbody tr th:only-of-type {\n",
       "        vertical-align: middle;\n",
       "    }\n",
       "\n",
       "    .dataframe tbody tr th {\n",
       "        vertical-align: top;\n",
       "    }\n",
       "\n",
       "    .dataframe thead th {\n",
       "        text-align: right;\n",
       "    }\n",
       "</style>\n",
       "<table border=\"1\" class=\"dataframe\">\n",
       "  <thead>\n",
       "    <tr style=\"text-align: right;\">\n",
       "      <th></th>\n",
       "      <th>A</th>\n",
       "      <th>B</th>\n",
       "      <th>C</th>\n",
       "      <th>D</th>\n",
       "    </tr>\n",
       "    <tr>\n",
       "      <th>Parameter</th>\n",
       "      <th></th>\n",
       "      <th></th>\n",
       "      <th></th>\n",
       "      <th></th>\n",
       "    </tr>\n",
       "  </thead>\n",
       "  <tbody>\n",
       "    <tr>\n",
       "      <th>T_0</th>\n",
       "      <td>1630.8616428840369+0.00039904889376884967-0.00...</td>\n",
       "      <td>1630.8614018713324+0.00023805651130714978-0.00...</td>\n",
       "      <td>1630.861610663565+0.00029717062670897576-0.000...</td>\n",
       "      <td>1630.8614881350509+0.00026684631575335516-0.00...</td>\n",
       "    </tr>\n",
       "    <tr>\n",
       "      <th>RpRs</th>\n",
       "      <td>0.1203829698708299+0.00046385548844797564-0.00...</td>\n",
       "      <td>0.12130714805888419+0.000404658423926868-0.000...</td>\n",
       "      <td>0.12132331355382717+0.0009057218589828414-0.00...</td>\n",
       "      <td>0.12217592094892667+0.0005177504782353098-0.00...</td>\n",
       "    </tr>\n",
       "    <tr>\n",
       "      <th>P</th>\n",
       "      <td>3.7353984634338695+0.00012925396875784756-0.00...</td>\n",
       "      <td>3.735484831616331+0.0000006232-0.0000016617</td>\n",
       "      <td>3.735457546163345+0.00005353-0.00006277</td>\n",
       "      <td>3.735484553218816+0.0000018351-0.0000018212</td>\n",
       "    </tr>\n",
       "    <tr>\n",
       "      <th>i</th>\n",
       "      <td>88.39568159446347+0.8557190483726771-0.9860796...</td>\n",
       "      <td>87.54069213161702+0.43098898185745327-0.514004...</td>\n",
       "      <td>88.05242038422188+0.8237098425502438-1.0511485...</td>\n",
       "      <td>87.30852050543098+0.39644874320137546-0.446981...</td>\n",
       "    </tr>\n",
       "    <tr>\n",
       "      <th>a/R*</th>\n",
       "      <td>7.39832492366634+0.20282872618265113-0.1335052...</td>\n",
       "      <td>7.190146553234434+0.12385182418808682-0.128598...</td>\n",
       "      <td>7.309401355606358+0.21775645687941125-0.181765...</td>\n",
       "      <td>7.115132869990389+0.12153948281163807-0.123589...</td>\n",
       "    </tr>\n",
       "    <tr>\n",
       "      <th>sigma</th>\n",
       "      <td>---</td>\n",
       "      <td>---</td>\n",
       "      <td>0.0008084652860793481+0.00007816-0.00010340527...</td>\n",
       "      <td>0.0005494388244872845+0.00003614-0.00004188</td>\n",
       "    </tr>\n",
       "    <tr>\n",
       "      <th>rho</th>\n",
       "      <td>---</td>\n",
       "      <td>---</td>\n",
       "      <td>0.19044211595490584+0.027793919426255725-0.034...</td>\n",
       "      <td>0.19517484193733126+0.023188086236041294-0.028...</td>\n",
       "    </tr>\n",
       "    <tr>\n",
       "      <th>colour</th>\n",
       "      <td>(0.254627, 0.013882, 0.615419, 1.0)</td>\n",
       "      <td>(0.650746, 0.125309, 0.595617, 1.0)</td>\n",
       "      <td>(0.907365, 0.434524, 0.35297, 1.0)</td>\n",
       "      <td>(0.988648, 0.809579, 0.145357, 1.0)</td>\n",
       "    </tr>\n",
       "  </tbody>\n",
       "</table>\n",
       "</div>"
      ],
      "text/plain": [
       "                                                           A  \\\n",
       "Parameter                                                      \n",
       "T_0        1630.8616428840369+0.00039904889376884967-0.00...   \n",
       "RpRs       0.1203829698708299+0.00046385548844797564-0.00...   \n",
       "P          3.7353984634338695+0.00012925396875784756-0.00...   \n",
       "i          88.39568159446347+0.8557190483726771-0.9860796...   \n",
       "a/R*       7.39832492366634+0.20282872618265113-0.1335052...   \n",
       "sigma                                                    ---   \n",
       "rho                                                      ---   \n",
       "colour                   (0.254627, 0.013882, 0.615419, 1.0)   \n",
       "\n",
       "                                                           B  \\\n",
       "Parameter                                                      \n",
       "T_0        1630.8614018713324+0.00023805651130714978-0.00...   \n",
       "RpRs       0.12130714805888419+0.000404658423926868-0.000...   \n",
       "P                3.735484831616331+0.0000006232-0.0000016617   \n",
       "i          87.54069213161702+0.43098898185745327-0.514004...   \n",
       "a/R*       7.190146553234434+0.12385182418808682-0.128598...   \n",
       "sigma                                                    ---   \n",
       "rho                                                      ---   \n",
       "colour                   (0.650746, 0.125309, 0.595617, 1.0)   \n",
       "\n",
       "                                                           C  \\\n",
       "Parameter                                                      \n",
       "T_0        1630.861610663565+0.00029717062670897576-0.000...   \n",
       "RpRs       0.12132331355382717+0.0009057218589828414-0.00...   \n",
       "P                    3.735457546163345+0.00005353-0.00006277   \n",
       "i          88.05242038422188+0.8237098425502438-1.0511485...   \n",
       "a/R*       7.309401355606358+0.21775645687941125-0.181765...   \n",
       "sigma      0.0008084652860793481+0.00007816-0.00010340527...   \n",
       "rho        0.19044211595490584+0.027793919426255725-0.034...   \n",
       "colour                    (0.907365, 0.434524, 0.35297, 1.0)   \n",
       "\n",
       "                                                           D  \n",
       "Parameter                                                     \n",
       "T_0        1630.8614881350509+0.00026684631575335516-0.00...  \n",
       "RpRs       0.12217592094892667+0.0005177504782353098-0.00...  \n",
       "P                3.735484553218816+0.0000018351-0.0000018212  \n",
       "i          87.30852050543098+0.39644874320137546-0.446981...  \n",
       "a/R*       7.115132869990389+0.12153948281163807-0.123589...  \n",
       "sigma            0.0005494388244872845+0.00003614-0.00004188  \n",
       "rho        0.19517484193733126+0.023188086236041294-0.028...  \n",
       "colour                   (0.988648, 0.809579, 0.145357, 1.0)  "
      ]
     },
     "execution_count": 3,
     "metadata": {},
     "output_type": "execute_result"
    }
   ],
   "source": [
    "df"
   ]
  },
  {
   "cell_type": "code",
   "execution_count": 4,
   "metadata": {},
   "outputs": [],
   "source": [
    "df_ref_list = df.columns\n",
    "\n",
    "# df_e_list = df.loc['e'] #Eccentricty row\n",
    "df_i_list = df.loc['i'] #Orbtial inclination row\n",
    "df_P_list = df.loc['P'] #Orbtial period row\n",
    "# df_R_list = df.loc['R'] #Planetary radius row\n",
    "# df_a_list = df.loc['a'] #Semi-major axis row\n",
    "# df_b_list = df.loc['b'] #Impact parameter row\n",
    "df_RpRs_list = df.loc['RpRs'] #R_p/R_star row\n",
    "# df_w_list = df.loc['w'] #\n",
    "df_color = df.loc['colour'] #Colours\n",
    "# df_T_c_list = df.loc['T_c']\n",
    "# df_transit_duration_list = df.loc['transit_duration']\n",
    "df_a_Rs_list = df.loc['a/R*']\n",
    "df_sigma_list = df.loc['sigma']\n",
    "df_rho_list = df.loc['rho']\n",
    "df_T_0 = df.loc['T_0']\n",
    "\n",
    "# e_list, e_ref_list = read_df_params(df_e_list, df_ref_list)\n",
    "i_list, i_ref_list = read_df_params(df_i_list, df_ref_list)\n",
    "P_list, P_ref_list = read_df_params(df_P_list, df_ref_list)\n",
    "# R_list, R_ref_list = read_df_params(df_R_list, df_ref_list)\n",
    "# a_list, a_ref_list = read_df_params(df_a_list, df_ref_list)\n",
    "# b_list, b_ref_list = read_df_params(df_b_list, df_ref_list)\n",
    "RpRs_list, RpRs_ref_list = read_df_params(df_RpRs_list, df_ref_list)\n",
    "# T_c_list, T_c_ref_list = read_df_params(df_T_c_list, df_ref_list)\n",
    "# transit_duration_list, transit_duration_ref_list = read_df_params(df_transit_duration_list, df_ref_list)\n",
    "a_Rs_list, a_Rs_ref_list = read_df_params(df_a_Rs_list, df_ref_list)\n",
    "sigma_list, sigma_ref_list = read_df_params(df_sigma_list, df_ref_list)\n",
    "rho_list, rho_ref_list = read_df_params(df_rho_list, df_ref_list)\n",
    "T_0_list, T_0_ref_list = read_df_params(df_T_0, df_ref_list)"
   ]
  },
  {
   "cell_type": "code",
   "execution_count": 5,
   "metadata": {},
   "outputs": [],
   "source": [
    "# Model A, Model B, Model C\n",
    "# TESS: Sector 12 (batman),\tTESS: Sector 12 + Sector 38 (batman),\tTESS: Sector 12 + Sector 38 (batman + gp)"
   ]
  },
  {
   "cell_type": "code",
   "execution_count": 7,
   "metadata": {},
   "outputs": [
    {
     "ename": "ValueError",
     "evalue": "'(0.254627, 0.013882, 0.615419, 1.0)' is not a valid value for color",
     "output_type": "error",
     "traceback": [
      "\u001b[1;31m---------------------------------------------------------------------------\u001b[0m",
      "\u001b[1;31mValueError\u001b[0m                                Traceback (most recent call last)",
      "\u001b[1;32mc:\\Users\\Student\\OneDrive\\MSci project\\MSci2022_TESS\\Transit_fitting\\Figures_poster\\wasp_17b_sector_model_compare.ipynb Cell 6\u001b[0m in \u001b[0;36m<cell line: 13>\u001b[1;34m()\u001b[0m\n\u001b[0;32m     <a href='vscode-notebook-cell:/c%3A/Users/Student/OneDrive/MSci%20project/MSci2022_TESS/Transit_fitting/Figures_poster/wasp_17b_sector_model_compare.ipynb#W5sZmlsZQ%3D%3D?line=10'>11</a>\u001b[0m sigma \u001b[39m=\u001b[39m \u001b[39mmax\u001b[39m(\u001b[39mabs\u001b[39m(upper), \u001b[39mabs\u001b[39m(lower))\n\u001b[0;32m     <a href='vscode-notebook-cell:/c%3A/Users/Student/OneDrive/MSci%20project/MSci2022_TESS/Transit_fitting/Figures_poster/wasp_17b_sector_model_compare.ipynb#W5sZmlsZQ%3D%3D?line=11'>12</a>\u001b[0m colour \u001b[39m=\u001b[39m df[P_ref_list[\u001b[39m0\u001b[39m]][\u001b[39m'\u001b[39m\u001b[39mcolour\u001b[39m\u001b[39m'\u001b[39m]\n\u001b[1;32m---> <a href='vscode-notebook-cell:/c%3A/Users/Student/OneDrive/MSci%20project/MSci2022_TESS/Transit_fitting/Figures_poster/wasp_17b_sector_model_compare.ipynb#W5sZmlsZQ%3D%3D?line=12'>13</a>\u001b[0m ax1\u001b[39m.\u001b[39;49merrorbar(\u001b[39m0\u001b[39;49m, \u001b[39m0\u001b[39;49m, yerr\u001b[39m=\u001b[39;49msigma, fmt\u001b[39m=\u001b[39;49m\u001b[39m\"\u001b[39;49m\u001b[39m.\u001b[39;49m\u001b[39m\"\u001b[39;49m, color\u001b[39m=\u001b[39;49mcolour, ecolor\u001b[39m=\u001b[39;49m\u001b[39m\"\u001b[39;49m\u001b[39mLightGrey\u001b[39;49m\u001b[39m\"\u001b[39;49m, label\u001b[39m=\u001b[39;49m\u001b[39m\"\u001b[39;49m\u001b[39mauthor\u001b[39;49m\u001b[39m\"\u001b[39;49m)\n\u001b[0;32m     <a href='vscode-notebook-cell:/c%3A/Users/Student/OneDrive/MSci%20project/MSci2022_TESS/Transit_fitting/Figures_poster/wasp_17b_sector_model_compare.ipynb#W5sZmlsZQ%3D%3D?line=13'>14</a>\u001b[0m \u001b[39m# plt.xlim(-0.005, 0.005)\u001b[39;00m\n\u001b[0;32m     <a href='vscode-notebook-cell:/c%3A/Users/Student/OneDrive/MSci%20project/MSci2022_TESS/Transit_fitting/Figures_poster/wasp_17b_sector_model_compare.ipynb#W5sZmlsZQ%3D%3D?line=15'>16</a>\u001b[0m ax1\u001b[39m.\u001b[39mset_ylabel(\u001b[39mr\u001b[39m\u001b[39m\"\u001b[39m\u001b[39mPeriod\u001b[39m\u001b[39m'\u001b[39m\u001b[39ms constraint\u001b[39m\u001b[39m\"\u001b[39m)\n",
      "File \u001b[1;32mc:\\Users\\Student\\anaconda3\\envs\\MSci_project\\lib\\site-packages\\matplotlib\\__init__.py:1412\u001b[0m, in \u001b[0;36m_preprocess_data.<locals>.inner\u001b[1;34m(ax, data, *args, **kwargs)\u001b[0m\n\u001b[0;32m   1409\u001b[0m \u001b[39m@functools\u001b[39m\u001b[39m.\u001b[39mwraps(func)\n\u001b[0;32m   1410\u001b[0m \u001b[39mdef\u001b[39;00m \u001b[39minner\u001b[39m(ax, \u001b[39m*\u001b[39margs, data\u001b[39m=\u001b[39m\u001b[39mNone\u001b[39;00m, \u001b[39m*\u001b[39m\u001b[39m*\u001b[39mkwargs):\n\u001b[0;32m   1411\u001b[0m     \u001b[39mif\u001b[39;00m data \u001b[39mis\u001b[39;00m \u001b[39mNone\u001b[39;00m:\n\u001b[1;32m-> 1412\u001b[0m         \u001b[39mreturn\u001b[39;00m func(ax, \u001b[39m*\u001b[39m\u001b[39mmap\u001b[39m(sanitize_sequence, args), \u001b[39m*\u001b[39m\u001b[39m*\u001b[39mkwargs)\n\u001b[0;32m   1414\u001b[0m     bound \u001b[39m=\u001b[39m new_sig\u001b[39m.\u001b[39mbind(ax, \u001b[39m*\u001b[39margs, \u001b[39m*\u001b[39m\u001b[39m*\u001b[39mkwargs)\n\u001b[0;32m   1415\u001b[0m     auto_label \u001b[39m=\u001b[39m (bound\u001b[39m.\u001b[39marguments\u001b[39m.\u001b[39mget(label_namer)\n\u001b[0;32m   1416\u001b[0m                   \u001b[39mor\u001b[39;00m bound\u001b[39m.\u001b[39mkwargs\u001b[39m.\u001b[39mget(label_namer))\n",
      "File \u001b[1;32mc:\\Users\\Student\\anaconda3\\envs\\MSci_project\\lib\\site-packages\\matplotlib\\axes\\_axes.py:3365\u001b[0m, in \u001b[0;36mAxes.errorbar\u001b[1;34m(self, x, y, yerr, xerr, fmt, ecolor, elinewidth, capsize, barsabove, lolims, uplims, xlolims, xuplims, errorevery, capthick, **kwargs)\u001b[0m\n\u001b[0;32m   3359\u001b[0m kwargs[\u001b[39m'\u001b[39m\u001b[39mlabel\u001b[39m\u001b[39m'\u001b[39m] \u001b[39m=\u001b[39m \u001b[39m'\u001b[39m\u001b[39m_nolegend_\u001b[39m\u001b[39m'\u001b[39m\n\u001b[0;32m   3361\u001b[0m \u001b[39m# Create the main line and determine overall kwargs for child artists.\u001b[39;00m\n\u001b[0;32m   3362\u001b[0m \u001b[39m# We avoid calling self.plot() directly, or self._get_lines(), because\u001b[39;00m\n\u001b[0;32m   3363\u001b[0m \u001b[39m# that would call self._process_unit_info again, and do other indirect\u001b[39;00m\n\u001b[0;32m   3364\u001b[0m \u001b[39m# data processing.\u001b[39;00m\n\u001b[1;32m-> 3365\u001b[0m (data_line, base_style), \u001b[39m=\u001b[39m \u001b[39mself\u001b[39;49m\u001b[39m.\u001b[39;49m_get_lines\u001b[39m.\u001b[39;49m_plot_args(\n\u001b[0;32m   3366\u001b[0m     (x, y) \u001b[39mif\u001b[39;49;00m fmt \u001b[39m==\u001b[39;49m \u001b[39m'\u001b[39;49m\u001b[39m'\u001b[39;49m \u001b[39melse\u001b[39;49;00m (x, y, fmt), kwargs, return_kwargs\u001b[39m=\u001b[39;49m\u001b[39mTrue\u001b[39;49;00m)\n\u001b[0;32m   3368\u001b[0m \u001b[39m# Do this after creating `data_line` to avoid modifying `base_style`.\u001b[39;00m\n\u001b[0;32m   3369\u001b[0m \u001b[39mif\u001b[39;00m barsabove:\n",
      "File \u001b[1;32mc:\\Users\\Student\\anaconda3\\envs\\MSci_project\\lib\\site-packages\\matplotlib\\axes\\_base.py:536\u001b[0m, in \u001b[0;36m_process_plot_var_args._plot_args\u001b[1;34m(self, tup, kwargs, return_kwargs)\u001b[0m\n\u001b[0;32m    531\u001b[0m result \u001b[39m=\u001b[39m (make_artist(x[:, j \u001b[39m%\u001b[39m ncx], y[:, j \u001b[39m%\u001b[39m ncy], kw,\n\u001b[0;32m    532\u001b[0m                       {\u001b[39m*\u001b[39m\u001b[39m*\u001b[39mkwargs, \u001b[39m'\u001b[39m\u001b[39mlabel\u001b[39m\u001b[39m'\u001b[39m: label})\n\u001b[0;32m    533\u001b[0m           \u001b[39mfor\u001b[39;00m j, label \u001b[39min\u001b[39;00m \u001b[39menumerate\u001b[39m(labels))\n\u001b[0;32m    535\u001b[0m \u001b[39mif\u001b[39;00m return_kwargs:\n\u001b[1;32m--> 536\u001b[0m     \u001b[39mreturn\u001b[39;00m \u001b[39mlist\u001b[39;49m(result)\n\u001b[0;32m    537\u001b[0m \u001b[39melse\u001b[39;00m:\n\u001b[0;32m    538\u001b[0m     \u001b[39mreturn\u001b[39;00m [l[\u001b[39m0\u001b[39m] \u001b[39mfor\u001b[39;00m l \u001b[39min\u001b[39;00m result]\n",
      "File \u001b[1;32mc:\\Users\\Student\\anaconda3\\envs\\MSci_project\\lib\\site-packages\\matplotlib\\axes\\_base.py:531\u001b[0m, in \u001b[0;36m<genexpr>\u001b[1;34m(.0)\u001b[0m\n\u001b[0;32m    528\u001b[0m \u001b[39melse\u001b[39;00m:\n\u001b[0;32m    529\u001b[0m     labels \u001b[39m=\u001b[39m [label] \u001b[39m*\u001b[39m n_datasets\n\u001b[1;32m--> 531\u001b[0m result \u001b[39m=\u001b[39m (make_artist(x[:, j \u001b[39m%\u001b[39;49m ncx], y[:, j \u001b[39m%\u001b[39;49m ncy], kw,\n\u001b[0;32m    532\u001b[0m                       {\u001b[39m*\u001b[39;49m\u001b[39m*\u001b[39;49mkwargs, \u001b[39m'\u001b[39;49m\u001b[39mlabel\u001b[39;49m\u001b[39m'\u001b[39;49m: label})\n\u001b[0;32m    533\u001b[0m           \u001b[39mfor\u001b[39;00m j, label \u001b[39min\u001b[39;00m \u001b[39menumerate\u001b[39m(labels))\n\u001b[0;32m    535\u001b[0m \u001b[39mif\u001b[39;00m return_kwargs:\n\u001b[0;32m    536\u001b[0m     \u001b[39mreturn\u001b[39;00m \u001b[39mlist\u001b[39m(result)\n",
      "File \u001b[1;32mc:\\Users\\Student\\anaconda3\\envs\\MSci_project\\lib\\site-packages\\matplotlib\\axes\\_base.py:351\u001b[0m, in \u001b[0;36m_process_plot_var_args._makeline\u001b[1;34m(self, x, y, kw, kwargs)\u001b[0m\n\u001b[0;32m    349\u001b[0m default_dict \u001b[39m=\u001b[39m \u001b[39mself\u001b[39m\u001b[39m.\u001b[39m_getdefaults(\u001b[39mset\u001b[39m(), kw)\n\u001b[0;32m    350\u001b[0m \u001b[39mself\u001b[39m\u001b[39m.\u001b[39m_setdefaults(default_dict, kw)\n\u001b[1;32m--> 351\u001b[0m seg \u001b[39m=\u001b[39m mlines\u001b[39m.\u001b[39mLine2D(x, y, \u001b[39m*\u001b[39m\u001b[39m*\u001b[39mkw)\n\u001b[0;32m    352\u001b[0m \u001b[39mreturn\u001b[39;00m seg, kw\n",
      "File \u001b[1;32mc:\\Users\\Student\\anaconda3\\envs\\MSci_project\\lib\\site-packages\\matplotlib\\lines.py:370\u001b[0m, in \u001b[0;36mLine2D.__init__\u001b[1;34m(self, xdata, ydata, linewidth, linestyle, color, marker, markersize, markeredgewidth, markeredgecolor, markerfacecolor, markerfacecoloralt, fillstyle, antialiased, dash_capstyle, solid_capstyle, dash_joinstyle, solid_joinstyle, pickradius, drawstyle, markevery, **kwargs)\u001b[0m\n\u001b[0;32m    367\u001b[0m \u001b[39mself\u001b[39m\u001b[39m.\u001b[39mset_drawstyle(drawstyle)\n\u001b[0;32m    369\u001b[0m \u001b[39mself\u001b[39m\u001b[39m.\u001b[39m_color \u001b[39m=\u001b[39m \u001b[39mNone\u001b[39;00m\n\u001b[1;32m--> 370\u001b[0m \u001b[39mself\u001b[39;49m\u001b[39m.\u001b[39;49mset_color(color)\n\u001b[0;32m    371\u001b[0m \u001b[39mself\u001b[39m\u001b[39m.\u001b[39m_marker \u001b[39m=\u001b[39m MarkerStyle(marker, fillstyle)\n\u001b[0;32m    373\u001b[0m \u001b[39mself\u001b[39m\u001b[39m.\u001b[39m_markevery \u001b[39m=\u001b[39m \u001b[39mNone\u001b[39;00m\n",
      "File \u001b[1;32mc:\\Users\\Student\\anaconda3\\envs\\MSci_project\\lib\\site-packages\\matplotlib\\lines.py:1030\u001b[0m, in \u001b[0;36mLine2D.set_color\u001b[1;34m(self, color)\u001b[0m\n\u001b[0;32m   1022\u001b[0m \u001b[39mdef\u001b[39;00m \u001b[39mset_color\u001b[39m(\u001b[39mself\u001b[39m, color):\n\u001b[0;32m   1023\u001b[0m     \u001b[39m\"\"\"\u001b[39;00m\n\u001b[0;32m   1024\u001b[0m \u001b[39m    Set the color of the line.\u001b[39;00m\n\u001b[0;32m   1025\u001b[0m \n\u001b[1;32m   (...)\u001b[0m\n\u001b[0;32m   1028\u001b[0m \u001b[39m    color : color\u001b[39;00m\n\u001b[0;32m   1029\u001b[0m \u001b[39m    \"\"\"\u001b[39;00m\n\u001b[1;32m-> 1030\u001b[0m     mcolors\u001b[39m.\u001b[39;49m_check_color_like(color\u001b[39m=\u001b[39;49mcolor)\n\u001b[0;32m   1031\u001b[0m     \u001b[39mself\u001b[39m\u001b[39m.\u001b[39m_color \u001b[39m=\u001b[39m color\n\u001b[0;32m   1032\u001b[0m     \u001b[39mself\u001b[39m\u001b[39m.\u001b[39mstale \u001b[39m=\u001b[39m \u001b[39mTrue\u001b[39;00m\n",
      "File \u001b[1;32mc:\\Users\\Student\\anaconda3\\envs\\MSci_project\\lib\\site-packages\\matplotlib\\colors.py:130\u001b[0m, in \u001b[0;36m_check_color_like\u001b[1;34m(**kwargs)\u001b[0m\n\u001b[0;32m    128\u001b[0m \u001b[39mfor\u001b[39;00m k, v \u001b[39min\u001b[39;00m kwargs\u001b[39m.\u001b[39mitems():\n\u001b[0;32m    129\u001b[0m     \u001b[39mif\u001b[39;00m \u001b[39mnot\u001b[39;00m is_color_like(v):\n\u001b[1;32m--> 130\u001b[0m         \u001b[39mraise\u001b[39;00m \u001b[39mValueError\u001b[39;00m(\u001b[39mf\u001b[39m\u001b[39m\"\u001b[39m\u001b[39m{\u001b[39;00mv\u001b[39m!r}\u001b[39;00m\u001b[39m is not a valid value for \u001b[39m\u001b[39m{\u001b[39;00mk\u001b[39m}\u001b[39;00m\u001b[39m\"\u001b[39m)\n",
      "\u001b[1;31mValueError\u001b[0m: '(0.254627, 0.013882, 0.615419, 1.0)' is not a valid value for color"
     ]
    },
    {
     "data": {
      "image/png": "[encoded data removed]",
      "text/plain": [
       "<Figure size 400x1000 with 2 Axes>"
      ]
     },
     "metadata": {},
     "output_type": "display_data"
    }
   ],
   "source": [
    "y_list = range(0, len(P_ref_list))\n",
    "\n",
    "fig, (ax1, ax2) = plt.subplots(1, 2, figsize=(4,10))\n",
    "\n",
    "\"\"\"\n",
    "Period\n",
    "\"\"\"\n",
    "\n",
    "\n",
    "mu, upper, lower = P_list[0]\n",
    "sigma = max(abs(upper), abs(lower))\n",
    "colour = df[P_ref_list[0]]['colour']\n",
    "ax1.errorbar(0, 0, yerr=sigma, fmt=\".\", color=colour, ecolor=\"LightGrey\", label=\"author\")\n",
    "# plt.xlim(-0.005, 0.005)\n",
    "\n",
    "ax1.set_ylabel(r\"Period's constraint\")\n",
    "\n",
    "ax1.set_xticklabels([])\n",
    "ax1.tick_params(axis=\"x\", which=\"both\", direction=\"in\")\n",
    "\n",
    "# Mirror y\n",
    "ax1y = ax1.twinx()\n",
    "ax1y.set_ylim(ax1.get_ylim())\n",
    "ax1y.get_yaxis().set_ticklabels([])\n",
    "ax1y.tick_params(which=\"both\", direction=\"in\")\n",
    "\n",
    "# Mirror x\n",
    "ax1x = ax1.twiny()\n",
    "ax1x.set_xlim(ax1.get_xlim())\n",
    "ax1x.get_xaxis().set_ticklabels([])\n",
    "ax1x.tick_params(which=\"both\", direction=\"in\")\n",
    "\n",
    "ax1x.set_xlabel(\"Planet\")\n",
    "\n",
    "\n",
    "\"\"\"\n",
    "RpRs\n",
    "\"\"\"\n",
    "\n",
    "for obj, author, y in zip(P_list[1:], P_ref_list[1:], y_list[1:]):\n",
    "    mu, upper, lower = obj\n",
    "    sigma = max(abs(upper), abs(lower))\n",
    "    colour = df[author]['colour']\n",
    "    ax2.errorbar(y, 0, yerr=sigma, fmt=\".\", color=colour, ecolor=\"LightGrey\", label=\"author\")\n",
    "# plt.xlim(-0.005, 0.005)\n",
    "\n",
    "# ax2.set_ylabel(r\"$R_{p}/R_{*}$ constraint\")\n",
    "\n",
    "# ax2.set_xticklabels([])\n",
    "\n",
    "# Mirror y\n",
    "ax2y = ax2.twinx()\n",
    "ax2y.set_ylim(ax2.get_ylim())\n",
    "ax2y.get_yaxis().set_ticklabels([])\n",
    "ax2y.tick_params(which=\"both\", direction=\"in\")\n",
    "\n",
    "# Mirror x\n",
    "ax2x = ax2.twiny()\n",
    "ax2x.set_xlim(ax2.get_xlim())\n",
    "ax2x.get_xaxis().set_ticklabels([])\n",
    "ax2x.tick_params(which=\"both\", direction=\"in\")\n",
    "\n",
    "\n",
    "\n",
    "#\n",
    "ax1.set_xticks(y_list)\n",
    "ax1x.set_xticks(y_list)\n",
    "ax2.set_xticks(y_list)\n",
    "ax2x.set_xticks(y_list)\n",
    "ax1x.set_xticklabels(df_ref_list)\n",
    "\n",
    "\n",
    "# ax.legend()\n",
    "# fig.tight_layout()\n",
    "plt.subplots_adjust(hspace=0.0)\n",
    "plt.show()\n"
   ]
  },
  {
   "cell_type": "code",
   "execution_count": null,
   "metadata": {},
   "outputs": [],
   "source": [
    "left = 0.1\n",
    "bottom = 0.1\n",
    "width = 0.65\n",
    "height = 0.9\n",
    "spacing = -1.125\n",
    "\n",
    "rect1 = [left, bottom, width*0.333, height]\n",
    "rect2 = [left+(width*0.333)+0.3, bottom, width, height]\n",
    "\n",
    "\n",
    "fig = plt.figure(figsize=(2, 2))\n",
    "ax1 = fig.add_axes(rect1)\n",
    "ax2 = fig.add_axes(rect2)\n",
    "\n",
    "\"\"\"\n",
    "ax1\n",
    "\"\"\"\n",
    "mu, upper, lower = P_list[0]\n",
    "sigma = max(abs(upper), abs(lower))\n",
    "colour = df[P_ref_list[0]]['colour']\n",
    "ax1.errorbar(0, mu, yerr=sigma, fmt=\".\", color=colour, ecolor=\"LightGrey\", label=\"author\")\n",
    "ax1.set_xlim(-0.5, 0.5)\n",
    "\n",
    "ax1.set_ylabel(\"Period (days)\")\n",
    "\n",
    "ax1.set_xticklabels([])\n",
    "# ax1.tick_params(axis=\"x\", which=\"both\", direction=\"in\")\n",
    "\n",
    "# Mirror y\n",
    "ax1y = ax1.twinx()\n",
    "ax1y.set_ylim(ax1.get_ylim())\n",
    "ax1y.get_yaxis().set_ticklabels([])\n",
    "ax1y.tick_params(which=\"both\", direction=\"in\")\n",
    "\n",
    "# Mirror x\n",
    "ax1x = ax1.twiny()\n",
    "ax1x.set_xlim(ax1.get_xlim())\n",
    "ax1x.get_xaxis().set_ticklabels([])\n",
    "ax1x.tick_params(which=\"both\", direction=\"in\")\n",
    "\n",
    "\n",
    "\n",
    "\n",
    "\"\"\"\n",
    "ax2\n",
    "\"\"\"\n",
    "\n",
    "for obj, author, y in zip(P_list[1:], P_ref_list[1:], y_list[1:]):\n",
    "    mu, upper, lower = obj\n",
    "    sigma = max(abs(upper), abs(lower))\n",
    "    colour = df[author]['colour']\n",
    "    ax2.errorbar(y, mu, yerr=sigma, fmt=\".\", color=colour, ecolor=\"LightGrey\", label=\"author\")\n",
    "\n",
    "ax2.set_xlim(0.5, 2.5)\n",
    "ax2.set_xticklabels([])\n",
    "# ax2.tick_params(axis=\"x\", which=\"both\", direction=\"in\")\n",
    "\n",
    "# Mirror y\n",
    "ax2y = ax2.twinx()\n",
    "ax2y.set_ylim(ax2.get_ylim())\n",
    "ax2y.get_yaxis().set_ticklabels([])\n",
    "ax2y.tick_params(which=\"both\", direction=\"in\")\n",
    "\n",
    "# Mirror x\n",
    "ax2x = ax2.twiny()\n",
    "ax2x.set_xlim(ax2.get_xlim())\n",
    "ax2x.get_xaxis().set_ticklabels([])\n",
    "ax2x.tick_params(which=\"both\", direction=\"in\")\n",
    "\n",
    "\n",
    "ax1.ticklabel_format(axis='y', style='scientific', scilimits=(0,0))\n",
    "#\n",
    "ax1.set_xticks([0])\n",
    "ax1x.set_xticks([0])\n",
    "ax1.set_xticklabels([\"Model A\"])\n",
    "ax2.set_xticks([1, 2])\n",
    "ax2x.set_xticks([1, 2])\n",
    "ax2.set_xticklabels([\"Model B\", \"Model C\"])\n",
    "\n",
    "plt.show()"
   ]
  },
  {
   "cell_type": "code",
   "execution_count": null,
   "metadata": {},
   "outputs": [],
   "source": [
    "# left = 0.1\n",
    "# bottom = 0.1\n",
    "# width = 0.65\n",
    "# height = 0.9\n",
    "# spacing = -1.125\n",
    "\n",
    "# rect1 = [left, bottom, width, height]\n",
    "\n",
    "\n",
    "# fig = plt.figure(figsize=(3, 2))\n",
    "# ax1 = fig.add_axes(rect1)\n",
    "\n",
    "\n",
    "# \"\"\"\n",
    "# ax1\n",
    "# \"\"\"\n",
    "# for obj, author, y in zip(RpRs_list[1:], RpRs_ref_list[1:], y_list[1:]):\n",
    "#     mu, upper, lower = obj\n",
    "#     sigma = max(abs(upper), abs(lower))\n",
    "#     colour = df[author]['colour']\n",
    "#     ax1.errorbar(y, 0, yerr=sigma, fmt=\".\", color=colour, ecolor=\"LightGrey\", label=\"author\")\n",
    "\n",
    "# ax1.set_xlim(0.5, 2.5)\n",
    "# ax1.set_ylabel(r\"$R_{p}/R_{*}$ constraint\")\n",
    "\n",
    "# ax1.set_xticklabels([])\n",
    "# # ax1.tick_params(axis=\"x\", which=\"both\", direction=\"in\")\n",
    "\n",
    "# # Mirror y\n",
    "# ax1y = ax1.twinx()\n",
    "# ax1y.set_ylim(ax1.get_ylim())\n",
    "# ax1y.get_yaxis().set_ticklabels([])\n",
    "# ax1y.tick_params(which=\"both\", direction=\"in\")\n",
    "\n",
    "# # Mirror x\n",
    "# ax1x = ax1.twiny()\n",
    "# ax1x.set_xlim(ax1.get_xlim())\n",
    "# ax1x.get_xaxis().set_ticklabels([])\n",
    "# ax1x.tick_params(which=\"both\", direction=\"in\")\n",
    "\n",
    "# ax1.set_xticks(y_list[1:])\n",
    "# ax1x.set_xticks(y_list[1:])\n",
    "# ax1.set_xticklabels([\"Model B\", \"Model C\"])\n",
    "\n",
    "# plt.show()"
   ]
  },
  {
   "cell_type": "code",
   "execution_count": 10,
   "metadata": {},
   "outputs": [
    {
     "name": "stdout",
     "output_type": "stream",
     "text": [
      "(0.254627, 0.013882, 0.615419, 1.0)\n",
      "(0.650746, 0.125309, 0.595617, 1.0)\n",
      "(0.907365, 0.434524, 0.35297, 1.0)\n",
      "(0.988648, 0.809579, 0.145357, 1.0)\n"
     ]
    },
    {
     "data": {
      "image/png": "[encoded data removed]",
      "text/plain": [
       "<Figure size 1000x500 with 1 Axes>"
      ]
     },
     "metadata": {},
     "output_type": "display_data"
    }
   ],
   "source": [
    "fig, ax = plt.subplots(1, figsize=(10, 5)) \n",
    "cmap = plt.get_cmap('plasma')\n",
    "counter = np.linspace(0.1,0.9, 4) #linspace(bottom of range, top of range, number of bins)\n",
    "y_list = range(len(counter))\n",
    "for count, y in zip(counter, y_list):\n",
    "    ax.barh(y, 1, color=cmap(count), align='center')\n",
    "    print(cmap(count))\n",
    "\n",
    "plt.show()"
   ]
  },
  {
   "cell_type": "code",
   "execution_count": 11,
   "metadata": {},
   "outputs": [
    {
     "data": {
      "image/png": "[encoded data removed]",
      "text/html": [
       "<div style=\"vertical-align: middle;\"><strong>plasma</strong> </div><div class=\"cmap\"><img alt=\"plasma colormap\" title=\"plasma\" style=\"border: 1px solid #555;\" src=\"data:image/png;base64,iVBORw0KGgoAAAANSUhEUgAAAgAAAABACAYAAABsv8+/AAAAFXRFWHRUaXRsZQBwbGFzbWEgY29sb3JtYXBGwe5cAAAAG3RFWHREZXNjcmlwdGlvbgBwbGFzbWEgY29sb3JtYXAPVva4AAAAMHRFWHRBdXRob3IATWF0cGxvdGxpYiB2My41LjIsIGh0dHBzOi8vbWF0cGxvdGxpYi5vcmfCWnicAAAAMnRFWHRTb2Z0d2FyZQBNYXRwbG90bGliIHYzLjUuMiwgaHR0cHM6Ly9tYXRwbG90bGliLm9yZ+z857sAAAIfSURBVHic7dbBToQwFIbRWzRx43P72NaFoqGlDOryP2czKdxSZhLN115f3npV1XO1qqp66ltVVW37evjcr299WN/97HV5v32vz+faYn9bze/X+/G5bTp/uN7HuVrs/1r3m3PDe7Zp/ri+Ozet2+J+29d9WI/393U/PO/nucfr49y27fOrueH8B3NtW1x/tG88b3qv8X2u97dt/D1+u++Pn9P+6+/x//Prcn/dPrf+uO/7D/Byrm7+Pqu5+X1qOP/uuXU6X4vffdw/fc/F+Y/2jefV8vr591ztn+fq+v7iPWtx3s98Xd6vh89b7J+un8/16R/weN7nR19er/Prq7npfjt9Tt/a6fz0nGnf+L7vX+v3w9cEAIIIAAAIJAAAIJAAAIBAAgAAAgkAAAgkAAAgkAAAgEACAAACCQAACCQAACCQAACAQAIAAAIJAAAIJAAAIJAAAIBAAgAAAgkAAAgkAAAgkAAAgEACAAACCQAACCQAACCQAACAQAIAAAIJAAAIJAAAIJAAAIBAAgAAAgkAAAgkAAAgkAAAgEACAAACCQAACCQAACCQAACAQAIAAAIJAAAIJAAAIJAAAIBAAgAAAgkAAAgkAAAgkAAAgEACAAACCQAACCQAACCQAACAQAIAAAIJAAAIJAAAIJAAAIBAAgAAAgkAAAgkAAAgkAAAgEACAAACCQAACCQAACCQAACAQAIAAAIJAAAIJAAAINAHyiOfh8fgdYgAAAAASUVORK5CYII=\"></div><div style=\"vertical-align: middle; max-width: 514px; display: flex; justify-content: space-between;\"><div style=\"float: left;\"><div title=\"#0d0887ff\" style=\"display: inline-block; width: 1em; height: 1em; margin: 0; vertical-align: middle; border: 1px solid #555; background-color: #0d0887ff;\"></div> under</div><div style=\"margin: 0 auto; display: inline-block;\">bad <div title=\"#00000000\" style=\"display: inline-block; width: 1em; height: 1em; margin: 0; vertical-align: middle; border: 1px solid #555; background-color: #00000000;\"></div></div><div style=\"float: right;\">over <div title=\"#f0f921ff\" style=\"display: inline-block; width: 1em; height: 1em; margin: 0; vertical-align: middle; border: 1px solid #555; background-color: #f0f921ff;\"></div></div>"
      ],
      "text/plain": [
       "<matplotlib.colors.ListedColormap at 0x19d586b01c0>"
      ]
     },
     "execution_count": 11,
     "metadata": {},
     "output_type": "execute_result"
    }
   ],
   "source": [
    "cmap"
   ]
  },
  {
   "cell_type": "code",
   "execution_count": 12,
   "metadata": {},
   "outputs": [
    {
     "name": "stdout",
     "output_type": "stream",
     "text": [
      "(0.282623, 0.140926, 0.457517, 1.0)\n",
      "(0.177423, 0.437527, 0.557565, 1.0)\n",
      "(0.166383, 0.690856, 0.496502, 1.0)\n",
      "(0.741388, 0.873449, 0.149561, 1.0)\n"
     ]
    },
    {
     "data": {
      "image/png": "[encoded data removed]",
      "text/plain": [
       "<Figure size 1000x500 with 1 Axes>"
      ]
     },
     "metadata": {},
     "output_type": "display_data"
    }
   ],
   "source": [
    "fig, ax = plt.subplots(1, figsize=(10, 5)) \n",
    "cmap = plt.get_cmap('viridis')\n",
    "counter = np.linspace(0.1,0.9, 4) #linspace(bottom of range, top of range, number of bins)\n",
    "y_list = range(len(counter))\n",
    "for count, y in zip(counter, y_list):\n",
    "    ax.barh(y, 1, color=cmap(count), align='center')\n",
    "    print(cmap(count))\n",
    "\n",
    "plt.show()"
   ]
  },
  {
   "cell_type": "code",
   "execution_count": 13,
   "metadata": {},
   "outputs": [
    {
     "data": {
      "image/png": "[encoded data removed]",
      "text/html": [
       "<div style=\"vertical-align: middle;\"><strong>viridis</strong> </div><div class=\"cmap\"><img alt=\"viridis colormap\" title=\"viridis\" style=\"border: 1px solid #555;\" src=\"data:image/png;base64,iVBORw0KGgoAAAANSUhEUgAAAgAAAABACAYAAABsv8+/AAAAFnRFWHRUaXRsZQB2aXJpZGlzIGNvbG9ybWFwrE0mCwAAABx0RVh0RGVzY3JpcHRpb24AdmlyaWRpcyBjb2xvcm1hcAtjl3IAAAAwdEVYdEF1dGhvcgBNYXRwbG90bGliIHYzLjUuMiwgaHR0cHM6Ly9tYXRwbG90bGliLm9yZ8JaeJwAAAAydEVYdFNvZnR3YXJlAE1hdHBsb3RsaWIgdjMuNS4yLCBodHRwczovL21hdHBsb3RsaWIub3Jn7PznuwAAAiJJREFUeJzt1kGSmzAURdEv2FqWkP0vJfQgMhQCGceV2Ttn4pL0EVQPum771X5vVVXVWv39XfrPeV193V5zS98f1sf5/fPjey73zu6/3Hv/uz2cz57f9vP68rxO9+/zre7nhvvG+et6vH92bw3PDfcsD+eX59+/53n96f3362/f87/vf5yr93Of72/fPV9P89tX3zGeH3OT8/07Zs+/32+TuXZZD8/VODf8W5uuH/b7vctlfuv7NazH8/t7ZnP7bz2cD3NL+/Ph3Hl+/efz83vWun/vuL++nquH9eu9w/uu6/vvOO49f/8xf77vOj+8b7Y/fMfse9ca/y7nv+d62a++X+f1vt+G/b7u+/u6TxzzS//tc2053QMABBEAABBIAABAIAEAAIEEAAAEEgAAEEgAAEAgAQAAgQQAAAQSAAAQSAAAQCABAACBBAAABBIAABBIAABAIAEAAIEEAAAEEgAAEEgAAEAgAQAAgQQAAAQSAAAQSAAAQCABAACBBAAABBIAABBIAABAIAEAAIEEAAAEEgAAEEgAAEAgAQAAgQQAAAQSAAAQSAAAQCABAACBBAAABBIAABBIAABAIAEAAIEEAAAEEgAAEEgAAEAgAQAAgQQAAAQSAAAQSAAAQCABAACBBAAABBIAABBIAABAIAEAAIEEAAAEEgAAEEgAAEAgAQAAgQQAAAQSAAAQSAAAQCABAACBBAAABBIAABBIAABAoB9ucImHxcKZtAAAAABJRU5ErkJggg==\"></div><div style=\"vertical-align: middle; max-width: 514px; display: flex; justify-content: space-between;\"><div style=\"float: left;\"><div title=\"#440154ff\" style=\"display: inline-block; width: 1em; height: 1em; margin: 0; vertical-align: middle; border: 1px solid #555; background-color: #440154ff;\"></div> under</div><div style=\"margin: 0 auto; display: inline-block;\">bad <div title=\"#00000000\" style=\"display: inline-block; width: 1em; height: 1em; margin: 0; vertical-align: middle; border: 1px solid #555; background-color: #00000000;\"></div></div><div style=\"float: right;\">over <div title=\"#fde725ff\" style=\"display: inline-block; width: 1em; height: 1em; margin: 0; vertical-align: middle; border: 1px solid #555; background-color: #fde725ff;\"></div></div>"
      ],
      "text/plain": [
       "<matplotlib.colors.ListedColormap at 0x19d586b01f0>"
      ]
     },
     "execution_count": 13,
     "metadata": {},
     "output_type": "execute_result"
    }
   ],
   "source": [
    "cmap"
   ]
  },
  {
   "cell_type": "code",
   "execution_count": 33,
   "metadata": {},
   "outputs": [
    {
     "name": "stdout",
     "output_type": "stream",
     "text": [
      "B 1630.8614018713324 0.00023805651130714978 20.56808257693774\n",
      "D 1630.8614881350509 0.00026684631575335516 23.055521681089886\n",
      "C 1630.861610663565 0.00029717062670897576 25.675542147655506\n",
      "A 1630.8616428840369 0.00039904889376884967 34.47782442162861\n"
     ]
    },
    {
     "data": {
      "image/png": "[encoded data removed]",
      "text/plain": [
       "<Figure size 500x200 with 3 Axes>"
      ]
     },
     "metadata": {},
     "output_type": "display_data"
    }
   ],
   "source": [
    "y_list = range(0, len(T_0_ref_list))\n",
    "\n",
    "fig, ax = plt.subplots(1, figsize=(5,2)) \n",
    "\n",
    "labels_with_mu = []\n",
    "author_label = []\n",
    "T_0_obj = np.concatenate((T_0_list, np.vstack(T_0_ref_list)), axis=1, dtype=object)\n",
    "T_0_obj = T_0_obj[T_0_obj[:, 0].argsort()]\n",
    "\n",
    "y = 0\n",
    "for mu, upper, lower, author in T_0_obj:\n",
    "    sigma = max(abs(upper), abs(lower)) * 86400\n",
    "    print(author, mu, max(abs(upper), abs(lower)), sigma)\n",
    "    colour = tuple(map(float, df[author]['colour'][1:-1].split(', ')))\n",
    "    ax.barh(y, sigma, color=colour, align='center')\n",
    "    label = r\"%.7f$\\pm$\" % (mu)\n",
    "    labels_with_mu.append(label)\n",
    "    author_label.append(author)\n",
    "    y += 1\n",
    "\n",
    "ax.set_ylabel(r'$T_{0}$ (BTJD days))')\n",
    "ax.set_yticks(y_list, labels=labels_with_mu)\n",
    "ax.set_xlabel('Uncertainty (seconds)')\n",
    "\n",
    "\n",
    "# Mirror y\n",
    "axy = ax.twinx()\n",
    "axy.set_ylim(ax.get_ylim())\n",
    "axy.get_yaxis().set_ticklabels([])\n",
    "axy.tick_params(which=\"both\", direction=\"in\")\n",
    "axy.set_yticks(y_list, labels=author_label)\n",
    "\n",
    "\n",
    "# Mirror x\n",
    "axx = ax.twiny()\n",
    "axx.set_xlim(ax.get_xlim())\n",
    "axx.tick_params(which=\"both\", direction=\"in\")\n",
    "axx.get_xaxis().set_ticklabels([])\n",
    "\n",
    "ax.xaxis.set_minor_locator(tck.AutoMinorLocator())\n",
    "axx.xaxis.set_minor_locator(tck.AutoMinorLocator())\n",
    "\n",
    "plt.show()"
   ]
  },
  {
   "cell_type": "code",
   "execution_count": 25,
   "metadata": {},
   "outputs": [
    {
     "name": "stdout",
     "output_type": "stream",
     "text": [
      "A 3.7353984634338695 0.00012925396875784756 11.16754290067803\n",
      "C 3.735457546163345 5.353e-05 4.624992\n",
      "D 3.735484553218816 1.8351e-06 0.15855264\n",
      "B 3.735484831616331 6.232e-07 0.05384448\n"
     ]
    },
    {
     "data": {
      "image/png": "[encoded data removed]",
      "text/plain": [
       "<Figure size 500x200 with 3 Axes>"
      ]
     },
     "metadata": {},
     "output_type": "display_data"
    }
   ],
   "source": [
    "y_list = range(0, len(P_ref_list))\n",
    "\n",
    "fig, ax = plt.subplots(1, figsize=(5,2)) \n",
    "\n",
    "labels_with_mu = []\n",
    "author_label = []\n",
    "P_obj = np.concatenate((P_list, np.vstack(P_ref_list)), axis=1, dtype=object)\n",
    "P_obj = P_obj[P_obj[:, 0].argsort()]\n",
    "\n",
    "y = 0\n",
    "for mu, upper, lower, author in P_obj:\n",
    "    sigma = max(abs(upper), abs(lower)) * 86400\n",
    "    print(author, mu, max(abs(upper), abs(lower)), sigma)\n",
    "    colour = tuple(map(float, df[author]['colour'][1:-1].split(', ')))\n",
    "    ax.barh(y, sigma, color=colour, align='center')\n",
    "    label = r\"%.7f$\\pm$\" % (mu)\n",
    "    labels_with_mu.append(label)\n",
    "    author_label.append(author)\n",
    "    y+=1\n",
    "\n",
    "ax.set_xlabel('Uncertainty (seconds)')\n",
    "ax.set_ylabel(\"Period (days)\")\n",
    "\n",
    "ax.set_yticks(y_list, labels=labels_with_mu)\n",
    "ax.set_xscale('log')\n",
    "ax.get_xaxis().set_major_formatter(tck.ScalarFormatter())\n",
    "\n",
    "\n",
    "# Mirror y\n",
    "axy = ax.twinx()\n",
    "axy.set_ylim(ax.get_ylim())\n",
    "axy.get_yaxis().set_ticklabels([])\n",
    "axy.tick_params(which=\"both\", direction=\"in\")\n",
    "axy.set_yticks(y_list, labels=author_label)\n",
    "\n",
    "\n",
    "# Mirror x\n",
    "axx = ax.twiny()\n",
    "axx.set_xlim(ax.get_xlim())\n",
    "axx.tick_params(which=\"both\", direction=\"in\")\n",
    "axx.set_xscale('log')\n",
    "axx.get_xaxis().set_ticklabels([])\n",
    "\n",
    "\n",
    "\n",
    "plt.show()"
   ]
  },
  {
   "cell_type": "code",
   "execution_count": 30,
   "metadata": {},
   "outputs": [
    {
     "name": "stdout",
     "output_type": "stream",
     "text": [
      "A 0.1203829698708299 0.00046385548844797564 0.00046385548844797564\n",
      "B 0.12130714805888419 0.000404658423926868 0.000404658423926868\n",
      "C 0.12132331355382717 0.0009057218589828414 0.0009057218589828414\n",
      "D 0.12217592094892667 0.0005177504782353098 0.0005177504782353098\n"
     ]
    },
    {
     "data": {
      "image/png": "[encoded data removed]",
      "text/plain": [
       "<Figure size 500x200 with 3 Axes>"
      ]
     },
     "metadata": {},
     "output_type": "display_data"
    }
   ],
   "source": [
    "y_list = range(0, len(RpRs_ref_list))\n",
    "\n",
    "fig, ax = plt.subplots(1, figsize=(5,2)) \n",
    "\n",
    "labels_with_mu = []\n",
    "author_label = []\n",
    "RpRs_obj = np.concatenate((RpRs_list, np.vstack(RpRs_ref_list)), axis=1, dtype=object)\n",
    "RpRs_obj = RpRs_obj[RpRs_obj[:, 0].argsort()]\n",
    "\n",
    "y = 0\n",
    "for mu, upper, lower, author in RpRs_obj:\n",
    "    sigma = max(abs(upper), abs(lower))\n",
    "    print(author, mu, max(abs(upper), abs(lower)))\n",
    "    colour = tuple(map(float, df[author]['colour'][1:-1].split(', ')))\n",
    "    ax.barh(y, sigma, color=colour, align='center')\n",
    "    label = r\"%.5f$\\pm$\" % (mu)\n",
    "    labels_with_mu.append(label)\n",
    "    author_label.append(author)\n",
    "    y += 1\n",
    "\n",
    "ax.set_ylabel(r'$R_{p}/R_{*}$')\n",
    "ax.set_yticks(y_list, labels=labels_with_mu)\n",
    "ax.set_xlabel(r'Uncertainty')\n",
    "ax.ticklabel_format(axis='x', style='scientific', scilimits=(0,0))\n",
    "\n",
    "# Mirror y\n",
    "axy = ax.twinx()\n",
    "axy.set_ylim(ax.get_ylim())\n",
    "axy.get_yaxis().set_ticklabels([])\n",
    "axy.tick_params(which=\"both\", direction=\"in\")\n",
    "axy.set_yticks(y_list, labels=author_label)\n",
    "\n",
    "\n",
    "# Mirror x\n",
    "axx = ax.twiny()\n",
    "axx.set_xlim(ax.get_xlim())\n",
    "axx.tick_params(which=\"both\", direction=\"in\")\n",
    "axx.get_xaxis().set_ticklabels([])\n",
    "\n",
    "ax.xaxis.set_minor_locator(tck.AutoMinorLocator())\n",
    "axx.xaxis.set_minor_locator(tck.AutoMinorLocator())\n",
    "\n",
    "plt.show()"
   ]
  },
  {
   "cell_type": "code",
   "execution_count": 29,
   "metadata": {},
   "outputs": [
    {
     "name": "stdout",
     "output_type": "stream",
     "text": [
      "D 87.30852050543098 0.39644874320137546 0.39644874320137546\n",
      "B 87.54069213161702 0.43098898185745327 0.43098898185745327\n",
      "C 88.05242038422188 0.8237098425502438 0.8237098425502438\n",
      "A 88.39568159446347 0.8557190483726771 0.8557190483726771\n"
     ]
    },
    {
     "data": {
      "image/png": "[encoded data removed]",
      "text/plain": [
       "<Figure size 500x200 with 3 Axes>"
      ]
     },
     "metadata": {},
     "output_type": "display_data"
    }
   ],
   "source": [
    "y_list = range(0, len(i_ref_list))\n",
    "\n",
    "fig, ax = plt.subplots(1, figsize=(5,2)) \n",
    "\n",
    "labels_with_mu = []\n",
    "author_label = []\n",
    "i_obj = np.concatenate((i_list, np.vstack(i_ref_list)), axis=1, dtype=object)\n",
    "i_obj = i_obj[i_obj[:, 0].argsort()]\n",
    "\n",
    "y = 0\n",
    "for mu, upper, lower, author in i_obj:\n",
    "    sigma = max(abs(upper), abs(lower))\n",
    "    print(author, mu, max(abs(upper), abs(lower)))\n",
    "    colour = tuple(map(float, df[author]['colour'][1:-1].split(', ')))\n",
    "    ax.barh(y, sigma, color=colour, align='center')\n",
    "    label = r\"%.2f$\\pm$\" % (mu)\n",
    "    labels_with_mu.append(label)\n",
    "    author_label.append(author)\n",
    "    y += 1\n",
    "\n",
    "ax.set_ylabel(r'Orbital inclination ($\\degree$)')\n",
    "ax.set_yticks(y_list, labels=labels_with_mu)\n",
    "ax.set_xlabel(r'Uncertainty ($\\degree$)')\n",
    "ax.ticklabel_format(axis='x', style='scientific', scilimits=(0,0))\n",
    "\n",
    "# Mirror y\n",
    "axy = ax.twinx()\n",
    "axy.set_ylim(ax.get_ylim())\n",
    "axy.get_yaxis().set_ticklabels([])\n",
    "axy.tick_params(which=\"both\", direction=\"in\")\n",
    "axy.set_yticks(y_list, labels=author_label)\n",
    "\n",
    "\n",
    "# Mirror x\n",
    "axx = ax.twiny()\n",
    "axx.set_xlim(ax.get_xlim())\n",
    "axx.tick_params(which=\"both\", direction=\"in\")\n",
    "axx.get_xaxis().set_ticklabels([])\n",
    "\n",
    "ax.xaxis.set_minor_locator(tck.AutoMinorLocator())\n",
    "axx.xaxis.set_minor_locator(tck.AutoMinorLocator())\n",
    "\n",
    "plt.show()"
   ]
  },
  {
   "cell_type": "code",
   "execution_count": 31,
   "metadata": {},
   "outputs": [
    {
     "name": "stdout",
     "output_type": "stream",
     "text": [
      "D 7.115132869990389 0.12153948281163807\n",
      "B 7.190146553234434 0.12385182418808682\n",
      "C 7.309401355606358 0.21775645687941125\n",
      "A 7.39832492366634 0.20282872618265113\n"
     ]
    },
    {
     "data": {
      "image/png": "[encoded data removed]",
      "text/plain": [
       "<Figure size 500x200 with 3 Axes>"
      ]
     },
     "metadata": {},
     "output_type": "display_data"
    }
   ],
   "source": [
    "y_list = range(0, len(a_Rs_ref_list))\n",
    "\n",
    "fig, ax = plt.subplots(1, figsize=(5,2)) \n",
    "\n",
    "labels_with_mu = []\n",
    "author_label = []\n",
    "a_Rs_obj = np.concatenate((a_Rs_list, np.vstack(a_Rs_ref_list)), axis=1, dtype=object)\n",
    "a_Rs_obj = a_Rs_obj[a_Rs_obj[:, 0].argsort()]\n",
    "\n",
    "y = 0\n",
    "for mu, upper, lower, author in a_Rs_obj:\n",
    "    sigma = max(abs(upper), abs(lower))\n",
    "    print(author, mu, max(abs(upper), abs(lower)))\n",
    "    colour = tuple(map(float, df[author]['colour'][1:-1].split(', ')))\n",
    "    ax.barh(y, sigma, color=colour, align='center')\n",
    "    label = r\"%.5f$\\pm$\" % (mu)\n",
    "    labels_with_mu.append(label)\n",
    "    author_label.append(author)\n",
    "    y += 1\n",
    "\n",
    "ax.set_ylabel(r'$a/R_{*}$')\n",
    "ax.set_yticks(y_list, labels=labels_with_mu)\n",
    "ax.set_xlabel(r'Uncertainty')\n",
    "ax.ticklabel_format(axis='x', style='scientific', scilimits=(0,0))\n",
    "\n",
    "# Mirror y\n",
    "axy = ax.twinx()\n",
    "axy.set_ylim(ax.get_ylim())\n",
    "axy.get_yaxis().set_ticklabels([])\n",
    "axy.tick_params(which=\"both\", direction=\"in\")\n",
    "axy.set_yticks(y_list, labels=author_label)\n",
    "\n",
    "\n",
    "# Mirror x\n",
    "axx = ax.twiny()\n",
    "axx.set_xlim(ax.get_xlim())\n",
    "axx.tick_params(which=\"both\", direction=\"in\")\n",
    "axx.get_xaxis().set_ticklabels([])\n",
    "\n",
    "ax.xaxis.set_minor_locator(tck.AutoMinorLocator())\n",
    "axx.xaxis.set_minor_locator(tck.AutoMinorLocator())\n",
    "\n",
    "plt.show()"
   ]
  }
 ],
 "metadata": {
  "kernelspec": {
   "display_name": "MSci_project",
   "language": "python",
   "name": "python3"
  },
  "language_info": {
   "codemirror_mode": {
    "name": "ipython",
    "version": 3
   },
   "file_extension": ".py",
   "mimetype": "text/x-python",
   "name": "python",
   "nbconvert_exporter": "python",
   "pygments_lexer": "ipython3",
   "version": "3.10.4"
  },
  "orig_nbformat": 4,
  "vscode": {
   "interpreter": {
    "hash": "7bd4fe6967f9cc850d872c9777b9eeb4234965a4c66e35bcc9347dfc982970e3"
   }
  }
 },
 "nbformat": 4,
 "nbformat_minor": 2
}
