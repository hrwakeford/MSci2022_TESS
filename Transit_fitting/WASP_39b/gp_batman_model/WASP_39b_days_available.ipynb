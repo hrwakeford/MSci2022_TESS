{
 "cells": [
  {
   "cell_type": "code",
   "execution_count": 1,
   "metadata": {},
   "outputs": [],
   "source": [
    "import os\n",
    "os.environ[\"OMP_NUM_THREADS\"] = \"4\"\n",
    "\n",
    "import lightkurve as lk\n",
    "import numpy as np\n",
    "import matplotlib.pyplot as plt\n",
    "import matplotlib.ticker as ticker\n",
    "import corner\n",
    "import batman\n",
    "import emcee\n",
    "import time\n",
    "from multiprocessing import Pool\n",
    "from IPython.display import display, Math\n",
    "from matplotlib.ticker import (MultipleLocator, AutoMinorLocator)\n",
    "import matplotlib.ticker as tck\n",
    "\n",
    "from exotic_ld import StellarLimbDarkening\n",
    "\n",
    "import pandas as pd\n",
    "import pickle\n",
    "\n",
    "import celerite2\n",
    "from celerite2 import terms"
   ]
  },
  {
   "cell_type": "code",
   "execution_count": 2,
   "metadata": {},
   "outputs": [
    {
     "name": "stdout",
     "output_type": "stream",
     "text": [
      "trying to download\n",
      "Search done\n",
      "LightCurveCollection of 1 objects:\n",
      "    0: <TessLightCurve LABEL=\"TIC 181949561\" SECTOR=51 AUTHOR=SPOC FLUX_ORIGIN=pdcsap_flux>\n"
     ]
    }
   ],
   "source": [
    "TIC = 'TIC 181949561' #WASP-39b / TIC 181949561\n",
    "\n",
    "search_result = lk.search_lightcurve(\n",
    "    target=TIC,\n",
    "    mission='TESS', author='SPOC')\n",
    "print(\"trying to download\")\n",
    "lc_collection = search_result.download_all()\n",
    "print(\"Search done\")\n",
    "print(lc_collection)\n",
    "lc = lc_collection.stitch(corrector_func=lambda x: x.\n",
    "                          remove_nans().normalize(unit='unscaled'))\n",
    "\n",
    "lc = lc.remove_nans()"
   ]
  },
  {
   "cell_type": "code",
   "execution_count": 3,
   "metadata": {},
   "outputs": [
    {
     "name": "stdout",
     "output_type": "stream",
     "text": [
      "24.5802232093 days\n"
     ]
    }
   ],
   "source": [
    "a = max(lc.time.btjd) - min(lc.time.btjd)\n",
    "\n",
    "print(\"%.10f days\" % a)"
   ]
  }
 ],
 "metadata": {
  "kernelspec": {
   "display_name": "MSci_project",
   "language": "python",
   "name": "python3"
  },
  "language_info": {
   "codemirror_mode": {
    "name": "ipython",
    "version": 3
   },
   "file_extension": ".py",
   "mimetype": "text/x-python",
   "name": "python",
   "nbconvert_exporter": "python",
   "pygments_lexer": "ipython3",
   "version": "3.10.4"
  },
  "orig_nbformat": 4
 },
 "nbformat": 4,
 "nbformat_minor": 2
}
