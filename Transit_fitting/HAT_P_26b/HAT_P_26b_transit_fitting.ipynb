{
 "cells": [
  {
   "cell_type": "code",
   "execution_count": null,
   "metadata": {},
   "outputs": [],
   "source": [
    "import os\n",
    "os.environ[\"OMP_NUM_THREADS\"] = \"4\"\n",
    "\n",
    "import lightkurve as lk\n",
    "import numpy as np\n",
    "import matplotlib.pyplot as plt\n",
    "import matplotlib.ticker as ticker\n",
    "import corner\n",
    "import batman\n",
    "import emcee\n",
    "import time\n",
    "from multiprocessing import Pool\n",
    "from IPython.display import display, Math\n",
    "from matplotlib.ticker import (MultipleLocator, AutoMinorLocator)\n",
    "import matplotlib.ticker as tck\n",
    "\n",
    "from exotic_ld import StellarLimbDarkening\n",
    "\n",
    "import pandas as pd\n",
    "import pickle"
   ]
  },
  {
   "cell_type": "code",
   "execution_count": null,
   "metadata": {},
   "outputs": [],
   "source": [
    "def semi_major_axis_in_stellar_radii(semi_major_axis, R_star):\n",
    "    \"\"\"\n",
    "    Converting the semi-major axis (AU) to (Stellar radii)\n",
    "\n",
    "    Parameters\n",
    "    ----------\n",
    "    semi_major_axis : float\n",
    "        Semi-major axis of the planet in AU.\n",
    "\n",
    "    R_star : float\n",
    "        Stellar radius in R_sun.\n",
    "\n",
    "    Returns\n",
    "    -------\n",
    "    a_stellar_radii : float\n",
    "        Semi-major axis of the planet in stellar radii.\n",
    "    \"\"\"\n",
    "    #1 AU = 215.032 R_Sun\n",
    "\n",
    "    a_stellar_radii = semi_major_axis * 215.032 / R_star\n",
    "\n",
    "    return a_stellar_radii"
   ]
  },
  {
   "cell_type": "code",
   "execution_count": null,
   "metadata": {},
   "outputs": [],
   "source": [
    "TIC = 'TIC 420779000' #HAT-P-26b / TIC 420779000\n",
    "\n",
    "search_result = lk.search_lightcurve(\n",
    "    target=TIC,\n",
    "    mission='TESS', author='SPOC')\n",
    "print(\"trying to download\")\n",
    "lc_collection = search_result.download_all()\n",
    "print(\"Search done\")\n",
    "print(lc_collection)\n",
    "lc = lc_collection.stitch(corrector_func=lambda x: x.\n",
    "                          remove_nans().normalize(unit='unscaled'))\n",
    "\n",
    "lc = lc.remove_nans()"
   ]
  },
  {
   "cell_type": "code",
   "execution_count": null,
   "metadata": {},
   "outputs": [],
   "source": [
    "lc"
   ]
  },
  {
   "cell_type": "code",
   "execution_count": null,
   "metadata": {},
   "outputs": [],
   "source": [
    "t = np.array(lc.time.btjd)\n",
    "flux_data = np.array(lc.flux)\n",
    "yerrs = np.array(lc.flux_err)"
   ]
  },
  {
   "cell_type": "code",
   "execution_count": null,
   "metadata": {},
   "outputs": [],
   "source": [
    "fig, ax = plt.subplots(1, figsize=(14,6))\n",
    "plt.errorbar(t, flux_data, yerrs, fmt='.', color='Black', ecolor='LightGrey')\n",
    "\n",
    "\n",
    "plt.ylabel(\"Normalised flux\", size=17)\n",
    "plt.xlabel(\"Time - 2457000 (BTJD days)\", size=17)\n",
    "\n",
    "ax.xaxis.set_tick_params(labelsize=17)\n",
    "ax.yaxis.set_tick_params(labelsize=17)\n",
    "\n",
    "ax.xaxis.set_minor_locator(tck.AutoMinorLocator())\n",
    "ax.yaxis.set_minor_locator(tck.AutoMinorLocator())\n",
    "\n",
    "plt.show()\n"
   ]
  },
  {
   "cell_type": "code",
   "execution_count": null,
   "metadata": {},
   "outputs": [],
   "source": [
    "prior_Rs = 0.8564404 #R_sun, Gaia DR2\n",
    "\n",
    "guess_params = batman.TransitParams()\n",
    "guess_params.w = 46.0                                          #Knutson et al. 2014 - longitude of periastron (in degrees)\n",
    "guess_params.limb_dark = \"quadratic\"                          #limb darkening model\n",
    "guess_params.u = [0.43885935628841155, 0.17612013577695576]                            #limb darkening coefficients\n"
   ]
  },
  {
   "cell_type": "code",
   "execution_count": null,
   "metadata": {},
   "outputs": [],
   "source": [
    "def log_likelihood(prior_params, true_flux, yerrs):\n",
    "    \"\"\"\n",
    "    \n",
    "    Parameters\n",
    "    ----------\n",
    "\n",
    "\n",
    "    Returns\n",
    "    -------\n",
    "    \n",
    "    \"\"\"\n",
    "    t_0, R_planet_stellar, orbital_period, orbital_inclination, semi_major_axis, eccen = prior_params\n",
    "\n",
    "    guess_params.t0 = t_0\n",
    "    guess_params.rp = R_planet_stellar\n",
    "    guess_params.per = orbital_period\n",
    "    guess_params.inc = orbital_inclination\n",
    "    guess_params.a = semi_major_axis\n",
    "    guess_params.ecc = eccen\n",
    "    \n",
    "    guess_m = batman.TransitModel(guess_params, t)\n",
    "    guess_flux = guess_m.light_curve(guess_params)\n",
    "\n",
    "    L1 = -0.5 * np.power((true_flux - guess_flux), 2) / np.power(yerrs, 2) #Sigma\n",
    "    L2 = -0.5 * np.log(2 * np.pi * yerrs**2) #Sigma\n",
    "    L3 = np.sum(L1) + np.sum(L2)\n",
    "    return L3\n",
    "\n",
    "\n",
    "def log_prior(prior_params):\n",
    "    \"\"\"\n",
    "    \n",
    "    Parameters\n",
    "    ----------\n",
    "\n",
    "\n",
    "    Returns\n",
    "    -------\n",
    "    \n",
    "    \"\"\"\n",
    "    t_0, R_planet_stellar, orbital_period, orbital_inclination, semi_major_axis, eccen = prior_params\n",
    "\n",
    "    P = 0.0\n",
    "    if (t_0 < 2670.0) or (t_0 > 2671.0): #Days\n",
    "        P += -np.inf\n",
    "        return -np.inf\n",
    "\n",
    "    if (R_planet_stellar < 0.05) or (R_planet_stellar > 0.1):\n",
    "        P += -np.inf\n",
    "        return P\n",
    "\n",
    "    if (orbital_period < 4.1) or (orbital_period > 4.3): #Days\n",
    "        P += -np.inf\n",
    "        return P\n",
    "\n",
    "    if (orbital_inclination < 83) or (orbital_inclination > 90): #Degrees\n",
    "        P += -np.inf\n",
    "        return -np.inf\n",
    "    \n",
    "\n",
    "    if (semi_major_axis < 5) or (semi_major_axis > 22): #AU\n",
    "        P += -np.inf\n",
    "        return P\n",
    "\n",
    "    if (eccen < 0.10) or (eccen > 0.5): #Eccentricity\n",
    "        P += -np.inf\n",
    "        return P\n",
    "\n",
    "    return P\n",
    "\n",
    "def log_prob(prior_params, true_flux, yerrs):\n",
    "    lp = log_prior(prior_params)\n",
    "    if (np.isinf(lp) == True):\n",
    "        return -np.inf\n",
    "\n",
    "    return log_likelihood(prior_params, true_flux, yerrs) + lp"
   ]
  },
  {
   "cell_type": "code",
   "execution_count": null,
   "metadata": {},
   "outputs": [],
   "source": [
    "prior_t0 = 2670.4 #(Days) Myself\n",
    "prior_rprs = 0.0737 #Hartman et al. 2010\n",
    "prior_per =  4.2345002 #(Days) Kokori et al. 2022\n",
    "prior_inc =  88.6 #(Deg) Hartman et al. 2010\n",
    "prior_a = semi_major_axis_in_stellar_radii(0.0479, prior_Rs) #(AU) Hartman et al. 2010\n",
    "prior_eccen = 0.12 #Stassun et al. 2017\n",
    "\n",
    "guess = [prior_t0, prior_rprs, prior_per, prior_inc, prior_a, prior_eccen]"
   ]
  },
  {
   "cell_type": "code",
   "execution_count": null,
   "metadata": {},
   "outputs": [],
   "source": [
    "scatter = 1E-8 #Walker scattering of the parameters\n",
    "\n",
    "pos = guess + scatter * np.random.randn(20, len(guess))\n",
    "\n",
    "nwalkers, ndim = pos.shape\n",
    "\n",
    "filename = \"HAT_P_26b.h5\"\n",
    "backend = emcee.backends.HDFBackend(filename)\n",
    "backend.reset(nwalkers, ndim)\n",
    "\n",
    "with Pool() as pool:\n",
    "    start_time = time.time()\n",
    "    sampler = emcee.EnsembleSampler(nwalkers, ndim, log_prob, args=(flux_data, yerrs), a=2)\n",
    "    sampler.run_mcmc(pos, 30000, progress=True)\n",
    "    end_time = time.time()\n",
    "    execution_time = (end_time - start_time)\n",
    "    print(\"Start:       {}\".format(time.ctime(int(start_time))))\n",
    "    print(\"End:         {}\".format(time.ctime(int(end_time))))\n",
    "    print(\"Time taken:  {:.2f} s\".format(execution_time))"
   ]
  },
  {
   "cell_type": "code",
   "execution_count": null,
   "metadata": {},
   "outputs": [],
   "source": [
    "tau = sampler.get_autocorr_time()\n",
    "print(tau)"
   ]
  },
  {
   "cell_type": "code",
   "execution_count": null,
   "metadata": {},
   "outputs": [],
   "source": [
    "burnin = int(5 * np.max(tau))\n",
    "thin = int(0.5 * np.min(tau))\n",
    "flat_samples = sampler.get_chain(discard=burnin, thin=thin, flat=True)\n",
    "print(flat_samples.shape)"
   ]
  },
  {
   "cell_type": "code",
   "execution_count": null,
   "metadata": {
    "collapsed": false
   },
   "outputs": [],
   "source": [
    "filename = \"HAT_P_26b_flat_samples.p\"\n",
    "file = open(filename, \"wb\")\n",
    "pickle.dump(flat_samples, file)\n",
    "file.close()"
   ]
  },
  {
   "cell_type": "code",
   "execution_count": null,
   "metadata": {},
   "outputs": [],
   "source": [
    "fig, axes = plt.subplots(len(guess), figsize=(10, 7), sharex=True)\n",
    "samples = sampler.get_chain()\n",
    "labels = [\"$T_{0}$ (Days)\", \"$R_{p}/R_{*}$\", \"Orbital Period (Days)\", \"Orbital Inclination (Deg)\", \"Semi-major axis ($a/R_{*}$)\", \"Eccentricity ($e$)\"]\n",
    "\n",
    "for i in range(ndim):\n",
    "    ax = axes[i]\n",
    "    ax.plot(samples[:, :, i], \"k\", alpha=0.3)\n",
    "    ax.axvline(x=burnin, color='red', ls=\"--\",alpha=0.7)\n",
    "    ax.set_xlim(0, len(samples))\n",
    "    ax.set_ylabel(labels[i])\n",
    "\n",
    "axes[-1].set_xlabel(\"Step number\")\n",
    "plt.show()"
   ]
  },
  {
   "cell_type": "code",
   "execution_count": null,
   "metadata": {},
   "outputs": [],
   "source": [
    "fig = corner.corner(\n",
    "    flat_samples, labels=labels)"
   ]
  },
  {
   "cell_type": "code",
   "execution_count": null,
   "metadata": {
    "collapsed": false
   },
   "outputs": [],
   "source": [
    "transit_params = []\n",
    "for i in range(ndim):\n",
    "    mcmc = np.percentile(flat_samples[:, i], [16, 50, 84])\n",
    "    q = np.diff(mcmc)\n",
    "    txt = \"\\mathrm{{{3}}} = {0:.8f}_{{-{1:.10f}}}^{{{2:.10f}}}\"\n",
    "    txt = txt.format(mcmc[1], q[0], q[1], labels[i])\n",
    "\n",
    "    val = \"{}+{}-{}\".format(mcmc[1], q[0], q[1])\n",
    "    entry = [labels[i], val]\n",
    "    transit_params.append(entry)\n",
    "\n",
    "    display(Math(txt))\n",
    "\n",
    "df = pd.DataFrame(data=transit_params)\n",
    "\n",
    "df.to_csv(\"HAT_P_26b_params.csv\",header=False, index=False)"
   ]
  }
 ],
 "metadata": {
  "kernelspec": {
   "display_name": "MSci_project",
   "language": "python",
   "name": "python3"
  },
  "language_info": {
   "codemirror_mode": {
    "name": "ipython",
    "version": 3
   },
   "file_extension": ".py",
   "mimetype": "text/x-python",
   "name": "python",
   "nbconvert_exporter": "python",
   "pygments_lexer": "ipython3",
   "version": "3.10.4"
  },
  "orig_nbformat": 4,
  "vscode": {
   "interpreter": {
    "hash": "7bd4fe6967f9cc850d872c9777b9eeb4234965a4c66e35bcc9347dfc982970e3"
   }
  }
 },
 "nbformat": 4,
 "nbformat_minor": 2
}
