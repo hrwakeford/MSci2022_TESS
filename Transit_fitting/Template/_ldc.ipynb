{
 "cells": [
  {
   "cell_type": "code",
   "execution_count": null,
   "metadata": {},
   "outputs": [],
   "source": [
    "from exotic_ld import StellarLimbDarkening"
   ]
  },
  {
   "cell_type": "code",
   "execution_count": null,
   "metadata": {},
   "outputs": [],
   "source": [
    "# ld_data_path = r\"/data/cluster4/rk19047/exotic_ld_data\"\n",
    "ld_data_path = r\"C:/Users/Student/Documents/exotic_ld_data\"\n",
    "\n",
    "ld_model = 'mps1' # Stellar models grid.\n",
    "\n",
    "M_H = None # Metallicty [dex].\n",
    "#\n",
    "\n",
    "Teff = None # Effective temperature [K].\n",
    "#\n",
    "\n",
    "logg = None # Surface gravity [dex].\n",
    "#\n",
    "\n",
    "sld = StellarLimbDarkening(M_H, Teff, logg, ld_model, ld_data_path)\n",
    "\n",
    "# Start and end of wavelength interval [angstroms].\n",
    "wavelength_range = [6000., 10000.]\n",
    "\n",
    "# Instrument mode.\n",
    "mode = 'TESS'\n",
    "\n",
    "u1, u2 = sld.compute_quadratic_ld_coeffs(wavelength_range, mode)\n",
    "print([u1, u2])"
   ]
  }
 ],
 "metadata": {
  "kernelspec": {
   "display_name": "MSci_project",
   "language": "python",
   "name": "python3"
  },
  "language_info": {
   "name": "python",
   "version": "3.10.4"
  },
  "orig_nbformat": 4,
  "vscode": {
   "interpreter": {
    "hash": "7bd4fe6967f9cc850d872c9777b9eeb4234965a4c66e35bcc9347dfc982970e3"
   }
  }
 },
 "nbformat": 4,
 "nbformat_minor": 2
}
