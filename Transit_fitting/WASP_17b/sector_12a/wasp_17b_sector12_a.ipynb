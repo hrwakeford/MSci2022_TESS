{
 "cells": [
  {
   "cell_type": "code",
   "execution_count": 1,
   "metadata": {},
   "outputs": [],
   "source": [
    "import os\n",
    "os.environ[\"OMP_NUM_THREADS\"] = \"4\"\n",
    "\n",
    "import lightkurve as lk\n",
    "import numpy as np\n",
    "import matplotlib.pyplot as plt\n",
    "import matplotlib.ticker as ticker\n",
    "import corner\n",
    "import batman\n",
    "import emcee\n",
    "import time\n",
    "from multiprocessing import Pool\n",
    "from IPython.display import display, Math\n",
    "from matplotlib.ticker import (MultipleLocator, AutoMinorLocator)\n",
    "import matplotlib.ticker as tck\n",
    "\n",
    "# import sys\n",
    "# sys.path.insert(0, r'/Users/Student/OneDrive/MSci project/MSci2022_TESS/packages')\n",
    "# from unit_conversion import *"
   ]
  },
  {
   "cell_type": "code",
   "execution_count": 1,
   "metadata": {
    "collapsed": false
   },
   "outputs": [],
   "source": []
  },
  {
   "cell_type": "code",
   "execution_count": 2,
   "metadata": {},
   "outputs": [],
   "source": [
    "def semi_major_axis_in_stellar_radii(semi_major_axis, R_star):\n",
    "    \"\"\"\n",
    "    Converting the semi-major axis (AU) to (Stellar radii)\n",
    "\n",
    "    Parameters\n",
    "    ----------\n",
    "    semi_major_axis : float\n",
    "        Semi-major axis of the planet in AU.\n",
    "\n",
    "    R_star : float\n",
    "        Stellar radius in R_sun.\n",
    "\n",
    "    Returns\n",
    "    -------\n",
    "    a_stellar_radii : float\n",
    "        Semi-major axis of the planet in stellar radii.\n",
    "    \"\"\"\n",
    "    #1 AU = 215.032 R_Sun\n",
    "\n",
    "    a_stellar_radii = semi_major_axis * 215.032 / R_star\n",
    "\n",
    "    return a_stellar_radii"
   ]
  },
  {
   "cell_type": "code",
   "execution_count": 3,
   "metadata": {},
   "outputs": [
    {
     "name": "stdout",
     "output_type": "stream",
     "text": [
      "trying to download\n",
      "Search done\n"
     ]
    }
   ],
   "source": [
    "TIC = 'TIC 66818296' #WASP-17 / TIC 66818296\n",
    "\n",
    "search_result = lk.search_lightcurve(\n",
    "    target=TIC,\n",
    "    mission='TESS', author='SPOC')\n",
    "print(\"trying to download\")\n",
    "lc_collection = search_result.download_all()\n",
    "print(\"Search done\")\n",
    "\n",
    "# lc = lc_collection.stitch(corrector_func=lambda x: x.\n",
    "#                           remove_nans().normalize(unit='unscaled'))\n",
    "lc = lc_collection[0] #Sector 12\n",
    "# lc = lc.remove_outliers(sigma=10)\n",
    "lc = lc.remove_nans()"
   ]
  },
  {
   "cell_type": "code",
   "execution_count": 4,
   "metadata": {},
   "outputs": [
    {
     "data": {
      "text/plain": "<TessLightCurve length=13936 LABEL=\"TIC 66818296\" SECTOR=12 AUTHOR=SPOC FLUX_ORIGIN=pdcsap_flux>\n       time             flux      ...   pos_corr1      pos_corr2   \n                    electron / s  ...      pix            pix      \n       Time           float32     ...    float32        float32    \n------------------ -------------- ... -------------- --------------\n1628.9527366213874  6.3341509e+03 ...  4.0939126e-02  2.0365320e-01\n1628.9541255101508  6.3620981e+03 ...  2.5400141e-02  2.1769401e-01\n 1628.955514398915  6.3306445e+03 ...  3.9708838e-02  2.1558438e-01\n1628.9569032876798  6.3264453e+03 ...  5.3074531e-02  1.9718842e-01\n1628.9582921764436  6.3507231e+03 ...  4.2726278e-02  2.0543911e-01\n 1628.959681065207  6.3613721e+03 ...  2.1659279e-02  2.1886539e-01\n 1628.961069953971  6.3339062e+03 ...  3.9847802e-02  2.0756216e-01\n 1628.962458842735  6.3466934e+03 ...  3.7096344e-02  2.0781381e-01\n1628.9638477314988  6.3302324e+03 ...  4.2317994e-02  2.1254507e-01\n               ...            ... ...            ...            ...\n1652.8842412266986  6.3973770e+03 ...  7.0131570e-02 -6.3381739e-02\n1652.8856300647049  6.4136611e+03 ...  7.1430922e-02 -5.9996147e-02\n1652.8870189027111  6.4221797e+03 ...  6.2911309e-02 -6.4712152e-02\n1652.8884077407179  6.3983271e+03 ...  6.6857502e-02 -6.2283788e-02\n1652.8897965791898  6.3924590e+03 ...  7.3385313e-02 -5.5208735e-02\n 1652.891185417197  6.4055181e+03 ...  7.0239693e-02 -6.5530986e-02\n1652.8925742552046  6.3843955e+03 ...  6.9010720e-02 -6.3583061e-02\n1652.8939630932114  6.3856416e+03 ...  6.5565862e-02 -6.4391859e-02\n1652.8953519312176  6.3990420e+03 ...  7.4729733e-02 -5.6722909e-02\n 1652.896740769224  6.3697603e+03 ...  6.6471055e-02 -5.7022590e-02",
      "text/html": "<div><i>TessLightCurve length=13936 LABEL=&quot;TIC 66818296&quot; SECTOR=12 AUTHOR=SPOC FLUX_ORIGIN=pdcsap_flux</i>\n<table id=\"table140235287697328\" class=\"table-striped table-bordered table-condensed\">\n<thead><tr><th>time</th><th>flux</th><th>flux_err</th><th>timecorr</th><th>cadenceno</th><th>centroid_col</th><th>centroid_row</th><th>sap_flux</th><th>sap_flux_err</th><th>sap_bkg</th><th>sap_bkg_err</th><th>pdcsap_flux</th><th>pdcsap_flux_err</th><th>quality</th><th>psf_centr1</th><th>psf_centr1_err</th><th>psf_centr2</th><th>psf_centr2_err</th><th>mom_centr1</th><th>mom_centr1_err</th><th>mom_centr2</th><th>mom_centr2_err</th><th>pos_corr1</th><th>pos_corr2</th></tr></thead>\n<thead><tr><th></th><th>electron / s</th><th>electron / s</th><th>d</th><th></th><th>pix</th><th>pix</th><th>electron / s</th><th>electron / s</th><th>electron / s</th><th>electron / s</th><th>electron / s</th><th>electron / s</th><th></th><th>pix</th><th>pix</th><th>pix</th><th>pix</th><th>pix</th><th>pix</th><th>pix</th><th>pix</th><th>pix</th><th>pix</th></tr></thead>\n<thead><tr><th>Time</th><th>float32</th><th>float32</th><th>float32</th><th>int32</th><th>float64</th><th>float64</th><th>float32</th><th>float32</th><th>float32</th><th>float32</th><th>float32</th><th>float32</th><th>int32</th><th>float64</th><th>float32</th><th>float64</th><th>float32</th><th>float64</th><th>float32</th><th>float64</th><th>float32</th><th>float32</th><th>float32</th></tr></thead>\n<tr><td>1628.9527366213874</td><td>6.3341509e+03</td><td>1.4243086e+01</td><td>5.7549695e-03</td><td>289074</td><td>1734.75869</td><td>254.41609</td><td>5.6552012e+03</td><td>1.2536695e+01</td><td>4.5658228e+03</td><td>5.9796586e+00</td><td>6.3341509e+03</td><td>1.4243086e+01</td><td>0</td><td>———</td><td>———</td><td>———</td><td>———</td><td>1734.75869</td><td>1.7931858e-03</td><td>254.41609</td><td>1.7716236e-03</td><td>4.0939126e-02</td><td>2.0365320e-01</td></tr>\n<tr><td>1628.9541255101508</td><td>6.3620981e+03</td><td>1.4249902e+01</td><td>5.7549700e-03</td><td>289075</td><td>1734.74578</td><td>254.42646</td><td>5.6748306e+03</td><td>1.2542694e+01</td><td>4.5680073e+03</td><td>5.9771156e+00</td><td>6.3620981e+03</td><td>1.4249902e+01</td><td>0</td><td>———</td><td>———</td><td>———</td><td>———</td><td>1734.74578</td><td>1.7894373e-03</td><td>254.42646</td><td>1.7657484e-03</td><td>2.5400141e-02</td><td>2.1769401e-01</td></tr>\n<tr><td>1628.955514398915</td><td>6.3306445e+03</td><td>1.4238987e+01</td><td>5.7549705e-03</td><td>289076</td><td>1734.75697</td><td>254.42326</td><td>5.6416396e+03</td><td>1.2533087e+01</td><td>4.5655005e+03</td><td>5.9784079e+00</td><td>6.3306445e+03</td><td>1.4238987e+01</td><td>0</td><td>———</td><td>———</td><td>———</td><td>———</td><td>1734.75697</td><td>1.8040523e-03</td><td>254.42326</td><td>1.7733830e-03</td><td>3.9708838e-02</td><td>2.1558438e-01</td></tr>\n<tr><td>1628.9569032876798</td><td>6.3264453e+03</td><td>1.4231798e+01</td><td>5.7549709e-03</td><td>289077</td><td>1734.77388</td><td>254.40724</td><td>5.6449824e+03</td><td>1.2526758e+01</td><td>4.5653208e+03</td><td>5.9806061e+00</td><td>6.3264453e+03</td><td>1.4231798e+01</td><td>0</td><td>———</td><td>———</td><td>———</td><td>———</td><td>1734.77388</td><td>1.8003181e-03</td><td>254.40724</td><td>1.7727494e-03</td><td>5.3074531e-02</td><td>1.9718842e-01</td></tr>\n<tr><td>1628.9582921764436</td><td>6.3507231e+03</td><td>1.4239328e+01</td><td>5.7549714e-03</td><td>289078</td><td>1734.75465</td><td>254.41574</td><td>5.6675269e+03</td><td>1.2533387e+01</td><td>4.5580649e+03</td><td>5.9763598e+00</td><td>6.3507231e+03</td><td>1.4239328e+01</td><td>0</td><td>———</td><td>———</td><td>———</td><td>———</td><td>1734.75465</td><td>1.7944344e-03</td><td>254.41574</td><td>1.7658967e-03</td><td>4.2726278e-02</td><td>2.0543911e-01</td></tr>\n<tr><td>1628.959681065207</td><td>6.3613721e+03</td><td>1.4237165e+01</td><td>5.7549719e-03</td><td>289079</td><td>1734.73932</td><td>254.42526</td><td>5.6712891e+03</td><td>1.2531484e+01</td><td>4.5560479e+03</td><td>5.9750943e+00</td><td>6.3613721e+03</td><td>1.4237165e+01</td><td>0</td><td>———</td><td>———</td><td>———</td><td>———</td><td>1734.73932</td><td>1.7894540e-03</td><td>254.42526</td><td>1.7633970e-03</td><td>2.1659279e-02</td><td>2.1886539e-01</td></tr>\n<tr><td>1628.961069953971</td><td>6.3339062e+03</td><td>1.4225781e+01</td><td>5.7549723e-03</td><td>289080</td><td>1734.75758</td><td>254.41773</td><td>5.6525649e+03</td><td>1.2521463e+01</td><td>4.5581753e+03</td><td>5.9713359e+00</td><td>6.3339062e+03</td><td>1.4225781e+01</td><td>0</td><td>———</td><td>———</td><td>———</td><td>———</td><td>1734.75758</td><td>1.7970275e-03</td><td>254.41773</td><td>1.7686322e-03</td><td>3.9847802e-02</td><td>2.0756216e-01</td></tr>\n<tr><td>1628.962458842735</td><td>6.3466934e+03</td><td>1.4234877e+01</td><td>5.7549728e-03</td><td>289081</td><td>1734.75298</td><td>254.41704</td><td>5.6614937e+03</td><td>1.2529469e+01</td><td>4.5481836e+03</td><td>5.9697313e+00</td><td>6.3466934e+03</td><td>1.4234877e+01</td><td>0</td><td>———</td><td>———</td><td>———</td><td>———</td><td>1734.75298</td><td>1.7935706e-03</td><td>254.41704</td><td>1.7688903e-03</td><td>3.7096344e-02</td><td>2.0781381e-01</td></tr>\n<tr><td>1628.9638477314988</td><td>6.3302324e+03</td><td>1.4219911e+01</td><td>5.7549733e-03</td><td>289082</td><td>1734.75787</td><td>254.41941</td><td>5.6412266e+03</td><td>1.2516295e+01</td><td>4.5579976e+03</td><td>5.9698505e+00</td><td>6.3302324e+03</td><td>1.4219911e+01</td><td>0</td><td>———</td><td>———</td><td>———</td><td>———</td><td>1734.75787</td><td>1.7998189e-03</td><td>254.41941</td><td>1.7731481e-03</td><td>4.2317994e-02</td><td>2.1254507e-01</td></tr>\n<tr><td>...</td><td>...</td><td>...</td><td>...</td><td>...</td><td>...</td><td>...</td><td>...</td><td>...</td><td>...</td><td>...</td><td>...</td><td>...</td><td>...</td><td>...</td><td>...</td><td>...</td><td>...</td><td>...</td><td>...</td><td>...</td><td>...</td><td>...</td><td>...</td></tr>\n<tr><td>1652.8842412266986</td><td>6.3973770e+03</td><td>1.2119286e+01</td><td>5.3253085e-03</td><td>306305</td><td>1734.78563</td><td>254.20219</td><td>5.7240815e+03</td><td>1.0667336e+01</td><td>2.1094348e+03</td><td>4.4017510e+00</td><td>6.3973770e+03</td><td>1.2119286e+01</td><td>0</td><td>———</td><td>———</td><td>———</td><td>———</td><td>1734.78563</td><td>1.5082975e-03</td><td>254.20219</td><td>1.5147554e-03</td><td>7.0131570e-02</td><td>-6.3381739e-02</td></tr>\n<tr><td>1652.8856300647049</td><td>6.4136611e+03</td><td>1.2108074e+01</td><td>5.3252582e-03</td><td>306306</td><td>1734.78636</td><td>254.21052</td><td>5.7389985e+03</td><td>1.0657467e+01</td><td>2.0976331e+03</td><td>4.3906398e+00</td><td>6.4136611e+03</td><td>1.2108074e+01</td><td>0</td><td>———</td><td>———</td><td>———</td><td>———</td><td>1734.78636</td><td>1.5015450e-03</td><td>254.21052</td><td>1.5103610e-03</td><td>7.1430922e-02</td><td>-5.9996147e-02</td></tr>\n<tr><td>1652.8870189027111</td><td>6.4221797e+03</td><td>1.2123766e+01</td><td>5.3252080e-03</td><td>306307</td><td>1734.77986</td><td>254.20220</td><td>5.7476128e+03</td><td>1.0671279e+01</td><td>2.1022725e+03</td><td>4.3979211e+00</td><td>6.4221797e+03</td><td>1.2123766e+01</td><td>0</td><td>———</td><td>———</td><td>———</td><td>———</td><td>1734.77986</td><td>1.4992405e-03</td><td>254.20220</td><td>1.5108782e-03</td><td>6.2911309e-02</td><td>-6.4712152e-02</td></tr>\n<tr><td>1652.8884077407179</td><td>6.3983271e+03</td><td>1.2114341e+01</td><td>5.3251577e-03</td><td>306308</td><td>1734.78541</td><td>254.20206</td><td>5.7270684e+03</td><td>1.0662983e+01</td><td>2.1085813e+03</td><td>4.4009638e+00</td><td>6.3983271e+03</td><td>1.2114341e+01</td><td>0</td><td>———</td><td>———</td><td>———</td><td>———</td><td>1734.78541</td><td>1.5043607e-03</td><td>254.20206</td><td>1.5128258e-03</td><td>6.6857502e-02</td><td>-6.2283788e-02</td></tr>\n<tr><td>1652.8897965791898</td><td>6.3924590e+03</td><td>1.2106463e+01</td><td>5.3251078e-03</td><td>306309</td><td>1734.78758</td><td>254.21132</td><td>5.7163604e+03</td><td>1.0656049e+01</td><td>2.1065190e+03</td><td>4.4001980e+00</td><td>6.3924590e+03</td><td>1.2106463e+01</td><td>0</td><td>———</td><td>———</td><td>———</td><td>———</td><td>1734.78758</td><td>1.5071352e-03</td><td>254.21132</td><td>1.5134240e-03</td><td>7.3385313e-02</td><td>-5.5208735e-02</td></tr>\n<tr><td>1652.891185417197</td><td>6.4055181e+03</td><td>1.2123700e+01</td><td>5.3250575e-03</td><td>306310</td><td>1734.78673</td><td>254.20244</td><td>5.7316792e+03</td><td>1.0671221e+01</td><td>2.1077236e+03</td><td>4.4070473e+00</td><td>6.4055181e+03</td><td>1.2123700e+01</td><td>0</td><td>———</td><td>———</td><td>———</td><td>———</td><td>1734.78673</td><td>1.5065266e-03</td><td>254.20244</td><td>1.5136098e-03</td><td>7.0239693e-02</td><td>-6.5530986e-02</td></tr>\n<tr><td>1652.8925742552046</td><td>6.3843955e+03</td><td>1.2111412e+01</td><td>5.3250073e-03</td><td>306311</td><td>1734.78538</td><td>254.20261</td><td>5.7127754e+03</td><td>1.0660405e+01</td><td>2.1076560e+03</td><td>4.3999491e+00</td><td>6.3843955e+03</td><td>1.2111412e+01</td><td>0</td><td>———</td><td>———</td><td>———</td><td>———</td><td>1734.78538</td><td>1.5065691e-03</td><td>254.20261</td><td>1.5189922e-03</td><td>6.9010720e-02</td><td>-6.3583061e-02</td></tr>\n<tr><td>1652.8939630932114</td><td>6.3856416e+03</td><td>1.2107553e+01</td><td>5.3249570e-03</td><td>306312</td><td>1734.77924</td><td>254.20145</td><td>5.7129624e+03</td><td>1.0657009e+01</td><td>2.1105806e+03</td><td>4.4010901e+00</td><td>6.3856416e+03</td><td>1.2107553e+01</td><td>0</td><td>———</td><td>———</td><td>———</td><td>———</td><td>1734.77924</td><td>1.5043970e-03</td><td>254.20145</td><td>1.5175273e-03</td><td>6.5565862e-02</td><td>-6.4391859e-02</td></tr>\n<tr><td>1652.8953519312176</td><td>6.3990420e+03</td><td>1.2115211e+01</td><td>5.3249067e-03</td><td>306313</td><td>1734.78762</td><td>254.20961</td><td>5.7252354e+03</td><td>1.0663750e+01</td><td>2.1112654e+03</td><td>4.4057474e+00</td><td>6.3990420e+03</td><td>1.2115211e+01</td><td>0</td><td>———</td><td>———</td><td>———</td><td>———</td><td>1734.78762</td><td>1.5068123e-03</td><td>254.20961</td><td>1.5121239e-03</td><td>7.4729733e-02</td><td>-5.6722909e-02</td></tr>\n<tr><td>1652.896740769224</td><td>6.3697603e+03</td><td>1.2108603e+01</td><td>5.3248564e-03</td><td>306314</td><td>1734.78098</td><td>254.20737</td><td>5.6973696e+03</td><td>1.0657933e+01</td><td>2.1111521e+03</td><td>4.4044528e+00</td><td>6.3697603e+03</td><td>1.2108603e+01</td><td>0</td><td>———</td><td>———</td><td>———</td><td>———</td><td>1734.78098</td><td>1.5104027e-03</td><td>254.20737</td><td>1.5206658e-03</td><td>6.6471055e-02</td><td>-5.7022590e-02</td></tr>\n</table></div>"
     },
     "execution_count": 4,
     "metadata": {},
     "output_type": "execute_result"
    }
   ],
   "source": [
    "lc"
   ]
  },
  {
   "cell_type": "code",
   "execution_count": 5,
   "metadata": {},
   "outputs": [
    {
     "data": {
      "text/plain": "<Figure size 800x300 with 1 Axes>",
      "image/png": "[encoded data removed]"
     },
     "metadata": {},
     "output_type": "display_data"
    }
   ],
   "source": [
    "fig, axs = plt.subplots(1, figsize=(8, 3))\n",
    "yes = lc.scatter(label='PDCSAP Flux', ax=axs, normalize=True, ylabel=\"Normalised flux\", color='black')\n",
    "\n",
    "axs.set_xlabel(\"Time - 2457000 (BTJD days)\")\n",
    "\n",
    "axs.xaxis.set_minor_locator(tck.AutoMinorLocator())\n",
    "\n",
    "plt.show()"
   ]
  },
  {
   "cell_type": "code",
   "execution_count": 6,
   "metadata": {},
   "outputs": [],
   "source": [
    "# lc_f = lc.flatten()\n",
    "# lc_bin = lc_f.bin(time_bin_size = 0.006944444) # Default time is in days\n",
    "# lc_bin = lc_bin.remove_nans()\n",
    "# #0.006944444 day = 10 minutes\n",
    "\n",
    "cut = 1425\n",
    "t = (lc.time.btjd)[0:cut]\n",
    "flux_data = lc.flux[0:cut]\n",
    "yerrs = lc.flux_err[0:cut]"
   ]
  },
  {
   "cell_type": "code",
   "execution_count": 7,
   "metadata": {},
   "outputs": [
    {
     "ename": "TypeError",
     "evalue": "cannot write to unmasked output",
     "output_type": "error",
     "traceback": [
      "\u001B[0;31m---------------------------------------------------------------------------\u001B[0m",
      "\u001B[0;31mTypeError\u001B[0m                                 Traceback (most recent call last)",
      "Cell \u001B[0;32mIn[7], line 2\u001B[0m\n\u001B[1;32m      1\u001B[0m fig, ax \u001B[38;5;241m=\u001B[39m plt\u001B[38;5;241m.\u001B[39msubplots(\u001B[38;5;241m1\u001B[39m, figsize\u001B[38;5;241m=\u001B[39m(\u001B[38;5;241m8\u001B[39m,\u001B[38;5;241m6\u001B[39m))\n\u001B[0;32m----> 2\u001B[0m \u001B[43mplt\u001B[49m\u001B[38;5;241;43m.\u001B[39;49m\u001B[43merrorbar\u001B[49m\u001B[43m(\u001B[49m\u001B[43mt\u001B[49m\u001B[43m,\u001B[49m\u001B[43m \u001B[49m\u001B[43mflux_data\u001B[49m\u001B[43m,\u001B[49m\u001B[43m \u001B[49m\u001B[43myerrs\u001B[49m\u001B[43m,\u001B[49m\u001B[43m \u001B[49m\u001B[43mfmt\u001B[49m\u001B[38;5;241;43m=\u001B[39;49m\u001B[38;5;124;43m'\u001B[39;49m\u001B[38;5;124;43m.\u001B[39;49m\u001B[38;5;124;43m'\u001B[39;49m\u001B[43m,\u001B[49m\u001B[43m \u001B[49m\u001B[43mcolor\u001B[49m\u001B[38;5;241;43m=\u001B[39;49m\u001B[38;5;124;43m'\u001B[39;49m\u001B[38;5;124;43mBlack\u001B[39;49m\u001B[38;5;124;43m'\u001B[39;49m\u001B[43m,\u001B[49m\u001B[43m \u001B[49m\u001B[43mecolor\u001B[49m\u001B[38;5;241;43m=\u001B[39;49m\u001B[38;5;124;43m'\u001B[39;49m\u001B[38;5;124;43mLightGrey\u001B[39;49m\u001B[38;5;124;43m'\u001B[39;49m\u001B[43m)\u001B[49m\n\u001B[1;32m      5\u001B[0m plt\u001B[38;5;241m.\u001B[39mylabel(\u001B[38;5;124m\"\u001B[39m\u001B[38;5;124mNormalised flux\u001B[39m\u001B[38;5;124m\"\u001B[39m, size\u001B[38;5;241m=\u001B[39m\u001B[38;5;241m17\u001B[39m)\n\u001B[1;32m      6\u001B[0m plt\u001B[38;5;241m.\u001B[39mxlabel(\u001B[38;5;124m\"\u001B[39m\u001B[38;5;124mTime - 2457000 (BTJD days)\u001B[39m\u001B[38;5;124m\"\u001B[39m, size\u001B[38;5;241m=\u001B[39m\u001B[38;5;241m17\u001B[39m)\n",
      "File \u001B[0;32m~/anaconda3/envs/MSci_project_solva/lib/python3.10/site-packages/matplotlib/pyplot.py:2492\u001B[0m, in \u001B[0;36merrorbar\u001B[0;34m(x, y, yerr, xerr, fmt, ecolor, elinewidth, capsize, barsabove, lolims, uplims, xlolims, xuplims, errorevery, capthick, data, **kwargs)\u001B[0m\n\u001B[1;32m   2486\u001B[0m \u001B[38;5;129m@_copy_docstring_and_deprecators\u001B[39m(Axes\u001B[38;5;241m.\u001B[39merrorbar)\n\u001B[1;32m   2487\u001B[0m \u001B[38;5;28;01mdef\u001B[39;00m \u001B[38;5;21merrorbar\u001B[39m(\n\u001B[1;32m   2488\u001B[0m         x, y, yerr\u001B[38;5;241m=\u001B[39m\u001B[38;5;28;01mNone\u001B[39;00m, xerr\u001B[38;5;241m=\u001B[39m\u001B[38;5;28;01mNone\u001B[39;00m, fmt\u001B[38;5;241m=\u001B[39m\u001B[38;5;124m'\u001B[39m\u001B[38;5;124m'\u001B[39m, ecolor\u001B[38;5;241m=\u001B[39m\u001B[38;5;28;01mNone\u001B[39;00m,\n\u001B[1;32m   2489\u001B[0m         elinewidth\u001B[38;5;241m=\u001B[39m\u001B[38;5;28;01mNone\u001B[39;00m, capsize\u001B[38;5;241m=\u001B[39m\u001B[38;5;28;01mNone\u001B[39;00m, barsabove\u001B[38;5;241m=\u001B[39m\u001B[38;5;28;01mFalse\u001B[39;00m, lolims\u001B[38;5;241m=\u001B[39m\u001B[38;5;28;01mFalse\u001B[39;00m,\n\u001B[1;32m   2490\u001B[0m         uplims\u001B[38;5;241m=\u001B[39m\u001B[38;5;28;01mFalse\u001B[39;00m, xlolims\u001B[38;5;241m=\u001B[39m\u001B[38;5;28;01mFalse\u001B[39;00m, xuplims\u001B[38;5;241m=\u001B[39m\u001B[38;5;28;01mFalse\u001B[39;00m, errorevery\u001B[38;5;241m=\u001B[39m\u001B[38;5;241m1\u001B[39m,\n\u001B[1;32m   2491\u001B[0m         capthick\u001B[38;5;241m=\u001B[39m\u001B[38;5;28;01mNone\u001B[39;00m, \u001B[38;5;241m*\u001B[39m, data\u001B[38;5;241m=\u001B[39m\u001B[38;5;28;01mNone\u001B[39;00m, \u001B[38;5;241m*\u001B[39m\u001B[38;5;241m*\u001B[39mkwargs):\n\u001B[0;32m-> 2492\u001B[0m     \u001B[38;5;28;01mreturn\u001B[39;00m \u001B[43mgca\u001B[49m\u001B[43m(\u001B[49m\u001B[43m)\u001B[49m\u001B[38;5;241;43m.\u001B[39;49m\u001B[43merrorbar\u001B[49m\u001B[43m(\u001B[49m\n\u001B[1;32m   2493\u001B[0m \u001B[43m        \u001B[49m\u001B[43mx\u001B[49m\u001B[43m,\u001B[49m\u001B[43m \u001B[49m\u001B[43my\u001B[49m\u001B[43m,\u001B[49m\u001B[43m \u001B[49m\u001B[43myerr\u001B[49m\u001B[38;5;241;43m=\u001B[39;49m\u001B[43myerr\u001B[49m\u001B[43m,\u001B[49m\u001B[43m \u001B[49m\u001B[43mxerr\u001B[49m\u001B[38;5;241;43m=\u001B[39;49m\u001B[43mxerr\u001B[49m\u001B[43m,\u001B[49m\u001B[43m \u001B[49m\u001B[43mfmt\u001B[49m\u001B[38;5;241;43m=\u001B[39;49m\u001B[43mfmt\u001B[49m\u001B[43m,\u001B[49m\u001B[43m \u001B[49m\u001B[43mecolor\u001B[49m\u001B[38;5;241;43m=\u001B[39;49m\u001B[43mecolor\u001B[49m\u001B[43m,\u001B[49m\n\u001B[1;32m   2494\u001B[0m \u001B[43m        \u001B[49m\u001B[43melinewidth\u001B[49m\u001B[38;5;241;43m=\u001B[39;49m\u001B[43melinewidth\u001B[49m\u001B[43m,\u001B[49m\u001B[43m \u001B[49m\u001B[43mcapsize\u001B[49m\u001B[38;5;241;43m=\u001B[39;49m\u001B[43mcapsize\u001B[49m\u001B[43m,\u001B[49m\u001B[43m \u001B[49m\u001B[43mbarsabove\u001B[49m\u001B[38;5;241;43m=\u001B[39;49m\u001B[43mbarsabove\u001B[49m\u001B[43m,\u001B[49m\n\u001B[1;32m   2495\u001B[0m \u001B[43m        \u001B[49m\u001B[43mlolims\u001B[49m\u001B[38;5;241;43m=\u001B[39;49m\u001B[43mlolims\u001B[49m\u001B[43m,\u001B[49m\u001B[43m \u001B[49m\u001B[43muplims\u001B[49m\u001B[38;5;241;43m=\u001B[39;49m\u001B[43muplims\u001B[49m\u001B[43m,\u001B[49m\u001B[43m \u001B[49m\u001B[43mxlolims\u001B[49m\u001B[38;5;241;43m=\u001B[39;49m\u001B[43mxlolims\u001B[49m\u001B[43m,\u001B[49m\n\u001B[1;32m   2496\u001B[0m \u001B[43m        \u001B[49m\u001B[43mxuplims\u001B[49m\u001B[38;5;241;43m=\u001B[39;49m\u001B[43mxuplims\u001B[49m\u001B[43m,\u001B[49m\u001B[43m \u001B[49m\u001B[43merrorevery\u001B[49m\u001B[38;5;241;43m=\u001B[39;49m\u001B[43merrorevery\u001B[49m\u001B[43m,\u001B[49m\u001B[43m \u001B[49m\u001B[43mcapthick\u001B[49m\u001B[38;5;241;43m=\u001B[39;49m\u001B[43mcapthick\u001B[49m\u001B[43m,\u001B[49m\n\u001B[1;32m   2497\u001B[0m \u001B[43m        \u001B[49m\u001B[38;5;241;43m*\u001B[39;49m\u001B[38;5;241;43m*\u001B[39;49m\u001B[43m(\u001B[49m\u001B[43m{\u001B[49m\u001B[38;5;124;43m\"\u001B[39;49m\u001B[38;5;124;43mdata\u001B[39;49m\u001B[38;5;124;43m\"\u001B[39;49m\u001B[43m:\u001B[49m\u001B[43m \u001B[49m\u001B[43mdata\u001B[49m\u001B[43m}\u001B[49m\u001B[43m \u001B[49m\u001B[38;5;28;43;01mif\u001B[39;49;00m\u001B[43m \u001B[49m\u001B[43mdata\u001B[49m\u001B[43m \u001B[49m\u001B[38;5;129;43;01mis\u001B[39;49;00m\u001B[43m \u001B[49m\u001B[38;5;129;43;01mnot\u001B[39;49;00m\u001B[43m \u001B[49m\u001B[38;5;28;43;01mNone\u001B[39;49;00m\u001B[43m \u001B[49m\u001B[38;5;28;43;01melse\u001B[39;49;00m\u001B[43m \u001B[49m\u001B[43m{\u001B[49m\u001B[43m}\u001B[49m\u001B[43m)\u001B[49m\u001B[43m,\u001B[49m\u001B[43m \u001B[49m\u001B[38;5;241;43m*\u001B[39;49m\u001B[38;5;241;43m*\u001B[39;49m\u001B[43mkwargs\u001B[49m\u001B[43m)\u001B[49m\n",
      "File \u001B[0;32m~/anaconda3/envs/MSci_project_solva/lib/python3.10/site-packages/matplotlib/__init__.py:1423\u001B[0m, in \u001B[0;36m_preprocess_data.<locals>.inner\u001B[0;34m(ax, data, *args, **kwargs)\u001B[0m\n\u001B[1;32m   1420\u001B[0m \u001B[38;5;129m@functools\u001B[39m\u001B[38;5;241m.\u001B[39mwraps(func)\n\u001B[1;32m   1421\u001B[0m \u001B[38;5;28;01mdef\u001B[39;00m \u001B[38;5;21minner\u001B[39m(ax, \u001B[38;5;241m*\u001B[39margs, data\u001B[38;5;241m=\u001B[39m\u001B[38;5;28;01mNone\u001B[39;00m, \u001B[38;5;241m*\u001B[39m\u001B[38;5;241m*\u001B[39mkwargs):\n\u001B[1;32m   1422\u001B[0m     \u001B[38;5;28;01mif\u001B[39;00m data \u001B[38;5;129;01mis\u001B[39;00m \u001B[38;5;28;01mNone\u001B[39;00m:\n\u001B[0;32m-> 1423\u001B[0m         \u001B[38;5;28;01mreturn\u001B[39;00m \u001B[43mfunc\u001B[49m\u001B[43m(\u001B[49m\u001B[43max\u001B[49m\u001B[43m,\u001B[49m\u001B[43m \u001B[49m\u001B[38;5;241;43m*\u001B[39;49m\u001B[38;5;28;43mmap\u001B[39;49m\u001B[43m(\u001B[49m\u001B[43msanitize_sequence\u001B[49m\u001B[43m,\u001B[49m\u001B[43m \u001B[49m\u001B[43margs\u001B[49m\u001B[43m)\u001B[49m\u001B[43m,\u001B[49m\u001B[43m \u001B[49m\u001B[38;5;241;43m*\u001B[39;49m\u001B[38;5;241;43m*\u001B[39;49m\u001B[43mkwargs\u001B[49m\u001B[43m)\u001B[49m\n\u001B[1;32m   1425\u001B[0m     bound \u001B[38;5;241m=\u001B[39m new_sig\u001B[38;5;241m.\u001B[39mbind(ax, \u001B[38;5;241m*\u001B[39margs, \u001B[38;5;241m*\u001B[39m\u001B[38;5;241m*\u001B[39mkwargs)\n\u001B[1;32m   1426\u001B[0m     auto_label \u001B[38;5;241m=\u001B[39m (bound\u001B[38;5;241m.\u001B[39marguments\u001B[38;5;241m.\u001B[39mget(label_namer)\n\u001B[1;32m   1427\u001B[0m                   \u001B[38;5;129;01mor\u001B[39;00m bound\u001B[38;5;241m.\u001B[39mkwargs\u001B[38;5;241m.\u001B[39mget(label_namer))\n",
      "File \u001B[0;32m~/anaconda3/envs/MSci_project_solva/lib/python3.10/site-packages/matplotlib/axes/_axes.py:3593\u001B[0m, in \u001B[0;36mAxes.errorbar\u001B[0;34m(self, x, y, yerr, xerr, fmt, ecolor, elinewidth, capsize, barsabove, lolims, uplims, xlolims, xuplims, errorevery, capthick, **kwargs)\u001B[0m\n\u001B[1;32m   3588\u001B[0m     \u001B[38;5;28;01mraise\u001B[39;00m \u001B[38;5;167;01mValueError\u001B[39;00m(\n\u001B[1;32m   3589\u001B[0m         \u001B[38;5;124mf\u001B[39m\u001B[38;5;124m\"\u001B[39m\u001B[38;5;124m'\u001B[39m\u001B[38;5;132;01m{\u001B[39;00mdep_axis\u001B[38;5;132;01m}\u001B[39;00m\u001B[38;5;124merr\u001B[39m\u001B[38;5;124m'\u001B[39m\u001B[38;5;124m (shape: \u001B[39m\u001B[38;5;132;01m{\u001B[39;00mnp\u001B[38;5;241m.\u001B[39mshape(err)\u001B[38;5;132;01m}\u001B[39;00m\u001B[38;5;124m) must be a \u001B[39m\u001B[38;5;124m\"\u001B[39m\n\u001B[1;32m   3590\u001B[0m         \u001B[38;5;124mf\u001B[39m\u001B[38;5;124m\"\u001B[39m\u001B[38;5;124mscalar or a 1D or (2, n) array-like whose shape matches \u001B[39m\u001B[38;5;124m\"\u001B[39m\n\u001B[1;32m   3591\u001B[0m         \u001B[38;5;124mf\u001B[39m\u001B[38;5;124m\"\u001B[39m\u001B[38;5;124m'\u001B[39m\u001B[38;5;132;01m{\u001B[39;00mdep_axis\u001B[38;5;132;01m}\u001B[39;00m\u001B[38;5;124m'\u001B[39m\u001B[38;5;124m (shape: \u001B[39m\u001B[38;5;132;01m{\u001B[39;00mnp\u001B[38;5;241m.\u001B[39mshape(dep)\u001B[38;5;132;01m}\u001B[39;00m\u001B[38;5;124m)\u001B[39m\u001B[38;5;124m\"\u001B[39m) \u001B[38;5;28;01mfrom\u001B[39;00m \u001B[38;5;28mNone\u001B[39m\n\u001B[1;32m   3592\u001B[0m res \u001B[38;5;241m=\u001B[39m np\u001B[38;5;241m.\u001B[39mzeros(err\u001B[38;5;241m.\u001B[39mshape, dtype\u001B[38;5;241m=\u001B[39m\u001B[38;5;28mbool\u001B[39m)  \u001B[38;5;66;03m# Default in case of nan\u001B[39;00m\n\u001B[0;32m-> 3593\u001B[0m \u001B[38;5;28;01mif\u001B[39;00m np\u001B[38;5;241m.\u001B[39many(\u001B[43mnp\u001B[49m\u001B[38;5;241;43m.\u001B[39;49m\u001B[43mless\u001B[49m\u001B[43m(\u001B[49m\u001B[43merr\u001B[49m\u001B[43m,\u001B[49m\u001B[43m \u001B[49m\u001B[38;5;241;43m-\u001B[39;49m\u001B[43merr\u001B[49m\u001B[43m,\u001B[49m\u001B[43m \u001B[49m\u001B[43mout\u001B[49m\u001B[38;5;241;43m=\u001B[39;49m\u001B[43mres\u001B[49m\u001B[43m,\u001B[49m\u001B[43m \u001B[49m\u001B[43mwhere\u001B[49m\u001B[38;5;241;43m=\u001B[39;49m\u001B[43m(\u001B[49m\u001B[43merr\u001B[49m\u001B[43m \u001B[49m\u001B[38;5;241;43m==\u001B[39;49m\u001B[43m \u001B[49m\u001B[43merr\u001B[49m\u001B[43m)\u001B[49m\u001B[43m)\u001B[49m):\n\u001B[1;32m   3594\u001B[0m     \u001B[38;5;66;03m# like err<0, but also works for timedelta and nan.\u001B[39;00m\n\u001B[1;32m   3595\u001B[0m     \u001B[38;5;28;01mraise\u001B[39;00m \u001B[38;5;167;01mValueError\u001B[39;00m(\n\u001B[1;32m   3596\u001B[0m         \u001B[38;5;124mf\u001B[39m\u001B[38;5;124m\"\u001B[39m\u001B[38;5;124m'\u001B[39m\u001B[38;5;132;01m{\u001B[39;00mdep_axis\u001B[38;5;132;01m}\u001B[39;00m\u001B[38;5;124merr\u001B[39m\u001B[38;5;124m'\u001B[39m\u001B[38;5;124m must not contain negative values\u001B[39m\u001B[38;5;124m\"\u001B[39m)\n\u001B[1;32m   3597\u001B[0m \u001B[38;5;66;03m# This is like\u001B[39;00m\n\u001B[1;32m   3598\u001B[0m \u001B[38;5;66;03m#     elow, ehigh = np.broadcast_to(...)\u001B[39;00m\n\u001B[1;32m   3599\u001B[0m \u001B[38;5;66;03m#     return dep - elow * ~lolims, dep + ehigh * ~uplims\u001B[39;00m\n\u001B[1;32m   3600\u001B[0m \u001B[38;5;66;03m# except that broadcast_to would strip units.\u001B[39;00m\n",
      "File \u001B[0;32m~/anaconda3/envs/MSci_project_solva/lib/python3.10/site-packages/astropy/units/quantity.py:673\u001B[0m, in \u001B[0;36mQuantity.__array_ufunc__\u001B[0;34m(self, function, method, *inputs, **kwargs)\u001B[0m\n\u001B[1;32m    670\u001B[0m     arrays\u001B[38;5;241m.\u001B[39mappend(converter(input_) \u001B[38;5;28;01mif\u001B[39;00m converter \u001B[38;5;28;01melse\u001B[39;00m input_)\n\u001B[1;32m    672\u001B[0m \u001B[38;5;66;03m# Call our superclass's __array_ufunc__\u001B[39;00m\n\u001B[0;32m--> 673\u001B[0m result \u001B[38;5;241m=\u001B[39m \u001B[38;5;28;43msuper\u001B[39;49m\u001B[43m(\u001B[49m\u001B[43m)\u001B[49m\u001B[38;5;241;43m.\u001B[39;49m\u001B[43m__array_ufunc__\u001B[49m\u001B[43m(\u001B[49m\u001B[43mfunction\u001B[49m\u001B[43m,\u001B[49m\u001B[43m \u001B[49m\u001B[43mmethod\u001B[49m\u001B[43m,\u001B[49m\u001B[43m \u001B[49m\u001B[38;5;241;43m*\u001B[39;49m\u001B[43marrays\u001B[49m\u001B[43m,\u001B[49m\u001B[43m \u001B[49m\u001B[38;5;241;43m*\u001B[39;49m\u001B[38;5;241;43m*\u001B[39;49m\u001B[43mkwargs\u001B[49m\u001B[43m)\u001B[49m\n\u001B[1;32m    674\u001B[0m \u001B[38;5;66;03m# If unit is None, a plain array is expected (e.g., comparisons), which\u001B[39;00m\n\u001B[1;32m    675\u001B[0m \u001B[38;5;66;03m# means we're done.\u001B[39;00m\n\u001B[1;32m    676\u001B[0m \u001B[38;5;66;03m# We're also done if the result was None (for method 'at') or\u001B[39;00m\n\u001B[1;32m    677\u001B[0m \u001B[38;5;66;03m# NotImplemented, which can happen if other inputs/outputs override\u001B[39;00m\n\u001B[1;32m    678\u001B[0m \u001B[38;5;66;03m# __array_ufunc__; hopefully, they can then deal with us.\u001B[39;00m\n\u001B[1;32m    679\u001B[0m \u001B[38;5;28;01mif\u001B[39;00m unit \u001B[38;5;129;01mis\u001B[39;00m \u001B[38;5;28;01mNone\u001B[39;00m \u001B[38;5;129;01mor\u001B[39;00m result \u001B[38;5;129;01mis\u001B[39;00m \u001B[38;5;28;01mNone\u001B[39;00m \u001B[38;5;129;01mor\u001B[39;00m result \u001B[38;5;129;01mis\u001B[39;00m \u001B[38;5;28mNotImplemented\u001B[39m:\n",
      "File \u001B[0;32m~/anaconda3/envs/MSci_project_solva/lib/python3.10/site-packages/astropy/utils/masked/core.py:700\u001B[0m, in \u001B[0;36mMaskedNDArray.__array_ufunc__\u001B[0;34m(self, ufunc, method, *inputs, **kwargs)\u001B[0m\n\u001B[1;32m    697\u001B[0m \u001B[38;5;28;01mif\u001B[39;00m m \u001B[38;5;129;01mis\u001B[39;00m \u001B[38;5;28;01mNone\u001B[39;00m:\n\u001B[1;32m    698\u001B[0m     \u001B[38;5;66;03m# TODO: allow writing to unmasked output if nothing is masked?\u001B[39;00m\n\u001B[1;32m    699\u001B[0m     \u001B[38;5;28;01mif\u001B[39;00m d \u001B[38;5;129;01mis\u001B[39;00m \u001B[38;5;129;01mnot\u001B[39;00m \u001B[38;5;28;01mNone\u001B[39;00m:\n\u001B[0;32m--> 700\u001B[0m         \u001B[38;5;28;01mraise\u001B[39;00m \u001B[38;5;167;01mTypeError\u001B[39;00m(\u001B[38;5;124m\"\u001B[39m\u001B[38;5;124mcannot write to unmasked output\u001B[39m\u001B[38;5;124m\"\u001B[39m)\n\u001B[1;32m    701\u001B[0m \u001B[38;5;28;01melif\u001B[39;00m out_mask \u001B[38;5;129;01mis\u001B[39;00m \u001B[38;5;28;01mNone\u001B[39;00m:\n\u001B[1;32m    702\u001B[0m     out_mask \u001B[38;5;241m=\u001B[39m m\n",
      "\u001B[0;31mTypeError\u001B[0m: cannot write to unmasked output"
     ]
    },
    {
     "data": {
      "text/plain": "<Figure size 800x600 with 1 Axes>",
      "image/png": "[encoded data removed]"
     },
     "metadata": {},
     "output_type": "display_data"
    }
   ],
   "source": [
    "fig, ax = plt.subplots(1, figsize=(8,6))\n",
    "plt.errorbar(t, flux_data, yerrs, fmt='.', color='Black', ecolor='LightGrey')\n",
    "\n",
    "\n",
    "plt.ylabel(\"Normalised flux\", size=17)\n",
    "plt.xlabel(\"Time - 2457000 (BTJD days)\", size=17)\n",
    "\n",
    "ax.xaxis.set_tick_params(labelsize=17)\n",
    "ax.yaxis.set_tick_params(labelsize=17)\n",
    "\n",
    "ax.xaxis.set_minor_locator(tck.AutoMinorLocator())\n",
    "ax.yaxis.set_minor_locator(tck.AutoMinorLocator())\n",
    "\n",
    "plt.show()\n"
   ]
  },
  {
   "cell_type": "code",
   "execution_count": null,
   "metadata": {},
   "outputs": [],
   "source": [
    "#System\n",
    "#http://exoplanets.org/detail/WASP-17b\n",
    "\n",
    "# Semi-Major Axis[au]\t0.04994 ± 0.00083\n",
    "# Orbital Period[day]\t3.7354330 +7.5×10-6/-7.7×10-6\n",
    "# Orbital Eccentricity\t0\n",
    "# Orbit Inclination[deg]\t86.63 +0.39/-0.45\n",
    "# Argument of Periastron[deg]\t90\n",
    "\n",
    "# Time of Periastron[jd]\t2454559.18096 +0.00025/-0.00021\n",
    "# Transit Parameters\n",
    "# Planetary Radius[rjupiter]\t1.93 +0.052/-0.1\n",
    "# Impact Parameter\t0.400 +0.043/-0.04\n",
    "\n",
    "# Stellar Properties\n",
    "# Star Name\tWASP-17\n",
    "# Binary Flag\t✗\n",
    "# Mass of Star[msun]\t1.190 ± 0.03\n",
    "# Radius of Star[rsun]\t1.200 +0.081/-0.08\n",
    "# [Fe/H]\t-0.250 ± 0.09\n",
    "# Teff[k]\t6550 ± 100\n",
    "# Density of star[g/cm^3]\t0.67 +0.16/-0.13\n",
    "# log10(g)\t4.20 ± 0.2\n",
    "# Vsin(i)[km/s]\t9.0 ± 1.5\n",
    "# Gamma[km/s]\t-49"
   ]
  },
  {
   "cell_type": "code",
   "execution_count": null,
   "metadata": {},
   "outputs": [],
   "source": [
    "prior_Rs = 1.583 #R_sun Southworth et al. 2012\n",
    "\n",
    "guess_params = batman.TransitParams()\n",
    "guess_params.ecc = 0.0                                         #eccentricity\n",
    "guess_params.w = 90.                                          #longitude of periastron (in degrees)\n",
    "guess_params.limb_dark = \"quadratic\"                          #limb darkening model\n",
    "guess_params.u = [0.21768792859790628, 0.2836292883489928]                             #limb darkening coefficients [u1, u2, u3, u4]\n"
   ]
  },
  {
   "cell_type": "code",
   "execution_count": null,
   "metadata": {},
   "outputs": [],
   "source": [
    "def log_likelihood(prior_params, true_flux, yerrs):\n",
    "    \"\"\"\n",
    "    \n",
    "    Parameters\n",
    "    ----------\n",
    "\n",
    "\n",
    "    Returns\n",
    "    -------\n",
    "    \n",
    "    \"\"\"\n",
    "    t_0, R_planet_stellar, orbital_period, orbital_inclination, semi_major_axis = prior_params\n",
    "\n",
    "    guess_params.t0 = t_0\n",
    "    guess_params.rp = R_planet_stellar\n",
    "    guess_params.per = orbital_period\n",
    "    guess_params.inc = orbital_inclination\n",
    "    guess_params.a = semi_major_axis_in_stellar_radii(semi_major_axis, prior_Rs)\n",
    "    \n",
    "    \n",
    "    guess_m = batman.TransitModel(guess_params, t)\n",
    "    guess_flux = guess_m.light_curve(guess_params)\n",
    "    # print(\"guess_flux \", guess_flux)\n",
    "        \n",
    "    L1 = -0.5 * np.power((true_flux - guess_flux), 2) / np.power(yerrs, 2) #Sigma\n",
    "    # print(\"L1 \", L1)\n",
    "    L2 = -0.5 * np.log(2 * np.pi * yerrs**2) #Sigma\n",
    "    # print(\"L2 \", L2)\n",
    "    L3 = np.sum(L1) + np.sum(L2)\n",
    "    return L3\n",
    "\n",
    "\n",
    "def log_prior(prior_params):\n",
    "    \"\"\"\n",
    "    \n",
    "    Parameters\n",
    "    ----------\n",
    "\n",
    "\n",
    "    Returns\n",
    "    -------\n",
    "    \n",
    "    \"\"\"\n",
    "    t_0, R_planet_stellar, orbital_period, orbital_inclination, semi_major_axis = prior_params\n",
    "\n",
    "    P = 0.0\n",
    "    if (t_0 < 1630.5) or (t_0 > 1631.5): #Days\n",
    "        P += -np.inf\n",
    "        return -np.inf\n",
    "\n",
    "    if (R_planet_stellar < 0) or (R_planet_stellar > 0.2):\n",
    "        P += -np.inf\n",
    "        return P\n",
    "\n",
    "    if (orbital_period < 3.73538) or (orbital_period > 3.73556): #Days\n",
    "        P += -np.inf\n",
    "        return P\n",
    "\n",
    "    if (orbital_inclination < 81) or (orbital_inclination > 90): #Degrees\n",
    "        P += -np.inf\n",
    "        return -np.inf\n",
    "    \n",
    "\n",
    "    if (semi_major_axis < 0) or (semi_major_axis > 0.07): #AU\n",
    "        P += -np.inf\n",
    "        return P\n",
    "\n",
    "    return P\n",
    "\n",
    "def log_prob(prior_params, true_flux, yerrs):\n",
    "    lp = log_prior(prior_params)\n",
    "    if (np.isinf(lp) == True):\n",
    "        return -np.inf\n",
    "\n",
    "    return log_likelihood(prior_params, true_flux, yerrs) + lp"
   ]
  },
  {
   "cell_type": "code",
   "execution_count": null,
   "metadata": {},
   "outputs": [],
   "source": [
    "prior_t0 = 1630.9 #(Days) Myself\n",
    "prior_rprs = 0.1255 #Southworth et al. 2012\n",
    "prior_per = 3.73548546 #(Days) Alderson et al. 2022\n",
    "prior_inc = 86.71 #(Deg) Southworth et al. 2012\n",
    "prior_a = 0.05151 #(AU) Bonomo et al. 2017\n",
    "\n",
    "guess = [prior_t0, prior_rprs, prior_per, prior_inc, prior_a]"
   ]
  },
  {
   "cell_type": "code",
   "execution_count": null,
   "metadata": {},
   "outputs": [],
   "source": [
    "scatter = [1E-4, 1E-4, 1E-7, 1E-4, 1E-4] #Walker scattering of the parameters\n",
    "\n",
    "pos = guess + scatter * np.random.randn(20, len(guess))\n",
    "\n",
    "nwalkers, ndim = pos.shape\n",
    "\n",
    "filename = \"wasp_17b_sector12_a.h5\"\n",
    "backend = emcee.backends.HDFBackend(filename)\n",
    "backend.reset(nwalkers, ndim)\n",
    "\n",
    "with Pool() as pool:\n",
    "    start_time = time.time()\n",
    "    sampler = emcee.EnsembleSampler(nwalkers, ndim, log_prob, args=(flux_data, yerrs), a=2)\n",
    "    sampler.run_mcmc(pos, 20000, progress=True)\n",
    "    end_time = time.time()\n",
    "    execution_time = (end_time - start_time)\n",
    "    print(\"Start:       {}\".format(time.ctime(int(start_time))))\n",
    "    print(\"End:         {}\".format(time.ctime(int(end_time))))\n",
    "    print(\"Time taken:  {:.2f} s\".format(execution_time))"
   ]
  },
  {
   "cell_type": "code",
   "execution_count": null,
   "metadata": {},
   "outputs": [],
   "source": [
    "fig, axes = plt.subplots(len(guess), figsize=(10, 7), sharex=True)\n",
    "samples = sampler.get_chain()\n",
    "guess = [prior_t0, prior_rprs, prior_per, prior_inc, prior_a]\n",
    "labels = [r\"$T_{0}$ (Days)\", r\"$R_{p}/R_{*}$\", \"Orbital Period (Days)\", \"Orbital Inclination (Deg)\", \"Semi-major axis (AU)\", ]\n",
    "\n",
    "for i in range(ndim):\n",
    "    ax = axes[i]\n",
    "    ax.plot(samples[:, :, i], \"k\", alpha=0.3)\n",
    "    ax.set_xlim(0, len(samples))\n",
    "    ax.set_ylabel(labels[i])\n",
    "    #ax.yaxis.set_label_coords(-0.1, 0.5)\n",
    "\n",
    "axes[-1].set_xlabel(\"step number\")\n",
    "plt.show()"
   ]
  },
  {
   "cell_type": "code",
   "execution_count": null,
   "metadata": {},
   "outputs": [],
   "source": [
    "tau = sampler.get_autocorr_time()\n",
    "print(tau)"
   ]
  },
  {
   "cell_type": "code",
   "execution_count": null,
   "metadata": {},
   "outputs": [],
   "source": [
    "burnin = int(2 * np.max(tau))\n",
    "thin = int(0.5 * np.min(tau))\n",
    "flat_samples = sampler.get_chain(discard=burnin, thin=thin, flat=True)\n",
    "print(flat_samples.shape)"
   ]
  },
  {
   "cell_type": "code",
   "execution_count": null,
   "metadata": {},
   "outputs": [],
   "source": [
    "fig = corner.corner(\n",
    "    flat_samples, labels=labels)"
   ]
  },
  {
   "cell_type": "code",
   "execution_count": null,
   "metadata": {},
   "outputs": [],
   "source": [
    "labels = [\"T_{0} (Days)\", \"R_{p}/R_{*}\", \"Orbital Period (Days)\", \"Orbital Inclination (Deg)\", \"Semi-major axis (AU)\", ]\n",
    "\n",
    "for i in range(ndim):\n",
    "    mcmc = np.percentile(flat_samples[:, i], [16, 50, 84])\n",
    "    q = np.diff(mcmc)\n",
    "    txt = \"\\mathrm{{{3}}} = {0:.8f}_{{-{1:.10f}}}^{{{2:.10f}}}\"\n",
    "    txt = txt.format(mcmc[1], q[0], q[1], labels[i])\n",
    "    display(Math(txt))"
   ]
  },
  {
   "cell_type": "code",
   "execution_count": null,
   "metadata": {},
   "outputs": [],
   "source": [
    "model_T0 = np.percentile(flat_samples[:, 0], 50)\n",
    "model_Rp = np.percentile(flat_samples[:, 1], 50)\n",
    "model_per = np.percentile(flat_samples[:, 2], 50)\n",
    "model_inc = np.percentile(flat_samples[:, 3], 50)\n",
    "model_a = np.percentile(flat_samples[:, 4], 50)\n",
    "\n",
    "\n",
    "model_params = batman.TransitParams()\n",
    "model_params.t0 = model_T0                                          #time of inferior conjunction\n",
    "model_params.per = model_per                                        #orbital period (days)\n",
    "model_params.rp = model_Rp                #planet radius (in units of stellar radii)\n",
    "model_params.a = semi_major_axis_in_stellar_radii(model_a, prior_Rs) #semi-major axis (in units of stellar radii))\n",
    "model_params.inc = model_inc                                     #orbital inclination (in degrees)\n",
    "model_params.ecc = 0.0                                         #eccentricity\n",
    "model_params.w = 90.                                          #longitude of periastron (in degrees)\n",
    "model_params.limb_dark = \"quadratic\"                          #limb darkening model\n",
    "model_params.u = guess_params.u                           #limb darkening coefficients [u1, u2, u3, u4]\n",
    "\n",
    "m = batman.TransitModel(model_params, t)                      #initializes model\n",
    "model_flux = m.light_curve(model_params)"
   ]
  },
  {
   "cell_type": "code",
   "execution_count": null,
   "metadata": {},
   "outputs": [],
   "source": [
    "residual = flux_data - model_flux"
   ]
  },
  {
   "cell_type": "code",
   "execution_count": null,
   "metadata": {},
   "outputs": [],
   "source": [
    "#Panel settings\n",
    "left = 0.1\n",
    "bottom = 0.1\n",
    "width = 0.65\n",
    "height = 0.9\n",
    "spacing = -1.15\n",
    "\n",
    "rect = [left, bottom, width, height]\n",
    "rect_res = [left, bottom+height+spacing, width, 0.15]\n",
    "\n",
    "fig = plt.figure(figsize=(8, 6), dpi=500)\n",
    "ax = fig.add_axes(rect)\n",
    "\n",
    "ax_res = fig.add_axes(rect_res, sharex=ax)\n",
    "\n",
    "#Top panel\n",
    "ax.errorbar(t, flux_data, yerr=yerrs, fmt='.', markersize=5, color='black', ecolor='LightGrey', label=\"Data\")\n",
    "ax.plot(t, model_flux, color='red',label=\"Model\", lw=1)\n",
    "\n",
    "ax.set(ylabel=\"Normalised flux\")\n",
    "ax.xaxis.label.set_size(17)\n",
    "ax.yaxis.label.set_size(17)\n",
    "\n",
    "ax.legend(prop={'size': 14}, loc=\"lower right\")\n",
    "\n",
    "ax.xaxis.set_minor_locator(ticker.AutoMinorLocator())\n",
    "ax.yaxis.set_minor_locator(ticker.AutoMinorLocator())\n",
    "\n",
    "ax.xaxis.set_tick_params(labelsize=17)\n",
    "ax.yaxis.set_tick_params(labelsize=17)\n",
    "\n",
    "#Bottom panel\n",
    "ax_res.scatter(t, residual, color='black', s=5)\n",
    "ax_res.set_ylim((-max(abs(residual))*1.2, max(abs(residual)*1.2)))\n",
    "# ax_res.plot([min(t), max(t)], [0, 0], color='red', lw=1)\n",
    "\n",
    "ax_res.set(xlabel=\"Time - 2457000 (BTJD days)\", ylabel=\"Residuals\")\n",
    "ax_res.xaxis.label.set_size(17)\n",
    "ax_res.yaxis.label.set_size(17)\n",
    "\n",
    "ax_res.xaxis.set_minor_locator(ticker.AutoMinorLocator())\n",
    "ax_res.yaxis.set_minor_locator(ticker.AutoMinorLocator())\n",
    "\n",
    "ax_res.xaxis.set_tick_params(labelsize=17)\n",
    "ax_res.yaxis.set_tick_params(labelsize=17)\n",
    "\n",
    "# fig.subplots_adjust(hspace=0.1)\n",
    "plt.show()"
   ]
  }
 ],
 "metadata": {
  "kernelspec": {
   "display_name": "MSci_project",
   "language": "python",
   "name": "python3"
  },
  "language_info": {
   "codemirror_mode": {
    "name": "ipython",
    "version": 3
   },
   "file_extension": ".py",
   "mimetype": "text/x-python",
   "name": "python",
   "nbconvert_exporter": "python",
   "pygments_lexer": "ipython3",
   "version": "3.10.4 | packaged by conda-forge | (main, Mar 30 2022, 08:38:02) [MSC v.1916 64 bit (AMD64)]"
  },
  "orig_nbformat": 4,
  "vscode": {
   "interpreter": {
    "hash": "7bd4fe6967f9cc850d872c9777b9eeb4234965a4c66e35bcc9347dfc982970e3"
   }
  }
 },
 "nbformat": 4,
 "nbformat_minor": 2
}
