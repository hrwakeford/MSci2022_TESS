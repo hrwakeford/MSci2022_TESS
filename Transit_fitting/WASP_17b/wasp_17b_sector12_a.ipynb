{
 "cells": [
  {
   "cell_type": "code",
   "execution_count": 12,
   "metadata": {},
   "outputs": [],
   "source": [
    "import os\n",
    "import lightkurve as lk\n",
    "import astropy\n",
    "from astropy.utils.masked import Masked\n",
    "import numpy as np\n",
    "import pandas as pd\n",
    "import matplotlib.pyplot as plt\n",
    "import matplotlib.ticker as ticker\n",
    "import corner\n",
    "import batman\n",
    "import emcee\n",
    "import time\n",
    "from multiprocessing import Pool\n",
    "from scipy import optimize\n",
    "from IPython.display import display, Math\n",
    "from matplotlib.ticker import (MultipleLocator, AutoMinorLocator)\n",
    "import matplotlib.ticker as tck\n",
    "\n",
    "import sys\n",
    "sys.path.insert(0, r'/Users/Student/OneDrive/MSci project/MSci2022_TESS/packages')\n",
    "from unit_conversion import *"
   ]
  },
  {
   "cell_type": "code",
   "execution_count": 13,
   "metadata": {},
   "outputs": [
    {
     "name": "stdout",
     "output_type": "stream",
     "text": [
      "trying to download\n",
      "Search done\n"
     ]
    }
   ],
   "source": [
    "TIC = 'TIC 66818296' #WASP-17 / TIC 66818296\n",
    "\n",
    "search_result = lk.search_lightcurve(\n",
    "    target=TIC,\n",
    "    mission='TESS', author='SPOC')\n",
    "print(\"trying to download\")\n",
    "lc_collection = search_result.download_all()\n",
    "print(\"Search done\")\n",
    "\n",
    "# lc = lc_collection.stitch(corrector_func=lambda x: x.\n",
    "#                           remove_nans().normalize(unit='unscaled'))\n",
    "lc = lc_collection[0] #Sector 12"
   ]
  },
  {
   "cell_type": "code",
   "execution_count": 14,
   "metadata": {},
   "outputs": [
    {
     "data": {
      "text/html": [
       "<div><i>TessLightCurve length=18875 LABEL=&quot;TIC 66818296&quot; SECTOR=12 AUTHOR=SPOC FLUX_ORIGIN=pdcsap_flux</i>\n",
       "<table id=\"table2552473172240\" class=\"table-striped table-bordered table-condensed\">\n",
       "<thead><tr><th>time</th><th>flux</th><th>flux_err</th><th>timecorr</th><th>cadenceno</th><th>centroid_col</th><th>centroid_row</th><th>sap_flux</th><th>sap_flux_err</th><th>sap_bkg</th><th>sap_bkg_err</th><th>pdcsap_flux</th><th>pdcsap_flux_err</th><th>quality</th><th>psf_centr1</th><th>psf_centr1_err</th><th>psf_centr2</th><th>psf_centr2_err</th><th>mom_centr1</th><th>mom_centr1_err</th><th>mom_centr2</th><th>mom_centr2_err</th><th>pos_corr1</th><th>pos_corr2</th></tr></thead>\n",
       "<thead><tr><th></th><th>electron / s</th><th>electron / s</th><th>d</th><th></th><th>pix</th><th>pix</th><th>electron / s</th><th>electron / s</th><th>electron / s</th><th>electron / s</th><th>electron / s</th><th>electron / s</th><th></th><th>pix</th><th>pix</th><th>pix</th><th>pix</th><th>pix</th><th>pix</th><th>pix</th><th>pix</th><th>pix</th><th>pix</th></tr></thead>\n",
       "<thead><tr><th>Time</th><th>float32</th><th>float32</th><th>float32</th><th>int32</th><th>float64</th><th>float64</th><th>float32</th><th>float32</th><th>float32</th><th>float32</th><th>float32</th><th>float32</th><th>int32</th><th>float64</th><th>float32</th><th>float64</th><th>float32</th><th>float64</th><th>float32</th><th>float64</th><th>float32</th><th>float32</th><th>float32</th></tr></thead>\n",
       "<tr><td>1624.9610687762238</td><td>———</td><td>———</td><td>5.7520936e-03</td><td>286200</td><td>1734.70083</td><td>254.40905</td><td>5.6597529e+03</td><td>2.7077772e+01</td><td>3.6572070e+04</td><td>1.5797379e+01</td><td>———</td><td>———</td><td>11000000000000</td><td>———</td><td>———</td><td>———</td><td>———</td><td>1734.70083</td><td>3.8966534e-03</td><td>254.40905</td><td>3.8714281e-03</td><td>———</td><td>———</td></tr>\n",
       "<tr><td>1624.9624576649871</td><td>———</td><td>———</td><td>5.7520941e-03</td><td>286201</td><td>1734.69689</td><td>254.41390</td><td>5.6882363e+03</td><td>2.7163750e+01</td><td>3.6803297e+04</td><td>1.5849596e+01</td><td>———</td><td>———</td><td>11000000000000</td><td>———</td><td>———</td><td>———</td><td>———</td><td>1734.69689</td><td>3.8878899e-03</td><td>254.41390</td><td>3.8652457e-03</td><td>———</td><td>———</td></tr>\n",
       "<tr><td>1624.9638465532857</td><td>———</td><td>———</td><td>5.7520941e-03</td><td>286202</td><td>1734.70053</td><td>254.41119</td><td>5.7022017e+03</td><td>2.7244625e+01</td><td>3.7047914e+04</td><td>1.5897677e+01</td><td>———</td><td>———</td><td>11000000000000</td><td>———</td><td>———</td><td>———</td><td>———</td><td>1734.70053</td><td>3.8902559e-03</td><td>254.41119</td><td>3.8693140e-03</td><td>———</td><td>———</td></tr>\n",
       "<tr><td>1624.9652354420496</td><td>———</td><td>———</td><td>5.7520946e-03</td><td>286203</td><td>1734.70903</td><td>254.39842</td><td>5.6822319e+03</td><td>2.7329166e+01</td><td>3.7323707e+04</td><td>1.5950985e+01</td><td>———</td><td>———</td><td>11000000000000</td><td>———</td><td>———</td><td>———</td><td>———</td><td>1734.70903</td><td>3.9179092e-03</td><td>254.39842</td><td>3.8951968e-03</td><td>———</td><td>———</td></tr>\n",
       "<tr><td>1624.9666243303482</td><td>———</td><td>———</td><td>5.7520946e-03</td><td>286204</td><td>1734.69178</td><td>254.41453</td><td>5.6716797e+03</td><td>2.7416311e+01</td><td>3.7592102e+04</td><td>1.6006865e+01</td><td>———</td><td>———</td><td>11000000000000</td><td>———</td><td>———</td><td>———</td><td>———</td><td>1734.69178</td><td>3.9340523e-03</td><td>254.41453</td><td>3.9140377e-03</td><td>———</td><td>———</td></tr>\n",
       "<tr><td>1624.968013219112</td><td>———</td><td>———</td><td>5.7520950e-03</td><td>286205</td><td>1734.70877</td><td>254.40047</td><td>5.6360112e+03</td><td>2.7488678e+01</td><td>3.7820887e+04</td><td>1.6066200e+01</td><td>———</td><td>———</td><td>11000000000000</td><td>———</td><td>———</td><td>———</td><td>———</td><td>1734.70877</td><td>3.9713173e-03</td><td>254.40047</td><td>3.9468603e-03</td><td>———</td><td>———</td></tr>\n",
       "<tr><td>1624.9694021074106</td><td>———</td><td>———</td><td>5.7520950e-03</td><td>286206</td><td>1734.70031</td><td>254.41046</td><td>5.6659849e+03</td><td>2.7556246e+01</td><td>3.8013035e+04</td><td>1.6101604e+01</td><td>———</td><td>———</td><td>11000000000000</td><td>———</td><td>———</td><td>———</td><td>———</td><td>1734.70031</td><td>3.9587538e-03</td><td>254.41046</td><td>3.9384109e-03</td><td>———</td><td>———</td></tr>\n",
       "<tr><td>1624.9707909961744</td><td>———</td><td>———</td><td>5.7520955e-03</td><td>286207</td><td>1734.70983</td><td>254.39945</td><td>5.6488721e+03</td><td>2.7615194e+01</td><td>3.8208195e+04</td><td>1.6145405e+01</td><td>———</td><td>———</td><td>11000000000000</td><td>———</td><td>———</td><td>———</td><td>———</td><td>1734.70983</td><td>3.9820271e-03</td><td>254.39945</td><td>3.9563859e-03</td><td>———</td><td>———</td></tr>\n",
       "<tr><td>1624.972179884472</td><td>———</td><td>———</td><td>5.7520955e-03</td><td>286208</td><td>1734.70152</td><td>254.41010</td><td>5.6710977e+03</td><td>2.7693523e+01</td><td>3.8434742e+04</td><td>1.6190790e+01</td><td>———</td><td>———</td><td>11000000000000</td><td>———</td><td>———</td><td>———</td><td>———</td><td>1734.70152</td><td>3.9751520e-03</td><td>254.41010</td><td>3.9532874e-03</td><td>———</td><td>———</td></tr>\n",
       "<tr><td>...</td><td>...</td><td>...</td><td>...</td><td>...</td><td>...</td><td>...</td><td>...</td><td>...</td><td>...</td><td>...</td><td>...</td><td>...</td><td>...</td><td>...</td><td>...</td><td>...</td><td>...</td><td>...</td><td>...</td><td>...</td><td>...</td><td>...</td><td>...</td></tr>\n",
       "<tr><td>1652.8842412266986</td><td>6.3973770e+03</td><td>1.2119286e+01</td><td>5.3253085e-03</td><td>306305</td><td>1734.78563</td><td>254.20219</td><td>5.7240815e+03</td><td>1.0667336e+01</td><td>2.1094348e+03</td><td>4.4017510e+00</td><td>6.3973770e+03</td><td>1.2119286e+01</td><td>0</td><td>———</td><td>———</td><td>———</td><td>———</td><td>1734.78563</td><td>1.5082975e-03</td><td>254.20219</td><td>1.5147554e-03</td><td>7.0131570e-02</td><td>-6.3381739e-02</td></tr>\n",
       "<tr><td>1652.8856300647049</td><td>6.4136611e+03</td><td>1.2108074e+01</td><td>5.3252582e-03</td><td>306306</td><td>1734.78636</td><td>254.21052</td><td>5.7389985e+03</td><td>1.0657467e+01</td><td>2.0976331e+03</td><td>4.3906398e+00</td><td>6.4136611e+03</td><td>1.2108074e+01</td><td>0</td><td>———</td><td>———</td><td>———</td><td>———</td><td>1734.78636</td><td>1.5015450e-03</td><td>254.21052</td><td>1.5103610e-03</td><td>7.1430922e-02</td><td>-5.9996147e-02</td></tr>\n",
       "<tr><td>1652.8870189027111</td><td>6.4221797e+03</td><td>1.2123766e+01</td><td>5.3252080e-03</td><td>306307</td><td>1734.77986</td><td>254.20220</td><td>5.7476128e+03</td><td>1.0671279e+01</td><td>2.1022725e+03</td><td>4.3979211e+00</td><td>6.4221797e+03</td><td>1.2123766e+01</td><td>0</td><td>———</td><td>———</td><td>———</td><td>———</td><td>1734.77986</td><td>1.4992405e-03</td><td>254.20220</td><td>1.5108782e-03</td><td>6.2911309e-02</td><td>-6.4712152e-02</td></tr>\n",
       "<tr><td>1652.8884077407179</td><td>6.3983271e+03</td><td>1.2114341e+01</td><td>5.3251577e-03</td><td>306308</td><td>1734.78541</td><td>254.20206</td><td>5.7270684e+03</td><td>1.0662983e+01</td><td>2.1085813e+03</td><td>4.4009638e+00</td><td>6.3983271e+03</td><td>1.2114341e+01</td><td>0</td><td>———</td><td>———</td><td>———</td><td>———</td><td>1734.78541</td><td>1.5043607e-03</td><td>254.20206</td><td>1.5128258e-03</td><td>6.6857502e-02</td><td>-6.2283788e-02</td></tr>\n",
       "<tr><td>1652.8897965791898</td><td>6.3924590e+03</td><td>1.2106463e+01</td><td>5.3251078e-03</td><td>306309</td><td>1734.78758</td><td>254.21132</td><td>5.7163604e+03</td><td>1.0656049e+01</td><td>2.1065190e+03</td><td>4.4001980e+00</td><td>6.3924590e+03</td><td>1.2106463e+01</td><td>0</td><td>———</td><td>———</td><td>———</td><td>———</td><td>1734.78758</td><td>1.5071352e-03</td><td>254.21132</td><td>1.5134240e-03</td><td>7.3385313e-02</td><td>-5.5208735e-02</td></tr>\n",
       "<tr><td>1652.891185417197</td><td>6.4055181e+03</td><td>1.2123700e+01</td><td>5.3250575e-03</td><td>306310</td><td>1734.78673</td><td>254.20244</td><td>5.7316792e+03</td><td>1.0671221e+01</td><td>2.1077236e+03</td><td>4.4070473e+00</td><td>6.4055181e+03</td><td>1.2123700e+01</td><td>0</td><td>———</td><td>———</td><td>———</td><td>———</td><td>1734.78673</td><td>1.5065266e-03</td><td>254.20244</td><td>1.5136098e-03</td><td>7.0239693e-02</td><td>-6.5530986e-02</td></tr>\n",
       "<tr><td>1652.8925742552046</td><td>6.3843955e+03</td><td>1.2111412e+01</td><td>5.3250073e-03</td><td>306311</td><td>1734.78538</td><td>254.20261</td><td>5.7127754e+03</td><td>1.0660405e+01</td><td>2.1076560e+03</td><td>4.3999491e+00</td><td>6.3843955e+03</td><td>1.2111412e+01</td><td>0</td><td>———</td><td>———</td><td>———</td><td>———</td><td>1734.78538</td><td>1.5065691e-03</td><td>254.20261</td><td>1.5189922e-03</td><td>6.9010720e-02</td><td>-6.3583061e-02</td></tr>\n",
       "<tr><td>1652.8939630932114</td><td>6.3856416e+03</td><td>1.2107553e+01</td><td>5.3249570e-03</td><td>306312</td><td>1734.77924</td><td>254.20145</td><td>5.7129624e+03</td><td>1.0657009e+01</td><td>2.1105806e+03</td><td>4.4010901e+00</td><td>6.3856416e+03</td><td>1.2107553e+01</td><td>0</td><td>———</td><td>———</td><td>———</td><td>———</td><td>1734.77924</td><td>1.5043970e-03</td><td>254.20145</td><td>1.5175273e-03</td><td>6.5565862e-02</td><td>-6.4391859e-02</td></tr>\n",
       "<tr><td>1652.8953519312176</td><td>6.3990420e+03</td><td>1.2115211e+01</td><td>5.3249067e-03</td><td>306313</td><td>1734.78762</td><td>254.20961</td><td>5.7252354e+03</td><td>1.0663750e+01</td><td>2.1112654e+03</td><td>4.4057474e+00</td><td>6.3990420e+03</td><td>1.2115211e+01</td><td>0</td><td>———</td><td>———</td><td>———</td><td>———</td><td>1734.78762</td><td>1.5068123e-03</td><td>254.20961</td><td>1.5121239e-03</td><td>7.4729733e-02</td><td>-5.6722909e-02</td></tr>\n",
       "<tr><td>1652.896740769224</td><td>6.3697603e+03</td><td>1.2108603e+01</td><td>5.3248564e-03</td><td>306314</td><td>1734.78098</td><td>254.20737</td><td>5.6973696e+03</td><td>1.0657933e+01</td><td>2.1111521e+03</td><td>4.4044528e+00</td><td>6.3697603e+03</td><td>1.2108603e+01</td><td>0</td><td>———</td><td>———</td><td>———</td><td>———</td><td>1734.78098</td><td>1.5104027e-03</td><td>254.20737</td><td>1.5206658e-03</td><td>6.6471055e-02</td><td>-5.7022590e-02</td></tr>\n",
       "</table></div>"
      ],
      "text/plain": [
       "<TessLightCurve length=18875 LABEL=\"TIC 66818296\" SECTOR=12 AUTHOR=SPOC FLUX_ORIGIN=pdcsap_flux>\n",
       "       time             flux      ...   pos_corr1      pos_corr2   \n",
       "                    electron / s  ...      pix            pix      \n",
       "       Time           float32     ...    float32        float32    \n",
       "------------------ -------------- ... -------------- --------------\n",
       "1624.9610687762238            ——— ...            ———            ———\n",
       "1624.9624576649871            ——— ...            ———            ———\n",
       "1624.9638465532857            ——— ...            ———            ———\n",
       "1624.9652354420496            ——— ...            ———            ———\n",
       "1624.9666243303482            ——— ...            ———            ———\n",
       " 1624.968013219112            ——— ...            ———            ———\n",
       "1624.9694021074106            ——— ...            ———            ———\n",
       "1624.9707909961744            ——— ...            ———            ———\n",
       " 1624.972179884472            ——— ...            ———            ———\n",
       "               ...            ... ...            ...            ...\n",
       "1652.8842412266986  6.3973770e+03 ...  7.0131570e-02 -6.3381739e-02\n",
       "1652.8856300647049  6.4136611e+03 ...  7.1430922e-02 -5.9996147e-02\n",
       "1652.8870189027111  6.4221797e+03 ...  6.2911309e-02 -6.4712152e-02\n",
       "1652.8884077407179  6.3983271e+03 ...  6.6857502e-02 -6.2283788e-02\n",
       "1652.8897965791898  6.3924590e+03 ...  7.3385313e-02 -5.5208735e-02\n",
       " 1652.891185417197  6.4055181e+03 ...  7.0239693e-02 -6.5530986e-02\n",
       "1652.8925742552046  6.3843955e+03 ...  6.9010720e-02 -6.3583061e-02\n",
       "1652.8939630932114  6.3856416e+03 ...  6.5565862e-02 -6.4391859e-02\n",
       "1652.8953519312176  6.3990420e+03 ...  7.4729733e-02 -5.6722909e-02\n",
       " 1652.896740769224  6.3697603e+03 ...  6.6471055e-02 -5.7022590e-02"
      ]
     },
     "execution_count": 14,
     "metadata": {},
     "output_type": "execute_result"
    }
   ],
   "source": [
    "lc"
   ]
  },
  {
   "cell_type": "code",
   "execution_count": 15,
   "metadata": {},
   "outputs": [],
   "source": [
    "lc = lc.normalize()\n",
    "lc = lc.remove_outliers(sigma=10)"
   ]
  },
  {
   "cell_type": "code",
   "execution_count": 16,
   "metadata": {},
   "outputs": [
    {
     "data": {
      "image/png": "[encoded data removed]",
      "text/plain": [
       "<Figure size 800x300 with 1 Axes>"
      ]
     },
     "metadata": {},
     "output_type": "display_data"
    }
   ],
   "source": [
    "fig, axs = plt.subplots(1, figsize=(8, 3))\n",
    "yes = lc.scatter(label='PDCSAP Flux', ax=axs, normalize=True, ylabel=\"Normalised flux\", color='black')\n",
    "\n",
    "axs.set_xlabel(\"Time - 2457000 (BTJD days)\")\n",
    "\n",
    "axs.xaxis.set_minor_locator(tck.AutoMinorLocator())\n",
    "\n",
    "plt.show()"
   ]
  },
  {
   "cell_type": "code",
   "execution_count": 17,
   "metadata": {},
   "outputs": [],
   "source": [
    "lc_f = lc.flatten()\n",
    "lc_bin = lc_f.bin(time_bin_size = 0.006944444) # Default time is in days\n",
    "#0.006944444 day = 10 minutes\n",
    "\n",
    "cut = 1500\n",
    "t = (lc_bin.time.mjd-lc_bin.time[0].mjd)[0:cut]\n",
    "flux = lc_bin.flux[0:cut]\n",
    "yerrs = lc_bin.flux_err[0:cut]\n",
    "\n",
    "\n",
    "fig, ax = plt.subplots(1, figsize=(8,6))\n",
    "plt.errorbar(t, flux, yerrs, fmt='.', color='Black', ecolor='LightGrey')\n",
    "\n",
    "\n",
    "plt.ylabel(\"Normalised flux\", size=17)\n",
    "plt.xlabel(\"Time - 2457000 (BTJD days)\", size=17)\n",
    "\n",
    "ax.xaxis.set_tick_params(labelsize=17)\n",
    "ax.yaxis.set_tick_params(labelsize=17)\n",
    "\n",
    "ax.xaxis.set_minor_locator(tck.AutoMinorLocator())\n",
    "ax.yaxis.set_minor_locator(tck.AutoMinorLocator())\n",
    "\n",
    "plt.show()\n"
   ]
  },
  {
   "cell_type": "code",
   "execution_count": null,
   "metadata": {},
   "outputs": [],
   "source": [
    "#System\n",
    "#http://exoplanets.org/detail/WASP-17b\n",
    "\n",
    "# Semi-Major Axis[au]\t0.04994 ± 0.00083\n",
    "# Orbital Period[day]\t3.7354330 +7.5×10-6/-7.7×10-6\n",
    "# Orbital Eccentricity\t0\n",
    "# Orbit Inclination[deg]\t86.63 +0.39/-0.45\n",
    "# Argument of Periastron[deg]\t90\n",
    "\n",
    "# Time of Periastron[jd]\t2454559.18096 +0.00025/-0.00021\n",
    "# Transit Parameters\n",
    "# Planetary Radius[rjupiter]\t1.93 +0.052/-0.1\n",
    "# Impact Parameter\t0.400 +0.043/-0.04\n",
    "\n",
    "# Stellar Properties\n",
    "# Star Name\tWASP-17\n",
    "# Binary Flag\t✗\n",
    "# Mass of Star[msun]\t1.190 ± 0.03\n",
    "# Radius of Star[rsun]\t1.200 +0.081/-0.08\n",
    "# [Fe/H]\t-0.250 ± 0.09\n",
    "# Teff[k]\t6550 ± 100\n",
    "# Density of star[g/cm^3]\t0.67 +0.16/-0.13\n",
    "# log10(g)\t4.20 ± 0.2\n",
    "# Vsin(i)[km/s]\t9.0 ± 1.5\n",
    "# Gamma[km/s]\t-49"
   ]
  },
  {
   "cell_type": "code",
   "execution_count": null,
   "metadata": {},
   "outputs": [],
   "source": [
    "prior_params = batman.TransitParams()\n",
    "prior_params.ecc = 0.0                                         #eccentricity\n",
    "prior_params.w = 90.                                          #longitude of periastron (in degrees)\n",
    "prior_params.limb_dark = \"quadratic\"                          #limb darkening model\n",
    "prior_params.u = [0.21768792859790628, 0.2836292883489928]                             #limb darkening coefficients [u1, u2, u3, u4]\n"
   ]
  },
  {
   "cell_type": "code",
   "execution_count": null,
   "metadata": {},
   "outputs": [],
   "source": [
    "def log_likelihood(prior_params, true_flux, yerrs):\n",
    "    \"\"\"\n",
    "    \n",
    "    Parameters\n",
    "    ----------\n",
    "\n",
    "\n",
    "    Returns\n",
    "    -------\n",
    "    \n",
    "    \"\"\"\n",
    "    T_0, R_planet_stellar, orbital_period, orbital_inclination, semi_major_axis = prior_params\n",
    "\n",
    "    prior_params.t0 = T_0\n",
    "    prior_params.rp = R_planet_stellar\n",
    "    prior_params.per = orbital_period\n",
    "    prior_params.inc = orbital_inclination\n",
    "    prior_params.a = semi_major_axis_in_stellar_radii(semi_major_axis, prior_params)\n",
    "    \n",
    "    \n",
    "    guess_m = batman.TransitModel(prior_params, t)\n",
    "    guess_flux = guess_m.light_curve(prior_params)\n",
    "        \n",
    "    L1 = -0.5 * np.power((true_flux - guess_flux), 2) / np.power(yerrs, 2) #Sigma\n",
    "    L2 = -0.5 * np.log(2 * np.pi * yerrs**2) #Sigma\n",
    "    L3 = np.sum(L1) + np.sum(L2)\n",
    "    return L3\n",
    "\n",
    "\n",
    "def log_prior(prior_params):\n",
    "    \"\"\"\n",
    "    \n",
    "    Parameters\n",
    "    ----------\n",
    "\n",
    "\n",
    "    Returns\n",
    "    -------\n",
    "    \n",
    "    \"\"\"\n",
    "    T_0, R_planet_stellar, orbital_period, orbital_inclination, semi_major_axis = prior_params\n",
    "\n",
    "    P = 0.0\n",
    "    if (T_0 < 1.5) or (T_0 > 2.5): #Days\n",
    "        P += -np.inf\n",
    "        return -np.inf\n",
    "\n",
    "    if (R_planet_stellar < 0.1) or (R_planet_stellar > 0.2):\n",
    "        P += -np.inf\n",
    "        return P\n",
    "\n",
    "    if (orbital_period < 3.73538) or (orbital_period > 3.73556): #Days\n",
    "        P += -np.inf\n",
    "        return P\n",
    "\n",
    "    if (orbital_inclination < 81) or (orbital_inclination > 90): #Degrees\n",
    "        P += -np.inf\n",
    "        return -np.inf\n",
    "    \n",
    "\n",
    "    if (semi_major_axis < 0) or (semi_major_axis > 0.07): #AU\n",
    "        P += -np.inf\n",
    "        return P\n",
    "\n",
    "    return P\n",
    "\n",
    "def log_prob(prior_params, true_flux, yerrs):\n",
    "    lp = log_prior(prior_params)\n",
    "    if (np.isinf(lp) == True):\n",
    "        return -np.inf\n",
    "\n",
    "    return log_likelihood(prior_params, true_flux, yerrs) + lp"
   ]
  },
  {
   "cell_type": "code",
   "execution_count": null,
   "metadata": {},
   "outputs": [],
   "source": [
    "prior_t0 = 1.99 #Myself\n",
    "prior_rprs = 0.1255 #Southworth et al. 2012\n",
    "prior_per = 3.73548546 #(Days) Alderson et al. 2022\n",
    "prior_inc = 86.71 #(Deg) Southworth et al. 2012\n",
    "prior_a = 0.05151 #(AU) Bonomo et al. 2017\n",
    "guess = [prior_t0, prior_rprs, prior_per, prior_inc, prior_a]"
   ]
  },
  {
   "cell_type": "code",
   "execution_count": null,
   "metadata": {},
   "outputs": [
    {
     "name": "stdout",
     "output_type": "stream",
     "text": [
      "emcee: Exception while calling your likelihood function:\n",
      "  params: [1.98998770e+00 1.25343352e-01 3.73539034e+00 8.67100475e+01\n",
      " 5.13760548e-02]\n",
      "  args: (<Quantity [1.00063006, 0.99958843, 0.99933814, ...,        nan,        nan,\n",
      "                  nan]>, <Quantity [0.00091692, 0.00112164, 0.00091469, ...,        nan,        nan,\n",
      "                  nan]>)\n",
      "  kwargs: {}\n",
      "  exception:\n"
     ]
    },
    {
     "name": "stderr",
     "output_type": "stream",
     "text": [
      "Traceback (most recent call last):\n",
      "  File \"c:\\Users\\Student\\anaconda3\\envs\\MSci_project\\lib\\site-packages\\emcee\\ensemble.py\", line 624, in __call__\n",
      "    return self.f(x, *self.args, **self.kwargs)\n",
      "  File \"C:\\Users\\Student\\AppData\\Local\\Temp\\ipykernel_11764\\4282502531.py\", line 72, in log_prob\n",
      "    return log_likelihood(prior_params, true_flux, yerrs) + lp\n",
      "  File \"C:\\Users\\Student\\AppData\\Local\\Temp\\ipykernel_11764\\4282502531.py\", line 14, in log_likelihood\n",
      "    prior_params.t0 = T_0\n",
      "AttributeError: 'numpy.ndarray' object has no attribute 't0'\n"
     ]
    },
    {
     "ename": "AttributeError",
     "evalue": "'numpy.ndarray' object has no attribute 't0'",
     "output_type": "error",
     "traceback": [
      "\u001b[1;31m---------------------------------------------------------------------------\u001b[0m",
      "\u001b[1;31mAttributeError\u001b[0m                            Traceback (most recent call last)",
      "\u001b[1;32mc:\\Users\\Student\\OneDrive\\MSci project\\MSci2022_TESS\\Transit_fitting\\WASP_17b\\wasp_17b_sector12_a.ipynb Cell 10\u001b[0m in \u001b[0;36m<cell line: 11>\u001b[1;34m()\u001b[0m\n\u001b[0;32m     <a href='vscode-notebook-cell:/c%3A/Users/Student/OneDrive/MSci%20project/MSci2022_TESS/Transit_fitting/WASP_17b/wasp_17b_sector12_a.ipynb#X22sZmlsZQ%3D%3D?line=11'>12</a>\u001b[0m start_time \u001b[39m=\u001b[39m time\u001b[39m.\u001b[39mtime()\n\u001b[0;32m     <a href='vscode-notebook-cell:/c%3A/Users/Student/OneDrive/MSci%20project/MSci2022_TESS/Transit_fitting/WASP_17b/wasp_17b_sector12_a.ipynb#X22sZmlsZQ%3D%3D?line=12'>13</a>\u001b[0m sampler \u001b[39m=\u001b[39m emcee\u001b[39m.\u001b[39mEnsembleSampler(nwalkers, ndim, log_prob, args\u001b[39m=\u001b[39m(flux, yerrs), a\u001b[39m=\u001b[39m\u001b[39m2\u001b[39m)\n\u001b[1;32m---> <a href='vscode-notebook-cell:/c%3A/Users/Student/OneDrive/MSci%20project/MSci2022_TESS/Transit_fitting/WASP_17b/wasp_17b_sector12_a.ipynb#X22sZmlsZQ%3D%3D?line=13'>14</a>\u001b[0m sampler\u001b[39m.\u001b[39;49mrun_mcmc(pos, \u001b[39m5000\u001b[39;49m, progress\u001b[39m=\u001b[39;49m\u001b[39mTrue\u001b[39;49;00m)\n\u001b[0;32m     <a href='vscode-notebook-cell:/c%3A/Users/Student/OneDrive/MSci%20project/MSci2022_TESS/Transit_fitting/WASP_17b/wasp_17b_sector12_a.ipynb#X22sZmlsZQ%3D%3D?line=14'>15</a>\u001b[0m end_time \u001b[39m=\u001b[39m time\u001b[39m.\u001b[39mtime()\n\u001b[0;32m     <a href='vscode-notebook-cell:/c%3A/Users/Student/OneDrive/MSci%20project/MSci2022_TESS/Transit_fitting/WASP_17b/wasp_17b_sector12_a.ipynb#X22sZmlsZQ%3D%3D?line=15'>16</a>\u001b[0m execution_time \u001b[39m=\u001b[39m (end_time \u001b[39m-\u001b[39m start_time)\n",
      "File \u001b[1;32mc:\\Users\\Student\\anaconda3\\envs\\MSci_project\\lib\\site-packages\\emcee\\ensemble.py:443\u001b[0m, in \u001b[0;36mEnsembleSampler.run_mcmc\u001b[1;34m(self, initial_state, nsteps, **kwargs)\u001b[0m\n\u001b[0;32m    440\u001b[0m     initial_state \u001b[39m=\u001b[39m \u001b[39mself\u001b[39m\u001b[39m.\u001b[39m_previous_state\n\u001b[0;32m    442\u001b[0m results \u001b[39m=\u001b[39m \u001b[39mNone\u001b[39;00m\n\u001b[1;32m--> 443\u001b[0m \u001b[39mfor\u001b[39;00m results \u001b[39min\u001b[39;00m \u001b[39mself\u001b[39m\u001b[39m.\u001b[39msample(initial_state, iterations\u001b[39m=\u001b[39mnsteps, \u001b[39m*\u001b[39m\u001b[39m*\u001b[39mkwargs):\n\u001b[0;32m    444\u001b[0m     \u001b[39mpass\u001b[39;00m\n\u001b[0;32m    446\u001b[0m \u001b[39m# Store so that the ``initial_state=None`` case will work\u001b[39;00m\n",
      "File \u001b[1;32mc:\\Users\\Student\\anaconda3\\envs\\MSci_project\\lib\\site-packages\\emcee\\ensemble.py:344\u001b[0m, in \u001b[0;36mEnsembleSampler.sample\u001b[1;34m(self, initial_state, log_prob0, rstate0, blobs0, iterations, tune, skip_initial_state_check, thin_by, thin, store, progress, progress_kwargs)\u001b[0m\n\u001b[0;32m    342\u001b[0m     state\u001b[39m.\u001b[39mblobs \u001b[39m=\u001b[39m blobs0\n\u001b[0;32m    343\u001b[0m \u001b[39mif\u001b[39;00m state\u001b[39m.\u001b[39mlog_prob \u001b[39mis\u001b[39;00m \u001b[39mNone\u001b[39;00m:\n\u001b[1;32m--> 344\u001b[0m     state\u001b[39m.\u001b[39mlog_prob, state\u001b[39m.\u001b[39mblobs \u001b[39m=\u001b[39m \u001b[39mself\u001b[39;49m\u001b[39m.\u001b[39;49mcompute_log_prob(state\u001b[39m.\u001b[39;49mcoords)\n\u001b[0;32m    345\u001b[0m \u001b[39mif\u001b[39;00m np\u001b[39m.\u001b[39mshape(state\u001b[39m.\u001b[39mlog_prob) \u001b[39m!=\u001b[39m (\u001b[39mself\u001b[39m\u001b[39m.\u001b[39mnwalkers,):\n\u001b[0;32m    346\u001b[0m     \u001b[39mraise\u001b[39;00m \u001b[39mValueError\u001b[39;00m(\u001b[39m\"\u001b[39m\u001b[39mincompatible input dimensions\u001b[39m\u001b[39m\"\u001b[39m)\n",
      "File \u001b[1;32mc:\\Users\\Student\\anaconda3\\envs\\MSci_project\\lib\\site-packages\\emcee\\ensemble.py:489\u001b[0m, in \u001b[0;36mEnsembleSampler.compute_log_prob\u001b[1;34m(self, coords)\u001b[0m\n\u001b[0;32m    487\u001b[0m     \u001b[39melse\u001b[39;00m:\n\u001b[0;32m    488\u001b[0m         map_func \u001b[39m=\u001b[39m \u001b[39mmap\u001b[39m\n\u001b[1;32m--> 489\u001b[0m     results \u001b[39m=\u001b[39m \u001b[39mlist\u001b[39;49m(map_func(\u001b[39mself\u001b[39;49m\u001b[39m.\u001b[39;49mlog_prob_fn, p))\n\u001b[0;32m    491\u001b[0m \u001b[39mtry\u001b[39;00m:\n\u001b[0;32m    492\u001b[0m     log_prob \u001b[39m=\u001b[39m np\u001b[39m.\u001b[39marray([\u001b[39mfloat\u001b[39m(l[\u001b[39m0\u001b[39m]) \u001b[39mfor\u001b[39;00m l \u001b[39min\u001b[39;00m results])\n",
      "File \u001b[1;32mc:\\Users\\Student\\anaconda3\\envs\\MSci_project\\lib\\site-packages\\emcee\\ensemble.py:624\u001b[0m, in \u001b[0;36m_FunctionWrapper.__call__\u001b[1;34m(self, x)\u001b[0m\n\u001b[0;32m    622\u001b[0m \u001b[39mdef\u001b[39;00m \u001b[39m__call__\u001b[39m(\u001b[39mself\u001b[39m, x):\n\u001b[0;32m    623\u001b[0m     \u001b[39mtry\u001b[39;00m:\n\u001b[1;32m--> 624\u001b[0m         \u001b[39mreturn\u001b[39;00m \u001b[39mself\u001b[39m\u001b[39m.\u001b[39mf(x, \u001b[39m*\u001b[39m\u001b[39mself\u001b[39m\u001b[39m.\u001b[39margs, \u001b[39m*\u001b[39m\u001b[39m*\u001b[39m\u001b[39mself\u001b[39m\u001b[39m.\u001b[39mkwargs)\n\u001b[0;32m    625\u001b[0m     \u001b[39mexcept\u001b[39;00m:  \u001b[39m# pragma: no cover\u001b[39;00m\n\u001b[0;32m    626\u001b[0m         \u001b[39mimport\u001b[39;00m \u001b[39mtraceback\u001b[39;00m\n",
      "\u001b[1;32mc:\\Users\\Student\\OneDrive\\MSci project\\MSci2022_TESS\\Transit_fitting\\WASP_17b\\wasp_17b_sector12_a.ipynb Cell 10\u001b[0m in \u001b[0;36mlog_prob\u001b[1;34m(prior_params, true_flux, yerrs)\u001b[0m\n\u001b[0;32m     <a href='vscode-notebook-cell:/c%3A/Users/Student/OneDrive/MSci%20project/MSci2022_TESS/Transit_fitting/WASP_17b/wasp_17b_sector12_a.ipynb#X22sZmlsZQ%3D%3D?line=68'>69</a>\u001b[0m \u001b[39mif\u001b[39;00m (np\u001b[39m.\u001b[39misinf(lp) \u001b[39m==\u001b[39m \u001b[39mTrue\u001b[39;00m):\n\u001b[0;32m     <a href='vscode-notebook-cell:/c%3A/Users/Student/OneDrive/MSci%20project/MSci2022_TESS/Transit_fitting/WASP_17b/wasp_17b_sector12_a.ipynb#X22sZmlsZQ%3D%3D?line=69'>70</a>\u001b[0m     \u001b[39mreturn\u001b[39;00m \u001b[39m-\u001b[39mnp\u001b[39m.\u001b[39minf\n\u001b[1;32m---> <a href='vscode-notebook-cell:/c%3A/Users/Student/OneDrive/MSci%20project/MSci2022_TESS/Transit_fitting/WASP_17b/wasp_17b_sector12_a.ipynb#X22sZmlsZQ%3D%3D?line=71'>72</a>\u001b[0m \u001b[39mreturn\u001b[39;00m log_likelihood(prior_params, true_flux, yerrs) \u001b[39m+\u001b[39m lp\n",
      "\u001b[1;32mc:\\Users\\Student\\OneDrive\\MSci project\\MSci2022_TESS\\Transit_fitting\\WASP_17b\\wasp_17b_sector12_a.ipynb Cell 10\u001b[0m in \u001b[0;36mlog_likelihood\u001b[1;34m(prior_params, true_flux, yerrs)\u001b[0m\n\u001b[0;32m      <a href='vscode-notebook-cell:/c%3A/Users/Student/OneDrive/MSci%20project/MSci2022_TESS/Transit_fitting/WASP_17b/wasp_17b_sector12_a.ipynb#X22sZmlsZQ%3D%3D?line=1'>2</a>\u001b[0m \u001b[39m\"\"\"\u001b[39;00m\n\u001b[0;32m      <a href='vscode-notebook-cell:/c%3A/Users/Student/OneDrive/MSci%20project/MSci2022_TESS/Transit_fitting/WASP_17b/wasp_17b_sector12_a.ipynb#X22sZmlsZQ%3D%3D?line=2'>3</a>\u001b[0m \u001b[39m\u001b[39;00m\n\u001b[0;32m      <a href='vscode-notebook-cell:/c%3A/Users/Student/OneDrive/MSci%20project/MSci2022_TESS/Transit_fitting/WASP_17b/wasp_17b_sector12_a.ipynb#X22sZmlsZQ%3D%3D?line=3'>4</a>\u001b[0m \u001b[39mParameters\u001b[39;00m\n\u001b[1;32m   (...)\u001b[0m\n\u001b[0;32m     <a href='vscode-notebook-cell:/c%3A/Users/Student/OneDrive/MSci%20project/MSci2022_TESS/Transit_fitting/WASP_17b/wasp_17b_sector12_a.ipynb#X22sZmlsZQ%3D%3D?line=9'>10</a>\u001b[0m \u001b[39m\u001b[39;00m\n\u001b[0;32m     <a href='vscode-notebook-cell:/c%3A/Users/Student/OneDrive/MSci%20project/MSci2022_TESS/Transit_fitting/WASP_17b/wasp_17b_sector12_a.ipynb#X22sZmlsZQ%3D%3D?line=10'>11</a>\u001b[0m \u001b[39m\"\"\"\u001b[39;00m\n\u001b[0;32m     <a href='vscode-notebook-cell:/c%3A/Users/Student/OneDrive/MSci%20project/MSci2022_TESS/Transit_fitting/WASP_17b/wasp_17b_sector12_a.ipynb#X22sZmlsZQ%3D%3D?line=11'>12</a>\u001b[0m T_0, R_planet_stellar, orbital_period, orbital_inclination, semi_major_axis \u001b[39m=\u001b[39m prior_params\n\u001b[1;32m---> <a href='vscode-notebook-cell:/c%3A/Users/Student/OneDrive/MSci%20project/MSci2022_TESS/Transit_fitting/WASP_17b/wasp_17b_sector12_a.ipynb#X22sZmlsZQ%3D%3D?line=13'>14</a>\u001b[0m prior_params\u001b[39m.\u001b[39mt0 \u001b[39m=\u001b[39m T_0\n\u001b[0;32m     <a href='vscode-notebook-cell:/c%3A/Users/Student/OneDrive/MSci%20project/MSci2022_TESS/Transit_fitting/WASP_17b/wasp_17b_sector12_a.ipynb#X22sZmlsZQ%3D%3D?line=14'>15</a>\u001b[0m prior_params\u001b[39m.\u001b[39mrp \u001b[39m=\u001b[39m R_planet_stellar\n\u001b[0;32m     <a href='vscode-notebook-cell:/c%3A/Users/Student/OneDrive/MSci%20project/MSci2022_TESS/Transit_fitting/WASP_17b/wasp_17b_sector12_a.ipynb#X22sZmlsZQ%3D%3D?line=15'>16</a>\u001b[0m prior_params\u001b[39m.\u001b[39mper \u001b[39m=\u001b[39m orbital_period\n",
      "\u001b[1;31mAttributeError\u001b[0m: 'numpy.ndarray' object has no attribute 't0'"
     ]
    }
   ],
   "source": [
    "scatter = [1E-4, 1E-4, 1E-4, 1E-2, 1E-3]\n",
    "\n",
    "pos = guess + 1E-4 * np.random.randn(20, 5)\n",
    "\n",
    "nwalkers, ndim = pos.shape\n",
    "\n",
    "filename = \"wasp_17b_sector12_a.h5\"\n",
    "backend = emcee.backends.HDFBackend(filename)\n",
    "backend.reset(nwalkers, ndim)\n",
    "\n",
    "with Pool() as pool:\n",
    "    start_time = time.time()\n",
    "    sampler = emcee.EnsembleSampler(nwalkers, ndim, log_prob, args=(flux, yerrs), a=2)\n",
    "    sampler.run_mcmc(pos, 5000, progress=True)\n",
    "    end_time = time.time()\n",
    "    execution_time = (end_time - start_time)\n",
    "    print(\"Start:       {}\".format(time.ctime(int(start_time))))\n",
    "    print(\"End:         {}\".format(time.ctime(int(end_time))))\n",
    "    print(\"Time taken:  {:.2f} s\".format(execution_time))"
   ]
  }
 ],
 "metadata": {
  "kernelspec": {
   "display_name": "MSci_project",
   "language": "python",
   "name": "python3"
  },
  "language_info": {
   "codemirror_mode": {
    "name": "ipython",
    "version": 3
   },
   "file_extension": ".py",
   "mimetype": "text/x-python",
   "name": "python",
   "nbconvert_exporter": "python",
   "pygments_lexer": "ipython3",
   "version": "3.10.4"
  },
  "orig_nbformat": 4,
  "vscode": {
   "interpreter": {
    "hash": "7bd4fe6967f9cc850d872c9777b9eeb4234965a4c66e35bcc9347dfc982970e3"
   }
  }
 },
 "nbformat": 4,
 "nbformat_minor": 2
}
