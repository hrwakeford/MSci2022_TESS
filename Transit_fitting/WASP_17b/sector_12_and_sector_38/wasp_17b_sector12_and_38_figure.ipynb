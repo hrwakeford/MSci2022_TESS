{
 "cells": [
  {
   "cell_type": "code",
   "execution_count": null,
   "metadata": {},
   "outputs": [],
   "source": [
    "import os\n",
    "os.environ[\"OMP_NUM_THREADS\"] = \"4\"\n",
    "\n",
    "import lightkurve as lk\n",
    "import numpy as np\n",
    "import matplotlib.pyplot as plt\n",
    "import matplotlib.ticker as ticker\n",
    "import corner\n",
    "import batman\n",
    "import emcee\n",
    "import time\n",
    "from multiprocessing import Pool\n",
    "from IPython.display import display, Math\n",
    "from matplotlib.ticker import (MultipleLocator, AutoMinorLocator)\n",
    "import matplotlib.ticker as tck"
   ]
  },
  {
   "cell_type": "code",
   "execution_count": null,
   "metadata": {},
   "outputs": [],
   "source": [
    "def semi_major_axis_in_stellar_radii(semi_major_axis, R_star):\n",
    "    \"\"\"\n",
    "    Converting the semi-major axis (AU) to (Stellar radii)\n",
    "\n",
    "    Parameters\n",
    "    ----------\n",
    "    semi_major_axis : float\n",
    "        Semi-major axis of the planet in AU.\n",
    "\n",
    "    R_star : float\n",
    "        Stellar radius in R_sun.\n",
    "\n",
    "    Returns\n",
    "    -------\n",
    "    a_stellar_radii : float\n",
    "        Semi-major axis of the planet in stellar radii.\n",
    "    \"\"\"\n",
    "    #1 AU = 215.032 R_Sun\n",
    "\n",
    "    a_stellar_radii = semi_major_axis * 215.032 / R_star\n",
    "\n",
    "    return a_stellar_radii"
   ]
  },
  {
   "cell_type": "code",
   "execution_count": null,
   "metadata": {},
   "outputs": [],
   "source": [
    "TIC = 'TIC 66818296' #WASP-17 / TIC 66818296\n",
    "\n",
    "search_result = lk.search_lightcurve(\n",
    "    target=TIC,\n",
    "    mission='TESS', author='SPOC')\n",
    "print(\"trying to download\")\n",
    "lc_collection = search_result.download_all()\n",
    "print(\"Search done\")\n",
    "print(lc_collection)\n",
    "lc = lc_collection.stitch(corrector_func=lambda x: x.\n",
    "                          remove_nans().normalize(unit='unscaled'))\n",
    "#Sector 12 and sector \n",
    "lc = lc.remove_outliers(sigma=10)\n",
    "lc = lc.remove_nans()"
   ]
  },
  {
   "cell_type": "code",
   "execution_count": null,
   "metadata": {},
   "outputs": [],
   "source": [
    "lc"
   ]
  },
  {
   "cell_type": "code",
   "execution_count": null,
   "metadata": {},
   "outputs": [],
   "source": [
    "lc_f = lc.flatten()\n",
    "lc_bin = lc_f.bin(time_bin_size = 0.006944444) # Default time is in days\n",
    "lc_bin = lc_bin.remove_nans()\n",
    "#0.006944444 day = 10 minutes\n",
    "\n",
    "t = lc_bin.time.btjd\n",
    "flux_data = lc_bin.flux\n",
    "yerrs = lc_bin.flux_err"
   ]
  },
  {
   "cell_type": "code",
   "execution_count": null,
   "metadata": {},
   "outputs": [],
   "source": [
    "fig, ax = plt.subplots(1, figsize=(8,6))\n",
    "plt.errorbar(lc.time, lc.flux, yerrs, fmt='.', color='Black', ecolor='LightGrey') #Unbinned\n",
    "plt.errorbar(t, flux_data, yerrs, fmt='.', color='Blue', ecolor='LightGrey') #Binned\n",
    "\n",
    "\n",
    "plt.ylabel(\"Normalised flux\", size=17)\n",
    "plt.xlabel(\"Time - 2457000 (BTJD days)\", size=17)\n",
    "\n",
    "ax.xaxis.set_tick_params(labelsize=17)\n",
    "ax.yaxis.set_tick_params(labelsize=17)\n",
    "\n",
    "ax.xaxis.set_minor_locator(tck.AutoMinorLocator())\n",
    "ax.yaxis.set_minor_locator(tck.AutoMinorLocator())\n",
    "\n",
    "plt.show()\n"
   ]
  },
  {
   "cell_type": "code",
   "execution_count": null,
   "metadata": {},
   "outputs": [],
   "source": [
    "filename = \"wasp_17b_sector12_and_sector38.h5\"\n",
    "reader = emcee.backends.HDFBackend(filename)\n",
    "tau = reader.get_autocorr_time()\n",
    "burnin = int(2 * np.max(tau))\n",
    "thin = int(0.5 * np.min(tau))\n",
    "flat_samples = reader.get_chain(discard=burnin, flat=True, thin=thin)"
   ]
  },
  {
   "cell_type": "code",
   "execution_count": null,
   "metadata": {},
   "outputs": [],
   "source": [
    "model_T0 = np.percentile(flat_samples[:, 0], 50)\n",
    "model_Rp = np.percentile(flat_samples[:, 1], 50)\n",
    "model_per = np.percentile(flat_samples[:, 2], 50)\n",
    "model_inc = np.percentile(flat_samples[:, 3], 50)\n",
    "model_a = np.percentile(flat_samples[:, 4], 50)\n",
    "\n",
    "prior_Rs = 1.583 #R_sun Southworth et al. 2012\n",
    "\n",
    "model_params = batman.TransitParams()\n",
    "model_params.t0 = model_T0                                          #time of inferior conjunction\n",
    "model_params.per = model_per                                        #orbital period (days)\n",
    "model_params.rp = model_Rp                #planet radius (in units of stellar radii)\n",
    "model_params.a = semi_major_axis_in_stellar_radii(model_a, prior_Rs) #semi-major axis (in units of stellar radii))\n",
    "model_params.inc = model_inc                                     #orbital inclination (in degrees)\n",
    "model_params.ecc = 0.0                                         #eccentricity\n",
    "model_params.w = 90.                                          #longitude of periastron (in degrees)\n",
    "model_params.limb_dark = \"quadratic\"                          #limb darkening model\n",
    "model_params.u = [0.21768792859790628, 0.2836292883489928]                          #limb darkening coefficients [u1, u2, u3, u4]\n",
    "\n",
    "m = batman.TransitModel(model_params, t)                      #initializes model\n",
    "model_flux = m.light_curve(model_params)"
   ]
  },
  {
   "cell_type": "code",
   "execution_count": null,
   "metadata": {},
   "outputs": [],
   "source": [
    "fig, ax = plt.subplots(1, figsize=(8,6))\n",
    "plt.errorbar(lc.time, lc.flux, yerrs, fmt='.', color='Black', ecolor='LightGrey') #Unbinned\n",
    "plt.errorbar(t, flux_data, yerrs, fmt='.', color='Blue', ecolor='LightGrey') #Binned\n",
    "plt.plot(t, model_flux, color='Red')\n",
    "\n",
    "plt.ylabel(\"Normalised flux\", size=17)\n",
    "plt.xlabel(\"Time - 2457000 (BTJD days)\", size=17)\n",
    "\n",
    "ax.xaxis.set_tick_params(labelsize=17)\n",
    "ax.yaxis.set_tick_params(labelsize=17)\n",
    "\n",
    "ax.xaxis.set_minor_locator(tck.AutoMinorLocator())\n",
    "ax.yaxis.set_minor_locator(tck.AutoMinorLocator())\n",
    "\n",
    "plt.show()\n"
   ]
  }
 ],
 "metadata": {
  "kernelspec": {
   "display_name": "MSci_project",
   "language": "python",
   "name": "python3"
  },
  "language_info": {
   "name": "python",
   "version": "3.10.4 | packaged by conda-forge | (main, Mar 30 2022, 08:38:02) [MSC v.1916 64 bit (AMD64)]"
  },
  "orig_nbformat": 4,
  "vscode": {
   "interpreter": {
    "hash": "7bd4fe6967f9cc850d872c9777b9eeb4234965a4c66e35bcc9347dfc982970e3"
   }
  }
 },
 "nbformat": 4,
 "nbformat_minor": 2
}
