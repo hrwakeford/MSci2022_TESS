{
 "cells": [
  {
   "cell_type": "code",
   "execution_count": 1,
   "metadata": {},
   "outputs": [],
   "source": [
    "import os\n",
    "os.environ[\"OMP_NUM_THREADS\"] = \"4\"\n",
    "\n",
    "import lightkurve as lk\n",
    "import numpy as np\n",
    "import matplotlib.pyplot as plt\n",
    "import matplotlib.ticker as ticker\n",
    "import corner\n",
    "import batman\n",
    "import emcee\n",
    "import time\n",
    "from multiprocessing import Pool\n",
    "from IPython.display import display, Math\n",
    "from matplotlib.ticker import (MultipleLocator, AutoMinorLocator)\n",
    "import matplotlib.ticker as tck\n",
    "\n",
    "from exotic_ld import StellarLimbDarkening\n",
    "\n",
    "import pandas as pd\n",
    "import pickle\n",
    "\n",
    "import celerite2\n",
    "from celerite2 import terms"
   ]
  },
  {
   "cell_type": "code",
   "execution_count": 5,
   "metadata": {},
   "outputs": [
    {
     "ename": "AttributeError",
     "evalue": "You must run the sampler with 'store == True' before accessing the results",
     "output_type": "error",
     "traceback": [
      "\u001B[0;31m---------------------------------------------------------------------------\u001B[0m",
      "\u001B[0;31mAttributeError\u001B[0m                            Traceback (most recent call last)",
      "Cell \u001B[0;32mIn[5], line 5\u001B[0m\n\u001B[1;32m      2\u001B[0m reader \u001B[38;5;241m=\u001B[39m emcee\u001B[38;5;241m.\u001B[39mbackends\u001B[38;5;241m.\u001B[39mHDFBackend(filename, read_only\u001B[38;5;241m=\u001B[39m\u001B[38;5;28;01mTrue\u001B[39;00m)\n\u001B[1;32m      3\u001B[0m \u001B[38;5;66;03m# reader = reader.get_chain()\u001B[39;00m\n\u001B[1;32m      4\u001B[0m \u001B[38;5;66;03m#\u001B[39;00m\n\u001B[0;32m----> 5\u001B[0m tau \u001B[38;5;241m=\u001B[39m \u001B[43mreader\u001B[49m\u001B[38;5;241;43m.\u001B[39;49m\u001B[43mget_autocorr_time\u001B[49m\u001B[43m(\u001B[49m\u001B[43m)\u001B[49m\n\u001B[1;32m      6\u001B[0m \u001B[38;5;66;03m# print(tau)\u001B[39;00m\n\u001B[1;32m      7\u001B[0m \u001B[38;5;28mprint\u001B[39m(reader)\n",
      "File \u001B[0;32m~/anaconda3/envs/MSci_project_solva/lib/python3.10/site-packages/emcee/backends/backend.py:149\u001B[0m, in \u001B[0;36mBackend.get_autocorr_time\u001B[0;34m(self, discard, thin, **kwargs)\u001B[0m\n\u001B[1;32m    130\u001B[0m \u001B[38;5;28;01mdef\u001B[39;00m \u001B[38;5;21mget_autocorr_time\u001B[39m(\u001B[38;5;28mself\u001B[39m, discard\u001B[38;5;241m=\u001B[39m\u001B[38;5;241m0\u001B[39m, thin\u001B[38;5;241m=\u001B[39m\u001B[38;5;241m1\u001B[39m, \u001B[38;5;241m*\u001B[39m\u001B[38;5;241m*\u001B[39mkwargs):\n\u001B[1;32m    131\u001B[0m     \u001B[38;5;124;03m\"\"\"Compute an estimate of the autocorrelation time for each parameter\u001B[39;00m\n\u001B[1;32m    132\u001B[0m \n\u001B[1;32m    133\u001B[0m \u001B[38;5;124;03m    Args:\u001B[39;00m\n\u001B[0;32m   (...)\u001B[0m\n\u001B[1;32m    147\u001B[0m \n\u001B[1;32m    148\u001B[0m \u001B[38;5;124;03m    \"\"\"\u001B[39;00m\n\u001B[0;32m--> 149\u001B[0m     x \u001B[38;5;241m=\u001B[39m \u001B[38;5;28;43mself\u001B[39;49m\u001B[38;5;241;43m.\u001B[39;49m\u001B[43mget_chain\u001B[49m\u001B[43m(\u001B[49m\u001B[43mdiscard\u001B[49m\u001B[38;5;241;43m=\u001B[39;49m\u001B[43mdiscard\u001B[49m\u001B[43m,\u001B[49m\u001B[43m \u001B[49m\u001B[43mthin\u001B[49m\u001B[38;5;241;43m=\u001B[39;49m\u001B[43mthin\u001B[49m\u001B[43m)\u001B[49m\n\u001B[1;32m    150\u001B[0m     \u001B[38;5;28;01mreturn\u001B[39;00m thin \u001B[38;5;241m*\u001B[39m autocorr\u001B[38;5;241m.\u001B[39mintegrated_time(x, \u001B[38;5;241m*\u001B[39m\u001B[38;5;241m*\u001B[39mkwargs)\n",
      "File \u001B[0;32m~/anaconda3/envs/MSci_project_solva/lib/python3.10/site-packages/emcee/backends/backend.py:75\u001B[0m, in \u001B[0;36mBackend.get_chain\u001B[0;34m(self, **kwargs)\u001B[0m\n\u001B[1;32m     60\u001B[0m \u001B[38;5;28;01mdef\u001B[39;00m \u001B[38;5;21mget_chain\u001B[39m(\u001B[38;5;28mself\u001B[39m, \u001B[38;5;241m*\u001B[39m\u001B[38;5;241m*\u001B[39mkwargs):\n\u001B[1;32m     61\u001B[0m     \u001B[38;5;124;03m\"\"\"Get the stored chain of MCMC samples\u001B[39;00m\n\u001B[1;32m     62\u001B[0m \n\u001B[1;32m     63\u001B[0m \u001B[38;5;124;03m    Args:\u001B[39;00m\n\u001B[0;32m   (...)\u001B[0m\n\u001B[1;32m     73\u001B[0m \n\u001B[1;32m     74\u001B[0m \u001B[38;5;124;03m    \"\"\"\u001B[39;00m\n\u001B[0;32m---> 75\u001B[0m     \u001B[38;5;28;01mreturn\u001B[39;00m \u001B[38;5;28;43mself\u001B[39;49m\u001B[38;5;241;43m.\u001B[39;49m\u001B[43mget_value\u001B[49m\u001B[43m(\u001B[49m\u001B[38;5;124;43m\"\u001B[39;49m\u001B[38;5;124;43mchain\u001B[39;49m\u001B[38;5;124;43m\"\u001B[39;49m\u001B[43m,\u001B[49m\u001B[43m \u001B[49m\u001B[38;5;241;43m*\u001B[39;49m\u001B[38;5;241;43m*\u001B[39;49m\u001B[43mkwargs\u001B[49m\u001B[43m)\u001B[49m\n",
      "File \u001B[0;32m~/anaconda3/envs/MSci_project_solva/lib/python3.10/site-packages/emcee/backends/hdf.py:161\u001B[0m, in \u001B[0;36mHDFBackend.get_value\u001B[0;34m(self, name, flat, thin, discard)\u001B[0m\n\u001B[1;32m    159\u001B[0m iteration \u001B[38;5;241m=\u001B[39m g\u001B[38;5;241m.\u001B[39mattrs[\u001B[38;5;124m\"\u001B[39m\u001B[38;5;124miteration\u001B[39m\u001B[38;5;124m\"\u001B[39m]\n\u001B[1;32m    160\u001B[0m \u001B[38;5;28;01mif\u001B[39;00m iteration \u001B[38;5;241m<\u001B[39m\u001B[38;5;241m=\u001B[39m \u001B[38;5;241m0\u001B[39m:\n\u001B[0;32m--> 161\u001B[0m     \u001B[38;5;28;01mraise\u001B[39;00m \u001B[38;5;167;01mAttributeError\u001B[39;00m(\n\u001B[1;32m    162\u001B[0m         \u001B[38;5;124m\"\u001B[39m\u001B[38;5;124mYou must run the sampler with \u001B[39m\u001B[38;5;124m\"\u001B[39m\n\u001B[1;32m    163\u001B[0m         \u001B[38;5;124m\"\u001B[39m\u001B[38;5;124m'\u001B[39m\u001B[38;5;124mstore == True\u001B[39m\u001B[38;5;124m'\u001B[39m\u001B[38;5;124m before accessing the \u001B[39m\u001B[38;5;124m\"\u001B[39m\n\u001B[1;32m    164\u001B[0m         \u001B[38;5;124m\"\u001B[39m\u001B[38;5;124mresults\u001B[39m\u001B[38;5;124m\"\u001B[39m\n\u001B[1;32m    165\u001B[0m     )\n\u001B[1;32m    167\u001B[0m \u001B[38;5;28;01mif\u001B[39;00m name \u001B[38;5;241m==\u001B[39m \u001B[38;5;124m\"\u001B[39m\u001B[38;5;124mblobs\u001B[39m\u001B[38;5;124m\"\u001B[39m \u001B[38;5;129;01mand\u001B[39;00m \u001B[38;5;129;01mnot\u001B[39;00m g\u001B[38;5;241m.\u001B[39mattrs[\u001B[38;5;124m\"\u001B[39m\u001B[38;5;124mhas_blobs\u001B[39m\u001B[38;5;124m\"\u001B[39m]:\n\u001B[1;32m    168\u001B[0m     \u001B[38;5;28;01mreturn\u001B[39;00m \u001B[38;5;28;01mNone\u001B[39;00m\n",
      "\u001B[0;31mAttributeError\u001B[0m: You must run the sampler with 'store == True' before accessing the results"
     ]
    }
   ],
   "source": [
    "filename = \"WASP_17b.h5\"\n",
    "reader = emcee.backends.HDFBackend(filename, read_only=True)\n",
    "# reader = reader.get_chain()\n",
    "#\n",
    "tau = reader.get_autocorr_time()\n",
    "# print(tau)\n",
    "print(reader)"
   ]
  },
  {
   "cell_type": "code",
   "execution_count": null,
   "metadata": {},
   "outputs": [],
   "source": [
    "burnin = int(5 * np.max(tau))\n",
    "thin = int(0.5 * np.min(tau))\n",
    "flat_samples = sampler.get_chain(discard=burnin, thin=thin, flat=True)\n",
    "print(flat_samples.shape)"
   ]
  },
  {
   "cell_type": "code",
   "execution_count": null,
   "metadata": {},
   "outputs": [],
   "source": [
    "labels = [\"$T_{0}$ (Days)\", \"$R_{p}/R_{*}$\", \"$P$ (Days)\", \"$i$ (Deg)\", \"$a/R_{*}$\", \"$\\\\sigma$\", \"$\\\\rho$\"]"
   ]
  },
  {
   "cell_type": "code",
   "execution_count": null,
   "metadata": {},
   "outputs": [],
   "source": [
    "fig, axes = plt.subplots(len(labels), figsize=(10, 7), sharex=True)\n",
    "samples = sampler.get_chain()\n",
    "\n",
    "\n",
    "for i in range(ndim):\n",
    "    ax = axes[i]\n",
    "    ax.plot(samples[:, :, i], \"k\", alpha=0.3)\n",
    "    ax.axvline(x=burnin, color='red', ls=\"--\",alpha=0.7)\n",
    "    ax.set_xlim(0, len(samples))\n",
    "    ax.set_ylabel(labels[i])\n",
    "\n",
    "axes[-1].set_xlabel(\"Step number\")\n",
    "plt.show()"
   ]
  }
 ],
 "metadata": {
  "kernelspec": {
   "display_name": "MSci_project",
   "language": "python",
   "name": "python3"
  },
  "language_info": {
   "name": "python",
   "version": "3.10.4"
  },
  "orig_nbformat": 4,
  "vscode": {
   "interpreter": {
    "hash": "7bd4fe6967f9cc850d872c9777b9eeb4234965a4c66e35bcc9347dfc982970e3"
   }
  }
 },
 "nbformat": 4,
 "nbformat_minor": 2
}
