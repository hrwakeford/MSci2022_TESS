{
 "cells": [
  {
   "cell_type": "code",
   "execution_count": 1,
   "metadata": {},
   "outputs": [],
   "source": [
    "import pandas as pd\n",
    "import numpy as np\n",
    "import matplotlib.pyplot as plt\n",
    "import matplotlib.ticker as ticker\n",
    "import scipy\n",
    "import re\n",
    "import scipy.stats as stats\n",
    "\n",
    "import sys\n",
    "sys.path.insert(0, r'/Users/Student/OneDrive/MSci project/MSci2022_TESS/packages')\n",
    "from parameters_reading import read_df_params"
   ]
  },
  {
   "cell_type": "code",
   "execution_count": 2,
   "metadata": {},
   "outputs": [],
   "source": [
    "#NASA Exoplanet Archieve of HAT_P_30b\n",
    "# https://exoplanetarchive.ipac.caltech.edu/overview/HAT-P-30b\n",
    "\n",
    "#Binary system\n",
    "# HAT_P_30 - Star\n",
    "#  Hosts HAT_P_30b\n",
    "#  \n",
    "# HAT_P_30B - Star"
   ]
  },
  {
   "cell_type": "code",
   "execution_count": 3,
   "metadata": {},
   "outputs": [],
   "source": [
    "df = pd.read_csv(\"HAT_P_30b_literature.csv\")#, header=None)\n",
    "df = df.set_index('Parameter')\n"
   ]
  },
  {
   "cell_type": "code",
   "execution_count": null,
   "metadata": {},
   "outputs": [],
   "source": [
    "df"
   ]
  },
  {
   "cell_type": "code",
   "execution_count": null,
   "metadata": {},
   "outputs": [],
   "source": [
    "df_ref_list = df.columns\n",
    "\n",
    "# df_e_list = df.loc['e'] #Eccentricty row\n",
    "df_i_list = df.loc['i'] #Orbtial inclination row\n",
    "df_P_list = df.loc['P'] #Orbtial period row\n",
    "df_R_list = df.loc['R'] #Planetary radius row\n",
    "df_a_list = df.loc['a'] #Semi-major axis row\n",
    "# df_b_list = df.loc['b'] #Impact parameter row\n",
    "df_RpRs_list = df.loc['RpRs'] #R_p/R_star row\n",
    "# df_w_list = df.loc['w'] #\n",
    "df_color = df.loc['colour'] #Colours\n",
    "# df_T_c_list = df.loc['T_c']\n",
    "# df_transit_duration_list = df.loc['transit_duration']\n",
    "df_a_Rs_list = df.loc['a/R*']\n",
    "\n",
    "# e_list, e_ref_list = read_df_params(df_e_list, df_ref_list)\n",
    "i_list, i_ref_list = read_df_params(df_i_list, df_ref_list)\n",
    "P_list, P_ref_list = read_df_params(df_P_list, df_ref_list)\n",
    "R_list, R_ref_list = read_df_params(df_R_list, df_ref_list)\n",
    "a_list, a_ref_list = read_df_params(df_a_list, df_ref_list)\n",
    "# b_list, b_ref_list = read_df_params(df_b_list, df_ref_list)\n",
    "RpRs_list, RpRs_ref_list = read_df_params(df_RpRs_list, df_ref_list)\n",
    "# T_c_list, T_c_ref_list = read_df_params(df_T_c_list, df_ref_list)\n",
    "# transit_duration_list, transit_duration_ref_list = read_df_params(df_transit_duration_list, df_ref_list)\n",
    "a_Rs_list, a_Rs_ref_list = read_df_params(df_a_Rs_list, df_ref_list)"
   ]
  },
  {
   "cell_type": "code",
   "execution_count": null,
   "metadata": {},
   "outputs": [],
   "source": [
    "fig, ax = plt.subplots(1, figsize=(8,6))\n",
    "\n",
    "x = np.linspace(0.13, 0.155, 500)\n",
    "for RpRs_obj, author in zip(RpRs_list, RpRs_ref_list):\n",
    "    mu, upper, lower = RpRs_obj\n",
    "    sigma = max(abs(upper), abs(lower))\n",
    "    if sigma > 0:\n",
    "        colour = df[author]['colour']\n",
    "        plt.plot(x, stats.norm.pdf(x, mu, sigma), label=author, color=colour)\n",
    "\n",
    "plt.xlabel(r'Planet-Star radius ratio $R_{p}/R_{*}$')\n",
    "plt.ylabel(\"Probability Density\")\n",
    "ax.legend()\n",
    "plt.show()"
   ]
  },
  {
   "cell_type": "code",
   "execution_count": null,
   "metadata": {},
   "outputs": [],
   "source": [
    "fig, ax = plt.subplots(1, figsize=(8,6))\n",
    "\n",
    "# x = np.linspace(4.055276, 4.055283, 500)\n",
    "x = np.linspace(4.055276, 4.055282, 500)\n",
    "for P_obj, author in zip(P_list, P_ref_list):\n",
    "    mu, upper, lower = P_obj\n",
    "    sigma = max(abs(upper), abs(lower))\n",
    "    if sigma > 0:\n",
    "        colour = df[author]['colour']\n",
    "        plt.plot(x, stats.norm.pdf(x, mu, sigma), label=author, color=colour)\n",
    "\n",
    "plt.xlabel(\"Period (days)\")\n",
    "plt.ylabel(\"Probability Density\")\n",
    "ax.legend()\n",
    "plt.show()"
   ]
  },
  {
   "cell_type": "code",
   "execution_count": null,
   "metadata": {},
   "outputs": [],
   "source": [
    "fig, ax = plt.subplots(1, figsize=(8,6))\n",
    "\n",
    "x = np.linspace(86, 90, 500)\n",
    "for i_obj, author in zip(i_list, i_ref_list):\n",
    "    mu, upper, lower = i_obj\n",
    "    sigma = max(abs(upper), abs(lower))\n",
    "    if sigma > 0:\n",
    "        colour = df[author]['colour']\n",
    "        plt.plot(x, stats.norm.pdf(x, mu, sigma), label=author, color=colour)\n",
    "\n",
    "plt.xlabel(r\"Orbital Inclination $i$ (deg)\")\n",
    "plt.ylabel(\"Probability Density\")\n",
    "ax.legend()\n",
    "plt.show()"
   ]
  }
 ],
 "metadata": {
  "kernelspec": {
   "display_name": "MSci_project",
   "language": "python",
   "name": "python3"
  },
  "language_info": {
   "codemirror_mode": {
    "name": "ipython",
    "version": 3
   },
   "file_extension": ".py",
   "mimetype": "text/x-python",
   "name": "python",
   "nbconvert_exporter": "python",
   "pygments_lexer": "ipython3",
   "version": "3.10.4"
  },
  "orig_nbformat": 4,
  "vscode": {
   "interpreter": {
    "hash": "7bd4fe6967f9cc850d872c9777b9eeb4234965a4c66e35bcc9347dfc982970e3"
   }
  }
 },
 "nbformat": 4,
 "nbformat_minor": 2
}
