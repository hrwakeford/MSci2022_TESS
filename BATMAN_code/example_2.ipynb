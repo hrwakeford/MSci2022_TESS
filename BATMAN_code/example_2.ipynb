{
 "cells": [
  {
   "cell_type": "code",
   "execution_count": null,
   "metadata": {},
   "outputs": [],
   "source": [
    "#https://lkreidberg.github.io/batman/docs/html/quickstart.html\n",
    "import batman\n",
    "import numpy as np\n",
    "import matplotlib.pyplot as plt"
   ]
  },
  {
   "cell_type": "code",
   "execution_count": null,
   "metadata": {},
   "outputs": [],
   "source": [
    "#1 R_J = 0.10045 R_sun\n",
    "#1 R_sun = 1 / 0.10045\n",
    "\n",
    "#1 AU = 0.005 R_sun"
   ]
  },
  {
   "cell_type": "code",
   "execution_count": null,
   "metadata": {},
   "outputs": [],
   "source": [
    "R_star = 1 #M_sun\n",
    "R_planet = 1.1 #R_J\n",
    "semi_major_axis = 10 #AU\n",
    "\n",
    "semi_major_axis = [0.010, 0.020, 0.030, 0.040, 0.050] # AU  .. Chapter 4, p130. Semi-major axis range for transit detection \n",
    "\n",
    "#Quick start example\n",
    "params = batman.TransitParams()\n",
    "params.t0 = 0.                       #time of inferior conjunction\n",
    "params.per = 4                      #orbital period\n",
    "params.rp = R_planet * 0.10045 #R_Sun       #planet radius (in units of stellar radii)\n",
    "params.a = 15                        #semi-major axis (in units of stellar radii)\n",
    "params.inc = 90.                     #orbital inclination (in degrees)\n",
    "params.ecc = 0.                      #eccentricity\n",
    "params.w = 90.                       #longitude of periastron (in degrees)\n",
    "params.u = [0.1, 0.3]                #limb darkening coefficients [u1, u2]\n",
    "params.limb_dark = \"quadratic\"       #limb darkening model\n",
    "\n",
    "t = np.linspace(-0.05, 0.05, 100)\n",
    "\n",
    "\n",
    "for params.a in np.multiply(semi_major_axis, 0.005):\n",
    "    m = batman.TransitModel(params, t)    #initializes model\n",
    "    flux_initial = m.light_curve(params)          #calculates light curve\n",
    "    plt.plot(t, flux_initial)\n",
    "plt.xlabel(\"Time from central transit\")\n",
    "plt.ylabel(\"Relative flux\")\n",
    "plt.show()"
   ]
  }
 ],
 "metadata": {
  "kernelspec": {
   "display_name": "Python 3.10.4 ('MSci_project')",
   "language": "python",
   "name": "python3"
  },
  "language_info": {
   "name": "python",
   "version": "3.10.4"
  },
  "orig_nbformat": 4,
  "vscode": {
   "interpreter": {
    "hash": "7bd4fe6967f9cc850d872c9777b9eeb4234965a4c66e35bcc9347dfc982970e3"
   }
  }
 },
 "nbformat": 4,
 "nbformat_minor": 2
}
