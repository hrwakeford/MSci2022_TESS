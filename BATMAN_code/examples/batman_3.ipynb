{
 "cells": [
  {
   "cell_type": "markdown",
   "metadata": {},
   "source": []
  },
  {
   "cell_type": "code",
   "execution_count": null,
   "metadata": {},
   "outputs": [],
   "source": [
    "import batman\n",
    "import numpy as np\n",
    "import matplotlib.pyplot as plt"
   ]
  },
  {
   "cell_type": "markdown",
   "metadata": {},
   "source": [
    "A renewal of values from example_2.ipynb as fixing the orbital period and changing the semi-major axis may give unphysical orbital speeds"
   ]
  },
  {
   "cell_type": "code",
   "execution_count": null,
   "metadata": {},
   "outputs": [],
   "source": [
    "R_star = 0.5 #R_sun, 0.5 M_sun\n",
    "R_planet = 0.9 #R_J\n",
    "\n",
    "semi_major_axis = [0.025, 0.05, 0.075, 0.1] # AU  \n",
    "#.. Chapter 4, p130. Semi-major axis range for transit detection + http://exoplanets.org/\n",
    "periods = [3.2, 9.1, 16.6, 25.6] # Days, calculated using T \\propto a^{3/2}\n",
    "\n",
    "#Quick start example\n",
    "params = batman.TransitParams()\n",
    "params.t0 = 0.                       #time of inferior conjunction\n",
    "# params.per = 5                  #orbital period\n",
    "params.rp = R_planet * 0.10045 #R_Sun       #planet radius (in units of stellar radii)\n",
    "# params.a = 15                        #semi-major axis (in units of stellar radii)\n",
    "params.inc = 90.                     #orbital inclination (in degrees)\n",
    "params.ecc = 0.                      #eccentricity\n",
    "params.w = 90.                       #longitude of periastron (in degrees)\n",
    "params.u = [0.1, 0.3]                #limb darkening coefficients [u1, u2]\n",
    "params.limb_dark = \"quadratic\"       #limb darkening model\n",
    "\n",
    "t = np.linspace(-0.1, 0.1, 200)\n",
    "\n",
    "array = np.divide(np.multiply(semi_major_axis, 215.032), R_star) #Convert to Stellar radii\n",
    "\n",
    "for params.a, a_au, params.per in zip(array, semi_major_axis, periods):\n",
    "    m = batman.TransitModel(params, t)    #initializes model\n",
    "    flux_initial = m.light_curve(params)          #calculates light curve\n",
    "    plt.plot(t, flux_initial, label = \"{:.2f} AU, {:.1f} days\".format(a_au, params.per))\n",
    "plt.xlabel(\"Time from central transit [days]\")\n",
    "plt.ylabel(\"Normalised flux\")\n",
    "plt.legend(loc='lower right')\n",
    "plt.show()\n",
    "\n",
    "#Transit duration\n",
    "#T_{dur} = \\frac{P R}{\\pi a}\n",
    "#Assuming P (period) and R (star radius) is constant, transit duration follows this relation,\n",
    "#T_{dur} ~ \\frac{1}{a}"
   ]
  },
  {
   "cell_type": "markdown",
   "metadata": {},
   "source": [
    "Assuming circular orbit and orbital inclination = 0 degrees\n",
    "The transit duration increases with semi-major axis.\n",
    " This is due to 3rd Kepler's law.\n",
    " A planet is orbital period increases with semi-major axis, thus the time taken for the planet transit decreases.\n"
   ]
  },
  {
   "cell_type": "markdown",
   "metadata": {},
   "source": []
  }
 ],
 "metadata": {
  "kernelspec": {
   "display_name": "Python 3.10.4 ('MSci_project')",
   "language": "python",
   "name": "python3"
  },
  "language_info": {
   "codemirror_mode": {
    "name": "ipython",
    "version": 3
   },
   "file_extension": ".py",
   "mimetype": "text/x-python",
   "name": "python",
   "nbconvert_exporter": "python",
   "pygments_lexer": "ipython3",
   "version": "3.10.4"
  },
  "orig_nbformat": 4,
  "vscode": {
   "interpreter": {
    "hash": "7bd4fe6967f9cc850d872c9777b9eeb4234965a4c66e35bcc9347dfc982970e3"
   }
  }
 },
 "nbformat": 4,
 "nbformat_minor": 2
}
