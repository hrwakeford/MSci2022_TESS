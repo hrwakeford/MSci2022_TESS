{
 "cells": [
  {
   "cell_type": "code",
   "execution_count": null,
   "metadata": {},
   "outputs": [],
   "source": [
    "#https://lkreidberg.github.io/batman/docs/html/quickstart.html\n",
    "import batman\n",
    "import numpy as np\n",
    "import matplotlib.pyplot as plt"
   ]
  },
  {
   "cell_type": "markdown",
   "metadata": {},
   "source": [
    "An attempt to model WASP-17b with it's literature values from exoplanets.org. The only parameter that was not been able to be found was the limb darkening coefficients. However a piece of algorithm later on will be able to be used to fully show the model light curve of WASP-17b "
   ]
  },
  {
   "cell_type": "code",
   "execution_count": null,
   "metadata": {},
   "outputs": [],
   "source": []
  },
  {
   "cell_type": "code",
   "execution_count": null,
   "metadata": {},
   "outputs": [],
   "source": [
    "#WASP-17b\n",
    "#http://exoplanets.org/detail/WASP-17_b\n",
    "params = batman.TransitParams()\n",
    "params.t0 = 0.                       #time of inferior conjunction\n",
    "params.per = 3.7354330                      #orbital period\n",
    "params.rp = 0.1                      #planet radius (in units of stellar radii)\n",
    "params.a = 15.                       #semi-major axis (in units of stellar radii)\n",
    "params.inc = 90.                     #orbital inclination (in degrees)\n",
    "params.ecc = 0.                      #eccentricity\n",
    "params.w = 90.                       #longitude of periastron (in degrees)\n",
    "params.u = [0.1, 0.3]                #limb darkening coefficients [u1, u2]\n",
    "params.limb_dark = \"quadratic\"       #limb darkening model\n",
    "\n",
    "t = np.linspace(-0.05, 0.05, 100)\n",
    "\n",
    "m = batman.TransitModel(params, t)    #initializes model\n",
    "flux_initial = m.light_curve(params)          #calculates light curve\n",
    "\n",
    "plt.plot(t, flux_initial)\n",
    "plt.xlabel(\"Time from central transit\")\n",
    "plt.ylabel(\"Relative flux\")\n",
    "plt.show()"
   ]
  }
 ],
 "metadata": {
  "kernelspec": {
   "display_name": "Python 3.10.4 ('MSci_project')",
   "language": "python",
   "name": "python3"
  },
  "language_info": {
   "name": "python",
   "version": "3.10.4"
  },
  "orig_nbformat": 4,
  "vscode": {
   "interpreter": {
    "hash": "7bd4fe6967f9cc850d872c9777b9eeb4234965a4c66e35bcc9347dfc982970e3"
   }
  }
 },
 "nbformat": 4,
 "nbformat_minor": 2
}
