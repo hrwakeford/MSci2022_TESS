{
 "cells": [
  {
   "cell_type": "code",
   "execution_count": 16,
   "metadata": {},
   "outputs": [],
   "source": [
    "import os\n",
    "import pickle\n",
    "import lightkurve as lk\n",
    "import astropy\n",
    "from astropy.utils.masked import Masked\n",
    "import numpy as np\n",
    "\n",
    "\n",
    "import sys\n",
    "sys.path.insert(0, r'/Users/Student/OneDrive/MSci project/MSci2022_TESS/packages')\n",
    "from unit_conversion import *"
   ]
  },
  {
   "cell_type": "code",
   "execution_count": 17,
   "metadata": {},
   "outputs": [
    {
     "name": "stdout",
     "output_type": "stream",
     "text": [
      "trying to download\n",
      "Search done\n",
      "LightCurveCollection of 2 objects:\n",
      "    0: <TessLightCurve LABEL=\"TIC 66818296\" SECTOR=12 AUTHOR=SPOC FLUX_ORIGIN=pdcsap_flux>\n",
      "    1: <TessLightCurve LABEL=\"TIC 66818296\" SECTOR=38 AUTHOR=SPOC FLUX_ORIGIN=pdcsap_flux>\n"
     ]
    }
   ],
   "source": [
    "TIC = 'TIC 66818296' #WASP-17 / TIC 66818296\n",
    "\n",
    "search_result = lk.search_lightcurve(\n",
    "    target=TIC,\n",
    "    mission='TESS', author='SPOC')\n",
    "print(\"trying to download\")\n",
    "lc_collection = search_result.download_all()\n",
    "print(\"Search done\")\n",
    "print(lc_collection)\n",
    "\n",
    "lc = lc_collection.stitch(corrector_func=lambda x: x.\n",
    "                          remove_nans().normalize(unit='unscaled'))"
   ]
  },
  {
   "cell_type": "code",
   "execution_count": 19,
   "metadata": {},
   "outputs": [
    {
     "data": {
      "text/html": [
       "<div><i>TessLightCurve length=32188 LABEL=&quot;TIC 66818296&quot; SECTOR=38 AUTHOR=SPOC FLUX_ORIGIN=pdcsap_flux</i>\n",
       "<table id=\"table1335791985200\" class=\"table-striped table-bordered table-condensed\">\n",
       "<thead><tr><th>time</th><th>flux</th><th>flux_err</th><th>timecorr</th><th>cadenceno</th><th>centroid_col</th><th>centroid_row</th><th>sap_flux</th><th>sap_flux_err</th><th>sap_bkg</th><th>sap_bkg_err</th><th>pdcsap_flux</th><th>pdcsap_flux_err</th><th>quality</th><th>psf_centr1</th><th>psf_centr1_err</th><th>psf_centr2</th><th>psf_centr2_err</th><th>mom_centr1</th><th>mom_centr1_err</th><th>mom_centr2</th><th>mom_centr2_err</th><th>pos_corr1</th><th>pos_corr2</th></tr></thead>\n",
       "<thead><tr><th></th><th></th><th></th><th>d</th><th></th><th>pix</th><th>pix</th><th>electron / s</th><th>electron / s</th><th>electron / s</th><th>electron / s</th><th>electron / s</th><th>electron / s</th><th></th><th>pix</th><th>pix</th><th>pix</th><th>pix</th><th>pix</th><th>pix</th><th>pix</th><th>pix</th><th>pix</th><th>pix</th></tr></thead>\n",
       "<thead><tr><th>Time</th><th>float32</th><th>float32</th><th>float32</th><th>int32</th><th>float64</th><th>float64</th><th>float32</th><th>float32</th><th>float32</th><th>float32</th><th>float32</th><th>float32</th><th>int32</th><th>float64</th><th>float32</th><th>float64</th><th>float32</th><th>float64</th><th>float32</th><th>float64</th><th>float32</th><th>float32</th><th>float32</th></tr></thead>\n",
       "<tr><td>1628.9527366213874</td><td>9.9146342e-01</td><td>2.2294226e-03</td><td>5.7549695e-03</td><td>289074</td><td>1734.75869</td><td>254.41609</td><td>5.6552012e+03</td><td>1.2536695e+01</td><td>4.5658228e+03</td><td>5.9796586e+00</td><td>6.3341509e+03</td><td>1.4243086e+01</td><td>0</td><td>———</td><td>———</td><td>———</td><td>———</td><td>1734.75869</td><td>1.7931858e-03</td><td>254.41609</td><td>1.7716236e-03</td><td>4.0939126e-02</td><td>2.0365320e-01</td></tr>\n",
       "<tr><td>1628.9541255101508</td><td>9.9583793e-01</td><td>2.2304894e-03</td><td>5.7549700e-03</td><td>289075</td><td>1734.74578</td><td>254.42646</td><td>5.6748306e+03</td><td>1.2542694e+01</td><td>4.5680073e+03</td><td>5.9771156e+00</td><td>6.3620981e+03</td><td>1.4249902e+01</td><td>0</td><td>———</td><td>———</td><td>———</td><td>———</td><td>1734.74578</td><td>1.7894373e-03</td><td>254.42646</td><td>1.7657484e-03</td><td>2.5400141e-02</td><td>2.1769401e-01</td></tr>\n",
       "<tr><td>1628.955514398915</td><td>9.9091458e-01</td><td>2.2287809e-03</td><td>5.7549705e-03</td><td>289076</td><td>1734.75697</td><td>254.42326</td><td>5.6416396e+03</td><td>1.2533087e+01</td><td>4.5655005e+03</td><td>5.9784079e+00</td><td>6.3306445e+03</td><td>1.4238987e+01</td><td>0</td><td>———</td><td>———</td><td>———</td><td>———</td><td>1734.75697</td><td>1.8040523e-03</td><td>254.42326</td><td>1.7733830e-03</td><td>3.9708838e-02</td><td>2.1558438e-01</td></tr>\n",
       "<tr><td>1628.9569032876798</td><td>9.9025726e-01</td><td>2.2276556e-03</td><td>5.7549709e-03</td><td>289077</td><td>1734.77388</td><td>254.40724</td><td>5.6449824e+03</td><td>1.2526758e+01</td><td>4.5653208e+03</td><td>5.9806061e+00</td><td>6.3264453e+03</td><td>1.4231798e+01</td><td>0</td><td>———</td><td>———</td><td>———</td><td>———</td><td>1734.77388</td><td>1.8003181e-03</td><td>254.40724</td><td>1.7727494e-03</td><td>5.3074531e-02</td><td>1.9718842e-01</td></tr>\n",
       "<tr><td>1628.9582921764436</td><td>9.9405742e-01</td><td>2.2288344e-03</td><td>5.7549714e-03</td><td>289078</td><td>1734.75465</td><td>254.41574</td><td>5.6675269e+03</td><td>1.2533387e+01</td><td>4.5580649e+03</td><td>5.9763598e+00</td><td>6.3507231e+03</td><td>1.4239328e+01</td><td>0</td><td>———</td><td>———</td><td>———</td><td>———</td><td>1734.75465</td><td>1.7944344e-03</td><td>254.41574</td><td>1.7658967e-03</td><td>4.2726278e-02</td><td>2.0543911e-01</td></tr>\n",
       "<tr><td>1628.959681065207</td><td>9.9572426e-01</td><td>2.2284959e-03</td><td>5.7549719e-03</td><td>289079</td><td>1734.73932</td><td>254.42526</td><td>5.6712891e+03</td><td>1.2531484e+01</td><td>4.5560479e+03</td><td>5.9750943e+00</td><td>6.3613721e+03</td><td>1.4237165e+01</td><td>0</td><td>———</td><td>———</td><td>———</td><td>———</td><td>1734.73932</td><td>1.7894540e-03</td><td>254.42526</td><td>1.7633970e-03</td><td>2.1659279e-02</td><td>2.1886539e-01</td></tr>\n",
       "<tr><td>1628.961069953971</td><td>9.9142510e-01</td><td>2.2267138e-03</td><td>5.7549723e-03</td><td>289080</td><td>1734.75758</td><td>254.41773</td><td>5.6525649e+03</td><td>1.2521463e+01</td><td>4.5581753e+03</td><td>5.9713359e+00</td><td>6.3339062e+03</td><td>1.4225781e+01</td><td>0</td><td>———</td><td>———</td><td>———</td><td>———</td><td>1734.75758</td><td>1.7970275e-03</td><td>254.41773</td><td>1.7686322e-03</td><td>3.9847802e-02</td><td>2.0756216e-01</td></tr>\n",
       "<tr><td>1628.962458842735</td><td>9.9342662e-01</td><td>2.2281376e-03</td><td>5.7549728e-03</td><td>289081</td><td>1734.75298</td><td>254.41704</td><td>5.6614937e+03</td><td>1.2529469e+01</td><td>4.5481836e+03</td><td>5.9697313e+00</td><td>6.3466934e+03</td><td>1.4234877e+01</td><td>0</td><td>———</td><td>———</td><td>———</td><td>———</td><td>1734.75298</td><td>1.7935706e-03</td><td>254.41704</td><td>1.7688903e-03</td><td>3.7096344e-02</td><td>2.0781381e-01</td></tr>\n",
       "<tr><td>1628.9638477314988</td><td>9.9085009e-01</td><td>2.2257951e-03</td><td>5.7549733e-03</td><td>289082</td><td>1734.75787</td><td>254.41941</td><td>5.6412266e+03</td><td>1.2516295e+01</td><td>4.5579976e+03</td><td>5.9698505e+00</td><td>6.3302324e+03</td><td>1.4219911e+01</td><td>0</td><td>———</td><td>———</td><td>———</td><td>———</td><td>1734.75787</td><td>1.7998189e-03</td><td>254.41941</td><td>1.7731481e-03</td><td>4.2317994e-02</td><td>2.1254507e-01</td></tr>\n",
       "<tr><td>...</td><td>...</td><td>...</td><td>...</td><td>...</td><td>...</td><td>...</td><td>...</td><td>...</td><td>...</td><td>...</td><td>...</td><td>...</td><td>...</td><td>...</td><td>...</td><td>...</td><td>...</td><td>...</td><td>...</td><td>...</td><td>...</td><td>...</td><td>...</td></tr>\n",
       "<tr><td>2360.5441243211485</td><td>9.9800473e-01</td><td>2.1662707e-03</td><td>5.7973447e-03</td><td>815820</td><td>58.83292</td><td>260.73653</td><td>5.0754473e+03</td><td>1.0900843e+01</td><td>3.2595178e+03</td><td>4.4388137e+00</td><td>6.2467104e+03</td><td>1.3559120e+01</td><td>0</td><td>———</td><td>———</td><td>———</td><td>———</td><td>58.83292</td><td>1.5048780e-03</td><td>260.73653</td><td>1.5308607e-03</td><td>-4.0721402e-02</td><td>-1.2793957e-01</td></tr>\n",
       "<tr><td>2360.5455132112825</td><td>9.9706757e-01</td><td>2.1692957e-03</td><td>5.7973466e-03</td><td>815821</td><td>58.83669</td><td>260.74323</td><td>5.0748657e+03</td><td>1.0916064e+01</td><td>3.2788042e+03</td><td>4.4503050e+00</td><td>6.2408447e+03</td><td>1.3578054e+01</td><td>0</td><td>———</td><td>———</td><td>———</td><td>———</td><td>58.83669</td><td>1.5049482e-03</td><td>260.74323</td><td>1.5304209e-03</td><td>-3.1029750e-02</td><td>-1.1463796e-01</td></tr>\n",
       "<tr><td>2360.546902100951</td><td>9.9684072e-01</td><td>2.1711909e-03</td><td>5.7973480e-03</td><td>815822</td><td>58.83786</td><td>260.74228</td><td>5.0614121e+03</td><td>1.0925601e+01</td><td>3.3037302e+03</td><td>4.4625955e+00</td><td>6.2394248e+03</td><td>1.3589917e+01</td><td>0</td><td>———</td><td>———</td><td>———</td><td>———</td><td>58.83786</td><td>1.5117697e-03</td><td>260.74228</td><td>1.5382683e-03</td><td>-2.9239954e-02</td><td>-1.2163924e-01</td></tr>\n",
       "<tr><td>2360.5482909910857</td><td>9.9875683e-01</td><td>2.1746256e-03</td><td>5.7973498e-03</td><td>815823</td><td>58.83704</td><td>260.74328</td><td>5.0637168e+03</td><td>1.0942885e+01</td><td>3.3210603e+03</td><td>4.4742432e+00</td><td>6.2514180e+03</td><td>1.3611415e+01</td><td>0</td><td>———</td><td>———</td><td>———</td><td>———</td><td>58.83704</td><td>1.5128342e-03</td><td>260.74328</td><td>1.5382057e-03</td><td>-3.2724239e-02</td><td>-1.2526417e-01</td></tr>\n",
       "<tr><td>2360.549679880755</td><td>9.9811131e-01</td><td>2.1783924e-03</td><td>5.7973512e-03</td><td>815824</td><td>58.85084</td><td>260.75259</td><td>5.0749312e+03</td><td>1.0961840e+01</td><td>3.3397192e+03</td><td>4.4852052e+00</td><td>6.2473774e+03</td><td>1.3634992e+01</td><td>0</td><td>———</td><td>———</td><td>———</td><td>———</td><td>58.85084</td><td>1.5096465e-03</td><td>260.75259</td><td>1.5336904e-03</td><td>-6.6930088e-03</td><td>-9.3329951e-02</td></tr>\n",
       "<tr><td>2360.551068770889</td><td>9.9923408e-01</td><td>2.1808557e-03</td><td>5.7973531e-03</td><td>815825</td><td>58.83381</td><td>260.74503</td><td>5.0793486e+03</td><td>1.0974236e+01</td><td>3.3605728e+03</td><td>4.4929023e+00</td><td>6.2544053e+03</td><td>1.3650410e+01</td><td>0</td><td>———</td><td>———</td><td>———</td><td>———</td><td>58.83381</td><td>1.5140421e-03</td><td>260.74503</td><td>1.5392293e-03</td><td>-3.3805996e-02</td><td>-1.1018278e-01</td></tr>\n",
       "<tr><td>2360.5524576605576</td><td>9.9342787e-01</td><td>2.1828122e-03</td><td>5.7973545e-03</td><td>815826</td><td>58.82960</td><td>260.73134</td><td>5.0480972e+03</td><td>1.0984080e+01</td><td>3.3879790e+03</td><td>4.5104856e+00</td><td>6.2180630e+03</td><td>1.3662657e+01</td><td>0</td><td>———</td><td>———</td><td>———</td><td>———</td><td>58.82960</td><td>1.5268752e-03</td><td>260.73134</td><td>1.5521912e-03</td><td>-4.1973919e-02</td><td>-1.3398527e-01</td></tr>\n",
       "<tr><td>2360.5538465502273</td><td>9.9377340e-01</td><td>2.1856199e-03</td><td>5.7973559e-03</td><td>815827</td><td>58.83834</td><td>260.74296</td><td>5.0512676e+03</td><td>1.0998210e+01</td><td>3.4039019e+03</td><td>4.5197110e+00</td><td>6.2202256e+03</td><td>1.3680231e+01</td><td>0</td><td>———</td><td>———</td><td>———</td><td>———</td><td>58.83834</td><td>1.5234294e-03</td><td>260.74296</td><td>1.5505500e-03</td><td>-2.7427465e-02</td><td>-1.1809707e-01</td></tr>\n",
       "<tr><td>2360.5552354403626</td><td>9.9881291e-01</td><td>2.1903391e-03</td><td>5.7973578e-03</td><td>815828</td><td>58.83901</td><td>260.74576</td><td>5.0716006e+03</td><td>1.1021956e+01</td><td>3.4261189e+03</td><td>4.5323310e+00</td><td>6.2517690e+03</td><td>1.3709769e+01</td><td>0</td><td>———</td><td>———</td><td>———</td><td>———</td><td>58.83901</td><td>1.5217504e-03</td><td>260.74576</td><td>1.5468994e-03</td><td>-2.9949540e-02</td><td>-1.0975430e-01</td></tr>\n",
       "<tr><td>2360.5566243300314</td><td>1.0000453e+00</td><td>2.1949431e-03</td><td>5.7973592e-03</td><td>815829</td><td>58.83617</td><td>260.73885</td><td>5.0802925e+03</td><td>1.1045125e+01</td><td>3.4466597e+03</td><td>4.5452056e+00</td><td>6.2594824e+03</td><td>1.3738586e+01</td><td>0</td><td>———</td><td>———</td><td>———</td><td>———</td><td>58.83617</td><td>1.5255912e-03</td><td>260.73885</td><td>1.5517498e-03</td><td>-3.8550492e-02</td><td>-1.1752584e-01</td></tr>\n",
       "</table></div>"
      ],
      "text/plain": [
       "<TessLightCurve length=32188 LABEL=\"TIC 66818296\" SECTOR=38 AUTHOR=SPOC FLUX_ORIGIN=pdcsap_flux>\n",
       "       time             flux      ...   pos_corr1      pos_corr2   \n",
       "                                  ...      pix            pix      \n",
       "       Time           float32     ...    float32        float32    \n",
       "------------------ -------------- ... -------------- --------------\n",
       "1628.9527366213874  9.9146342e-01 ...  4.0939126e-02  2.0365320e-01\n",
       "1628.9541255101508  9.9583793e-01 ...  2.5400141e-02  2.1769401e-01\n",
       " 1628.955514398915  9.9091458e-01 ...  3.9708838e-02  2.1558438e-01\n",
       "1628.9569032876798  9.9025726e-01 ...  5.3074531e-02  1.9718842e-01\n",
       "1628.9582921764436  9.9405742e-01 ...  4.2726278e-02  2.0543911e-01\n",
       " 1628.959681065207  9.9572426e-01 ...  2.1659279e-02  2.1886539e-01\n",
       " 1628.961069953971  9.9142510e-01 ...  3.9847802e-02  2.0756216e-01\n",
       " 1628.962458842735  9.9342662e-01 ...  3.7096344e-02  2.0781381e-01\n",
       "1628.9638477314988  9.9085009e-01 ...  4.2317994e-02  2.1254507e-01\n",
       "               ...            ... ...            ...            ...\n",
       "2360.5441243211485  9.9800473e-01 ... -4.0721402e-02 -1.2793957e-01\n",
       "2360.5455132112825  9.9706757e-01 ... -3.1029750e-02 -1.1463796e-01\n",
       " 2360.546902100951  9.9684072e-01 ... -2.9239954e-02 -1.2163924e-01\n",
       "2360.5482909910857  9.9875683e-01 ... -3.2724239e-02 -1.2526417e-01\n",
       " 2360.549679880755  9.9811131e-01 ... -6.6930088e-03 -9.3329951e-02\n",
       " 2360.551068770889  9.9923408e-01 ... -3.3805996e-02 -1.1018278e-01\n",
       "2360.5524576605576  9.9342787e-01 ... -4.1973919e-02 -1.3398527e-01\n",
       "2360.5538465502273  9.9377340e-01 ... -2.7427465e-02 -1.1809707e-01\n",
       "2360.5552354403626  9.9881291e-01 ... -2.9949540e-02 -1.0975430e-01\n",
       "2360.5566243300314  1.0000453e+00 ... -3.8550492e-02 -1.1752584e-01"
      ]
     },
     "execution_count": 19,
     "metadata": {},
     "output_type": "execute_result"
    }
   ],
   "source": [
    "lc"
   ]
  },
  {
   "cell_type": "code",
   "execution_count": null,
   "metadata": {},
   "outputs": [],
   "source": []
  }
 ],
 "metadata": {
  "kernelspec": {
   "display_name": "MSci_project",
   "language": "python",
   "name": "python3"
  },
  "language_info": {
   "codemirror_mode": {
    "name": "ipython",
    "version": 3
   },
   "file_extension": ".py",
   "mimetype": "text/x-python",
   "name": "python",
   "nbconvert_exporter": "python",
   "pygments_lexer": "ipython3",
   "version": "3.10.4 | packaged by conda-forge | (main, Mar 30 2022, 08:38:02) [MSC v.1916 64 bit (AMD64)]"
  },
  "orig_nbformat": 4,
  "vscode": {
   "interpreter": {
    "hash": "7bd4fe6967f9cc850d872c9777b9eeb4234965a4c66e35bcc9347dfc982970e3"
   }
  }
 },
 "nbformat": 4,
 "nbformat_minor": 2
}
