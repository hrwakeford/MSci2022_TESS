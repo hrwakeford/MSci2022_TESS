{
 "cells": [
  {
   "cell_type": "code",
   "execution_count": 44,
   "metadata": {},
   "outputs": [],
   "source": [
    "import pandas as pd\n",
    "import numpy as np\n",
    "import matplotlib.pyplot as plt\n",
    "import matplotlib.ticker as ticker\n",
    "import scipy\n",
    "import re"
   ]
  },
  {
   "cell_type": "code",
   "execution_count": 25,
   "metadata": {},
   "outputs": [
    {
     "name": "stdout",
     "output_type": "stream",
     "text": [
      "                    1                              2                      3   \\\n",
      "0  Stassun et al. 2017          Patel & Espinoza 2022    Ivshina & Winn 2022   \n",
      "1                    0                            ---                    ---   \n",
      "2         86.63+/-0.42                            ---                    ---   \n",
      "3  3.735430+/-0.000008  3.7354300+0.0000071-0.0000074  3.7354826+/-0.0000015   \n",
      "4          1.87+/-0.24                            ---                    ---   \n",
      "5                  ---                            ---                    ---   \n",
      "6                  ---              0.180+0.130-0.100                    ---   \n",
      "7                  ---           0.1218+0.0016-0.0014                    ---   \n",
      "8                  ---                            ---                    ---   \n",
      "\n",
      "                      4                    5                      6   \\\n",
      "0     Bonomo et al. 2017  Barstow et al. 2017  Sedaghati et al. 2016   \n",
      "1                  0.020                  ---                      0   \n",
      "2        86.83+0.68-0.53                  ---        87.06+0.61-0.63   \n",
      "3  3.7354845+/-0.0000019                  ---               3.735438   \n",
      "4          1.991+/-0.081                  ---          1.747+/-0.078   \n",
      "5      0.05151+/-0.00035                  ---        0.0513+/-0.0029   \n",
      "6                    ---                  ---          0.361+/-0.069   \n",
      "7                    ---                  ---      0.12345+/-0.00109   \n",
      "8                    ---                  ---                     90   \n",
      "\n",
      "                 7                    8                       9   \\\n",
      "0  Sing et al. 2016  Knutson et al. 2014  Southworth et al. 2012   \n",
      "1               ---    0.039+0.050-0.027                       0   \n",
      "2               ---                  ---            86.71+/-0.30   \n",
      "3              3.73                  ---   3.7354845+/-0.0000019   \n",
      "4              1.89                  ---           1.932+/-0.053   \n",
      "5               ---                  ---       0.05125+/-0.00103   \n",
      "6               ---                  ---                     ---   \n",
      "7               ---                  ---         0.1255+/-0.0007   \n",
      "8               ---            179+/-120                     ---   \n",
      "\n",
      "                      10                             11  \\\n",
      "0   Anderson et al. 2011             Triaud et al. 2010   \n",
      "1      0.028+0.015-0.018                           0.11   \n",
      "2        86.83+0.68-0.56                86.63+0.39-0.45   \n",
      "3  3.7354380+/-0.0000068  3.7354330+0.0000076-0.0000075   \n",
      "4          1.991+/-0.081              1.986+0.089-0.074   \n",
      "5      0.05150+/-0.00034                0.0500+/-0.0017   \n",
      "6      0.401+0.059-0.077              0.400+0.043-0.040   \n",
      "7                    ---        0.12929+0.00077-0.00061   \n",
      "8                  -70.6                            ---   \n",
      "\n",
      "                              12                       13  \n",
      "0           Anderson et al. 2010     Alderson et al. 2022  \n",
      "1              0.129+0.106-0.068                      ---  \n",
      "2                   87.8+2.0-1.0                      ---  \n",
      "3  3.7354417+0.0000072-0.0000073  3.73548546+/-0.00000027  \n",
      "4                 1.74+0.26-0.23                      ---  \n",
      "5            0.051+0.0017-0.0018                      ---  \n",
      "6                            ---                      ---  \n",
      "7                            ---                      ---  \n",
      "8                     290+106-16                      ---  \n"
     ]
    }
   ],
   "source": [
    "\n",
    "df = pd.read_csv(\"wasp_17b_parameters.csv\", header=None)\n",
    "df = df.drop(columns=df.columns[0])\n",
    "print(df)\n"
   ]
  },
  {
   "cell_type": "code",
   "execution_count": 26,
   "metadata": {},
   "outputs": [
    {
     "data": {
      "text/plain": [
       "1        Stassun et al. 2017\n",
       "2      Patel & Espinoza 2022\n",
       "3        Ivshina & Winn 2022\n",
       "4         Bonomo et al. 2017\n",
       "5        Barstow et al. 2017\n",
       "6      Sedaghati et al. 2016\n",
       "7           Sing et al. 2016\n",
       "8        Knutson et al. 2014\n",
       "9     Southworth et al. 2012\n",
       "10      Anderson et al. 2011\n",
       "11        Triaud et al. 2010\n",
       "12      Anderson et al. 2010\n",
       "13      Alderson et al. 2022\n",
       "Name: 0, dtype: object"
      ]
     },
     "execution_count": 26,
     "metadata": {},
     "output_type": "execute_result"
    }
   ],
   "source": []
  },
  {
   "cell_type": "code",
   "execution_count": 29,
   "metadata": {},
   "outputs": [],
   "source": [
    "ref_list = df.loc[0]\n",
    "e_list = df.loc[1] #Eccentricty row\n",
    "e_mask = np.where(e_list==\"---\", False, True) #Masking values"
   ]
  },
  {
   "cell_type": "code",
   "execution_count": 30,
   "metadata": {},
   "outputs": [
    {
     "name": "stdout",
     "output_type": "stream",
     "text": [
      "0 True Stassun et al. 2017\n",
      "--- False Patel & Espinoza 2022\n",
      "--- False Ivshina & Winn 2022\n",
      "0.020 True Bonomo et al. 2017\n",
      "--- False Barstow et al. 2017\n",
      "0 True Sedaghati et al. 2016\n",
      "--- False Sing et al. 2016\n",
      "0.039+0.050-0.027 True Knutson et al. 2014\n",
      "0 True Southworth et al. 2012\n",
      "0.028+0.015-0.018 True Anderson et al. 2011\n",
      "0.11 True Triaud et al. 2010\n",
      "0.129+0.106-0.068 True Anderson et al. 2010\n",
      "--- False Alderson et al. 2022\n"
     ]
    }
   ],
   "source": [
    "for e, maskm, ref in zip(e_list, e_mask, ref_list):\n",
    "    print(e, maskm, ref)"
   ]
  },
  {
   "cell_type": "code",
   "execution_count": 53,
   "metadata": {},
   "outputs": [
    {
     "name": "stdout",
     "output_type": "stream",
     "text": [
      "['0.028', '0.015', '0.018']\n"
     ]
    }
   ],
   "source": [
    "e = \"0.028+0.015-0.018\"\n",
    "e = re.split('\\+|\\-', e)\n",
    "print(e)\n"
   ]
  },
  {
   "cell_type": "code",
   "execution_count": null,
   "metadata": {},
   "outputs": [],
   "source": [
    "e = \"0.028+/-0.015\""
   ]
  }
 ],
 "metadata": {
  "kernelspec": {
   "display_name": "MSci_project",
   "language": "python",
   "name": "python3"
  },
  "language_info": {
   "codemirror_mode": {
    "name": "ipython",
    "version": 3
   },
   "file_extension": ".py",
   "mimetype": "text/x-python",
   "name": "python",
   "nbconvert_exporter": "python",
   "pygments_lexer": "ipython3",
   "version": "3.10.4"
  },
  "orig_nbformat": 4,
  "vscode": {
   "interpreter": {
    "hash": "7bd4fe6967f9cc850d872c9777b9eeb4234965a4c66e35bcc9347dfc982970e3"
   }
  }
 },
 "nbformat": 4,
 "nbformat_minor": 2
}
