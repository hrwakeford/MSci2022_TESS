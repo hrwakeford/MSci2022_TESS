{
 "cells": [
  {
   "cell_type": "code",
   "execution_count": 1,
   "metadata": {},
   "outputs": [],
   "source": [
    "import pandas as pd\n",
    "import numpy as np\n",
    "import matplotlib.pyplot as plt\n",
    "import matplotlib.ticker as ticker\n",
    "import scipy\n",
    "import re"
   ]
  },
  {
   "cell_type": "code",
   "execution_count": null,
   "metadata": {},
   "outputs": [],
   "source": [
    "\n",
    "df = pd.read_csv(\"wasp_17b_parameters.csv\", header=None)\n",
    "df = df.drop(columns=df.columns[0])\n",
    "print(df)\n"
   ]
  },
  {
   "cell_type": "code",
   "execution_count": null,
   "metadata": {},
   "outputs": [],
   "source": [
    "def read_df_params(df_params_list, df_ref_list, add_none=False):\n",
    "    \"\"\"\n",
    "    Reading a row of literature values for a given parameters\n",
    "    #Turning a \"0.028+/-0.015\" into [0.028, 0.015,-0.015]\n",
    "    #or \"0.028+0.015-0.015\" into [0.028, 0.015,-0.015]\n",
    "\n",
    "    Parameters\n",
    "    ----------\n",
    "\n",
    "    Returns\n",
    "    -------\n",
    "\n",
    "\n",
    "    \n",
    "    \"\"\"\n",
    "\n",
    "    params_list = []\n",
    "    ref_list = []\n",
    "\n",
    "    p_mask = np.where(df_params_list==\"---\", False, True) #Masking values\n",
    "\n",
    "    for param, pmask, ref in zip(df_params_list, p_mask, df_ref_list):\n",
    "        if pmask == True:\n",
    "            if \"+/-\" in param: #If param in format \"123+/-12\"\n",
    "                param = re.split('\\+\\/\\-', param)\n",
    "                param = [float(param[0]), float(param[1]), float('-' + param[1])]\n",
    "\n",
    "            elif (\"+\" in param) and (\"-\" in param): #If param in format \"123+12-23\"\n",
    "                if param[0] == \"-\": #If param value is negative\n",
    "                    param = e[1:]\n",
    "                    param_tmp = re.split('\\+|\\-', param)\n",
    "                    param = [float(param_tmp[0]), float(param_tmp[1]), float('-' + param_tmp[1])]\n",
    "\n",
    "                else: #param value is positive\n",
    "                    param_tmp = re.split('\\+|\\-', param)\n",
    "                    param = [float(param_tmp[0]), float(param_tmp[1]), float('-' + param_tmp[1])]\n",
    "                    \n",
    "            else: #If param value has no error\n",
    "                param = [float(param), 0.0, 0.0]\n",
    "\n",
    "            params_list.append(param)\n",
    "            ref_list.append(ref)\n",
    "\n",
    "        if (add_none == True) and (pmask == False):\n",
    "            params_list.append(None)\n",
    "            ref_list.append(ref)\n",
    "\n",
    "\n",
    "    params_list = np.array(params_list)\n",
    "    ref_list = np.array(ref_list)\n",
    "\n",
    "    return [params_list, ref_list]\n",
    "    \n",
    "\n",
    "        "
   ]
  },
  {
   "cell_type": "code",
   "execution_count": null,
   "metadata": {},
   "outputs": [],
   "source": [
    "df_ref_list = df.loc[0]"
   ]
  },
  {
   "cell_type": "code",
   "execution_count": null,
   "metadata": {},
   "outputs": [],
   "source": [
    "#Eccentricity\n",
    "df_e_list = df.loc[1] #Eccentricty row\n",
    "\n",
    "e_list, ref_list = read_df_params(df_e_list, df_ref_list)\n",
    "\n",
    "\n",
    "y = range(0, len(ref_list))\n",
    "\n",
    "fig, ax = plt.subplots(1, figsize=(8,6))\n",
    "\n",
    "asymmetric_error = [e_list[:,1], e_list[:,2]]\n",
    "plt.errorbar(e_list[:,0], y, xerr=asymmetric_error, fmt=\".\", color=\"black\", ecolor=\"LightGrey\", label=\"e\")\n",
    "\n",
    "plt.xlabel(r\"Eccentricity $e$\")\n",
    "plt.ylabel(\"Authors\")\n",
    "\n",
    "ax.set_yticks(y)\n",
    "ax.set_yticklabels(ref_list)\n",
    "\n",
    "# ax.legend()\n",
    "plt.show()\n"
   ]
  },
  {
   "cell_type": "code",
   "execution_count": null,
   "metadata": {},
   "outputs": [],
   "source": [
    "#Orbtial inclination\n",
    "\n",
    "df_i_list = df.loc[2] #Eccentricty row\n",
    "\n",
    "i_list, ref_list = read_df_params(df_i_list, df_ref_list)\n",
    "\n",
    "\n",
    "y = range(0, len(ref_list))\n",
    "\n",
    "fig, ax = plt.subplots(1, figsize=(8,6))\n",
    "\n",
    "asymmetric_error = [i_list[:,1], i_list[:,2]]\n",
    "plt.errorbar(i_list[:,0], y, xerr=asymmetric_error, fmt=\".\", color=\"black\", ecolor=\"LightGrey\", label=\"i\")\n",
    "\n",
    "plt.xlabel(r\"Orbital inclination $i$ (deg)\")\n",
    "plt.ylabel(\"Authors\")\n",
    "\n",
    "ax.set_yticks(y)\n",
    "ax.set_yticklabels(ref_list)\n",
    "\n",
    "# ax.legend()\n",
    "plt.show()"
   ]
  }
 ],
 "metadata": {
  "kernelspec": {
   "display_name": "MSci_project",
   "language": "python",
   "name": "python3"
  },
  "language_info": {
   "codemirror_mode": {
    "name": "ipython",
    "version": 3
   },
   "file_extension": ".py",
   "mimetype": "text/x-python",
   "name": "python",
   "nbconvert_exporter": "python",
   "pygments_lexer": "ipython3",
   "version": "3.10.4"
  },
  "orig_nbformat": 4,
  "vscode": {
   "interpreter": {
    "hash": "7bd4fe6967f9cc850d872c9777b9eeb4234965a4c66e35bcc9347dfc982970e3"
   }
  }
 },
 "nbformat": 4,
 "nbformat_minor": 2
}
