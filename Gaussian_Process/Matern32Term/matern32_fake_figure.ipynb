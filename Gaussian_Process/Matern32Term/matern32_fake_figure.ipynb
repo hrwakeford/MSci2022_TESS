{
 "cells": [
  {
   "cell_type": "code",
   "execution_count": 2,
   "metadata": {},
   "outputs": [],
   "source": [
    "import os\n",
    "os.environ[\"OMP_NUM_THREADS\"] = \"4\"\n",
    "\n",
    "import lightkurve as lk\n",
    "import numpy as np\n",
    "import matplotlib.pyplot as plt\n",
    "import matplotlib.ticker as ticker\n",
    "import corner\n",
    "import batman\n",
    "import emcee\n",
    "import time\n",
    "from multiprocessing import Pool\n",
    "from IPython.display import display, Math\n",
    "from matplotlib.ticker import (MultipleLocator, AutoMinorLocator)\n",
    "import matplotlib.ticker as tck\n",
    "\n",
    "from exotic_ld import StellarLimbDarkening\n",
    "\n",
    "import pandas as pd\n",
    "import pickle\n",
    "\n",
    "import celerite2\n",
    "from celerite2 import terms\n"
   ]
  },
  {
   "cell_type": "code",
   "execution_count": 3,
   "metadata": {},
   "outputs": [],
   "source": [
    "np.random.seed(100)"
   ]
  },
  {
   "cell_type": "code",
   "execution_count": 4,
   "metadata": {},
   "outputs": [],
   "source": [
    "filename = \"matern32_fake_sampler.p\"\n",
    "with open(filename, \"rb\") as f:\n",
    "    sampler = pickle.load(f)\n",
    "f.close()"
   ]
  },
  {
   "cell_type": "code",
   "execution_count": 10,
   "metadata": {},
   "outputs": [],
   "source": [
    "reader = emcee.backends.HDFBackend(\"matern32_fake_sampler.p\", read_only=True)\n"
   ]
  },
  {
   "cell_type": "code",
   "execution_count": 11,
   "metadata": {},
   "outputs": [
    {
     "data": {
      "text/plain": [
       "numpy.ndarray"
      ]
     },
     "execution_count": 11,
     "metadata": {},
     "output_type": "execute_result"
    }
   ],
   "source": [
    "type(sampler)"
   ]
  },
  {
   "cell_type": "code",
   "execution_count": 5,
   "metadata": {},
   "outputs": [
    {
     "ename": "AttributeError",
     "evalue": "'numpy.ndarray' object has no attribute 'get_autocorr_time'",
     "output_type": "error",
     "traceback": [
      "\u001b[1;31m---------------------------------------------------------------------------\u001b[0m",
      "\u001b[1;31mAttributeError\u001b[0m                            Traceback (most recent call last)",
      "\u001b[1;32mc:\\Users\\Student\\OneDrive\\MSci project\\MSci2022_TESS\\Gaussian_Process\\Matern32Term\\matern32_fake_figure.ipynb Cell 4\u001b[0m in \u001b[0;36m<cell line: 1>\u001b[1;34m()\u001b[0m\n\u001b[1;32m----> <a href='vscode-notebook-cell:/c%3A/Users/Student/OneDrive/MSci%20project/MSci2022_TESS/Gaussian_Process/Matern32Term/matern32_fake_figure.ipynb#W5sZmlsZQ%3D%3D?line=0'>1</a>\u001b[0m tau \u001b[39m=\u001b[39m sampler\u001b[39m.\u001b[39;49mget_autocorr_time()\n\u001b[0;32m      <a href='vscode-notebook-cell:/c%3A/Users/Student/OneDrive/MSci%20project/MSci2022_TESS/Gaussian_Process/Matern32Term/matern32_fake_figure.ipynb#W5sZmlsZQ%3D%3D?line=1'>2</a>\u001b[0m \u001b[39mprint\u001b[39m(tau)\n",
      "\u001b[1;31mAttributeError\u001b[0m: 'numpy.ndarray' object has no attribute 'get_autocorr_time'"
     ]
    }
   ],
   "source": [
    "tau = sampler.get_autocorr_time()\n",
    "print(tau)"
   ]
  },
  {
   "cell_type": "code",
   "execution_count": null,
   "metadata": {},
   "outputs": [
    {
     "ename": "NameError",
     "evalue": "name 'np' is not defined",
     "output_type": "error",
     "traceback": [
      "\u001b[1;31m---------------------------------------------------------------------------\u001b[0m",
      "\u001b[1;31mNameError\u001b[0m                                 Traceback (most recent call last)",
      "\u001b[1;32mc:\\Users\\Student\\OneDrive\\MSci project\\MSci2022_TESS\\Gaussian_Process\\Matern32Term\\matern32_fake_figure.ipynb Cell 4\u001b[0m in \u001b[0;36m<cell line: 1>\u001b[1;34m()\u001b[0m\n\u001b[1;32m----> <a href='vscode-notebook-cell:/c%3A/Users/Student/OneDrive/MSci%20project/MSci2022_TESS/Gaussian_Process/Matern32Term/matern32_fake_figure.ipynb#W4sZmlsZQ%3D%3D?line=0'>1</a>\u001b[0m burnin \u001b[39m=\u001b[39m \u001b[39mint\u001b[39m(\u001b[39m2\u001b[39m \u001b[39m*\u001b[39m np\u001b[39m.\u001b[39mmax(tau))\n\u001b[0;32m      <a href='vscode-notebook-cell:/c%3A/Users/Student/OneDrive/MSci%20project/MSci2022_TESS/Gaussian_Process/Matern32Term/matern32_fake_figure.ipynb#W4sZmlsZQ%3D%3D?line=1'>2</a>\u001b[0m thin \u001b[39m=\u001b[39m \u001b[39mint\u001b[39m(\u001b[39m0.5\u001b[39m \u001b[39m*\u001b[39m np\u001b[39m.\u001b[39mmin(tau))\n\u001b[0;32m      <a href='vscode-notebook-cell:/c%3A/Users/Student/OneDrive/MSci%20project/MSci2022_TESS/Gaussian_Process/Matern32Term/matern32_fake_figure.ipynb#W4sZmlsZQ%3D%3D?line=2'>3</a>\u001b[0m flat_samples \u001b[39m=\u001b[39m sampler\u001b[39m.\u001b[39mget_chain(discard\u001b[39m=\u001b[39mburnin, thin\u001b[39m=\u001b[39mthin, flat\u001b[39m=\u001b[39m\u001b[39mTrue\u001b[39;00m)\n",
      "\u001b[1;31mNameError\u001b[0m: name 'np' is not defined"
     ]
    }
   ],
   "source": [
    "burnin = int(2 * np.max(tau))\n",
    "thin = int(0.5 * np.min(tau))\n",
    "flat_samples = sampler.get_chain(discard=burnin, thin=thin, flat=True)\n",
    "print(flat_samples.shape)"
   ]
  }
 ],
 "metadata": {
  "kernelspec": {
   "display_name": "MSci_project",
   "language": "python",
   "name": "python3"
  },
  "language_info": {
   "codemirror_mode": {
    "name": "ipython",
    "version": 3
   },
   "file_extension": ".py",
   "mimetype": "text/x-python",
   "name": "python",
   "nbconvert_exporter": "python",
   "pygments_lexer": "ipython3",
   "version": "3.10.4"
  },
  "orig_nbformat": 4,
  "vscode": {
   "interpreter": {
    "hash": "7bd4fe6967f9cc850d872c9777b9eeb4234965a4c66e35bcc9347dfc982970e3"
   }
  }
 },
 "nbformat": 4,
 "nbformat_minor": 2
}
