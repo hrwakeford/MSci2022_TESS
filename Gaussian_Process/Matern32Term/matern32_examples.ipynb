{
 "cells": [
  {
   "cell_type": "code",
   "execution_count": null,
   "metadata": {},
   "outputs": [],
   "source": [
    "import os\n",
    "os.environ[\"OMP_NUM_THREADS\"] = \"4\"\n",
    "\n",
    "import lightkurve as lk\n",
    "import numpy as np\n",
    "import matplotlib.pyplot as plt\n",
    "import matplotlib.ticker as ticker\n",
    "import corner\n",
    "import batman\n",
    "import emcee\n",
    "import time\n",
    "from multiprocessing import Pool\n",
    "from IPython.display import display, Math\n",
    "from matplotlib.ticker import (MultipleLocator, AutoMinorLocator)\n",
    "import matplotlib.ticker as tck\n",
    "\n",
    "from exotic_ld import StellarLimbDarkening\n",
    "\n",
    "import pandas as pd\n",
    "import pickle\n",
    "\n",
    "import celerite2\n",
    "from celerite2 import terms\n"
   ]
  },
  {
   "cell_type": "code",
   "execution_count": null,
   "metadata": {},
   "outputs": [],
   "source": [
    "np.random.seed(100)"
   ]
  },
  {
   "cell_type": "code",
   "execution_count": null,
   "metadata": {},
   "outputs": [],
   "source": [
    "#2 minute cadence = 720 samples in 1 day \n",
    "\n",
    "t = np.sort(np.append(\n",
    "        np.random.uniform(0, 12, 100), \n",
    "        np.random.uniform(17, 30, 100),\n",
    "    ))  # The input coordinates must be sorted\n",
    "yerr = np.random.uniform(0.0001, 0.005, len(t))\n",
    "y = (1 + 0.00001*np.sin(t + 6) + yerr * np.random.randn(len(t)))\n",
    "\n",
    "true_t = np.linspace(0, 30, len(t))\n",
    "true_y = (1 + 0.0000001*np.sin(true_t + 6) + yerr * np.random.randn(len(true_t)))\n",
    "\n",
    "plt.plot(true_t, true_y, lw=1.5, alpha=0.3, color=\"r\", zorder=0)\n",
    "plt.errorbar(t, y, yerr=yerr, fmt=\".\", color=\"black\", ecolor=\"LightGrey\", capsize=0, zorder=100)\n",
    "plt.xlabel(\"x [day]\")\n",
    "plt.ylabel(\"y\")\n",
    "_ = plt.title(\"simulated data\")\n"
   ]
  },
  {
   "cell_type": "code",
   "execution_count": null,
   "metadata": {},
   "outputs": [],
   "source": [
    "def set_params(params, yerrs):\n",
    "    _sigma, _rho = params\n",
    "    kernel = terms.Matern32Term(sigma = _sigma, rho  = _rho)\n",
    "    gp = celerite2.GaussianProcess(kernel, mean=0.0,)\n",
    "    gp.compute(t, yerr=yerrs, quiet=True)\n",
    "\n",
    "    return gp"
   ]
  },
  {
   "cell_type": "code",
   "execution_count": null,
   "metadata": {},
   "outputs": [],
   "source": [
    "def plot(parmas):\n",
    "\n",
    "    gp = set_params(parmas, yerr)\n",
    "    gp.compute(t, yerr=yerr)\n",
    "\n",
    "    conditional = gp.condition(y, true_t)\n",
    "\n",
    "    plt.plot(true_t, conditional.sample(), color=\"C1\")\n",
    "    plt.errorbar(t, y, yerr=yerr, fmt=\".k\", capsize=0)\n",
    "    plt.ylim(0.95, 1.05)\n",
    "    plt.xlabel(\"x [day]\")\n",
    "    plt.ylabel(\"y [ppm]\")\n",
    "    plt.show()\n",
    "    \n"
   ]
  },
  {
   "cell_type": "code",
   "execution_count": null,
   "metadata": {},
   "outputs": [],
   "source": [
    "plot([100, 1000])"
   ]
  },
  {
   "cell_type": "code",
   "execution_count": null,
   "metadata": {},
   "outputs": [],
   "source": [
    "param_list = [[1, 1000000], [100, 1000000], [1000, 1000000]]\n",
    "\n",
    "for params in param_list: \n",
    "    gp = set_params(params, yerr)\n",
    "    gp.compute(t, yerr=yerr)\n",
    "\n",
    "    conditional = gp.condition(y, true_t)\n",
    "    label = \"$\\sigma$ %s, $\\\\rho$ %s\" % (params[0], params[1]) \n",
    "    plt.plot(true_t, conditional.sample(), label=label)\n",
    "\n",
    "plt.title(\"Varying $\\sigma$\")\n",
    "plt.errorbar(t, y, yerr=yerr, fmt=\".k\", capsize=0)\n",
    "plt.ylim(0.98, 1.02)\n",
    "plt.xlabel(\"x [day]\")\n",
    "plt.ylabel(\"y [ppm]\")\n",
    "plt.legend()\n",
    "plt.show()"
   ]
  },
  {
   "cell_type": "code",
   "execution_count": null,
   "metadata": {},
   "outputs": [],
   "source": [
    "param_list = [[100, 10000], [100, 100000], [100, 1000000], [100, 10000000]]\n",
    "\n",
    "for params in param_list: \n",
    "    gp = set_params(params, yerr)\n",
    "    gp.compute(t, yerr=yerr)\n",
    "\n",
    "    conditional = gp.condition(y, true_t)\n",
    "    label = \"$\\sigma$ %s, $\\\\rho$ %s\" % (params[0], params[1]) \n",
    "    plt.plot(true_t, conditional.sample(), label=label)\n",
    "\n",
    "plt.title(\"Varying $\\\\rho$\")\n",
    "plt.errorbar(t, y, yerr=yerr, fmt=\".k\", capsize=0)\n",
    "plt.ylim(0.98, 1.02)\n",
    "plt.xlabel(\"x [day]\")\n",
    "plt.ylabel(\"y [ppm]\")\n",
    "plt.legend()\n",
    "plt.show()"
   ]
  }
 ],
 "metadata": {
  "kernelspec": {
   "display_name": "MSci_project",
   "language": "python",
   "name": "python3"
  },
  "language_info": {
   "codemirror_mode": {
    "name": "ipython",
    "version": 3
   },
   "file_extension": ".py",
   "mimetype": "text/x-python",
   "name": "python",
   "nbconvert_exporter": "python",
   "pygments_lexer": "ipython3",
   "version": "3.10.4"
  },
  "orig_nbformat": 4,
  "vscode": {
   "interpreter": {
    "hash": "7bd4fe6967f9cc850d872c9777b9eeb4234965a4c66e35bcc9347dfc982970e3"
   }
  }
 },
 "nbformat": 4,
 "nbformat_minor": 2
}
