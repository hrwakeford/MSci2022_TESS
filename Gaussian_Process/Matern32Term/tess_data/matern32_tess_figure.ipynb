{
 "cells": [
  {
   "cell_type": "code",
   "execution_count": null,
   "metadata": {},
   "outputs": [],
   "source": [
    "import os\n",
    "os.environ[\"OMP_NUM_THREADS\"] = \"4\"\n",
    "\n",
    "import lightkurve as lk\n",
    "import numpy as np\n",
    "import matplotlib.pyplot as plt\n",
    "import matplotlib.ticker as ticker\n",
    "import corner\n",
    "import batman\n",
    "import emcee\n",
    "import time\n",
    "from multiprocessing import Pool\n",
    "from IPython.display import display, Math\n",
    "from matplotlib.ticker import (MultipleLocator, AutoMinorLocator)\n",
    "import matplotlib.ticker as tck\n",
    "\n",
    "from exotic_ld import StellarLimbDarkening\n",
    "\n",
    "import pandas as pd\n",
    "import pickle\n",
    "\n",
    "import celerite2\n",
    "from celerite2 import terms\n"
   ]
  },
  {
   "cell_type": "code",
   "execution_count": null,
   "metadata": {},
   "outputs": [],
   "source": [
    "TIC = 'TIC 66818296' #WASP-17 / TIC 66818296\n",
    "\n",
    "search_result = lk.search_lightcurve(\n",
    "    target=TIC,\n",
    "    mission='TESS', author='SPOC')\n",
    "print(\"trying to download\")\n",
    "lc_collection = search_result.download_all()\n",
    "lc_sector_12 = lc_collection[0].remove_nans()\n",
    "lc_sector_38 = lc_collection[1].remove_nans()\n",
    "\n",
    "print(\"Search done\")\n",
    "print(lc_collection)\n",
    "\n",
    "lc = lc_collection.stitch(corrector_func=lambda x: x.\n",
    "                          remove_nans().normalize(unit='unscaled'))\n",
    "#Sector 12 and sector 38\n",
    "lc = lc.remove_nans()"
   ]
  },
  {
   "cell_type": "code",
   "execution_count": null,
   "metadata": {},
   "outputs": [],
   "source": [
    "lc"
   ]
  },
  {
   "cell_type": "code",
   "execution_count": null,
   "metadata": {},
   "outputs": [],
   "source": [
    "t = np.array(lc.time.btjd)\n",
    "flux_data = np.array(lc.flux)\n",
    "yerrs = np.array(lc.flux_err)"
   ]
  },
  {
   "cell_type": "code",
   "execution_count": null,
   "metadata": {},
   "outputs": [],
   "source": [
    "fig, ax = plt.subplots(1, figsize=(8,6))\n",
    "plt.errorbar(t, flux_data, yerrs, fmt='.', color='Black', ecolor='LightGrey')\n",
    "\n",
    "\n",
    "plt.ylabel(\"Normalised flux\", size=17)\n",
    "plt.xlabel(\"Time - 2457000 (BTJD days)\", size=17)\n",
    "\n",
    "ax.xaxis.set_tick_params(labelsize=17)\n",
    "ax.yaxis.set_tick_params(labelsize=17)\n",
    "\n",
    "ax.xaxis.set_minor_locator(tck.AutoMinorLocator())\n",
    "ax.yaxis.set_minor_locator(tck.AutoMinorLocator())\n",
    "\n",
    "plt.show()\n"
   ]
  },
  {
   "cell_type": "code",
   "execution_count": null,
   "metadata": {},
   "outputs": [],
   "source": [
    "def set_params(params, yerrs):\n",
    "    _sigma, _rho = params\n",
    "    kernel = terms.Matern32Term(sigma = _sigma, rho  = _rho)\n",
    "    gp = celerite2.GaussianProcess(kernel, mean=0.0,)\n",
    "    gp.compute(t, yerr=yerrs, quiet=True)\n",
    "\n",
    "    return gp"
   ]
  },
  {
   "cell_type": "code",
   "execution_count": null,
   "metadata": {},
   "outputs": [],
   "source": [
    "filename = \"matern32_tess_flat_samples.p\"\n",
    "with open(filename, \"rb\") as f:\n",
    "    flat_samples = pickle.load(f)\n",
    "f.close()"
   ]
  },
  {
   "cell_type": "code",
   "execution_count": null,
   "metadata": {},
   "outputs": [],
   "source": [
    "model_sigma = np.percentile(flat_samples[:, 0], 50)\n",
    "model_rho = np.percentile(flat_samples[:, 1], 50)"
   ]
  },
  {
   "cell_type": "code",
   "execution_count": 9,
   "metadata": {},
   "outputs": [],
   "source": [
    "model_parmas = [model_sigma, model_rho]\n",
    "gp = set_params(model_parmas, yerrs)\n",
    "gp.compute(t, yerr=yerrs)\n",
    "\n",
    "conditional = gp.condition(flux_data, t)\n",
    "\n",
    "fig, ax = plt.subplots(1, figsize=(8,6))\n",
    "\n",
    "plt.plot(t, conditional.sample(), color=\"C1\")\n",
    "plt.errorbar(t, flux_data, yerrs, fmt='.', color='Black', ecolor='LightGrey')\n",
    "plt.ylabel(\"Normalised flux\", size=17)\n",
    "plt.xlabel(\"Time - 2457000 (BTJD days)\", size=17)\n",
    "\n",
    "ax.xaxis.set_tick_params(labelsize=17)\n",
    "ax.yaxis.set_tick_params(labelsize=17)\n",
    "\n",
    "ax.xaxis.set_minor_locator(tck.AutoMinorLocator())\n",
    "ax.yaxis.set_minor_locator(tck.AutoMinorLocator())\n",
    "\n",
    "plt.show()\n"
   ]
  },
  {
   "cell_type": "code",
   "execution_count": null,
   "metadata": {},
   "outputs": [],
   "source": [
    "fig, (ax1, ax2) = plt.subplots(1, 2, figsize=(16,6))\n",
    "\n",
    "#Sector 12\n",
    "ax1.set_title(\"Sector 12\", size=17)\n",
    "#Binned data?\n",
    "ax1.errorbar(t, flux_data, yerr=yerrs,fmt='.', markersize=5, color='black', ecolor='LightGrey', label=\"Data\", zorder=0) #Black\n",
    "ax1.plot(t, conditional.sample(), color='Red', zorder=10)\n",
    "ax1.set_xlim(min(lc_sector_12.time.btjd), max(lc_sector_12.time.btjd))\n",
    "\n",
    "# Mirror y\n",
    "ax1A = ax1.twinx()\n",
    "ax1A.set_ylim(ax1.get_ylim())\n",
    "ax1A.get_yaxis().set_ticklabels([])\n",
    "ax1A.tick_params(which=\"both\", direction=\"in\")#, labelright=True, labelleft=True)\n",
    "\n",
    "# Mirror x\n",
    "ax1B = ax1.twiny()\n",
    "ax1B.set_xlim(ax2.get_xlim())\n",
    "ax1B.get_xaxis().set_ticklabels([])\n",
    "ax1B.tick_params(which=\"both\", direction=\"in\")\n",
    "\n",
    "\n",
    "#Sector 38\n",
    "ax2.set_title(\"Sector 38\", size=17)\n",
    "#Binned data?\n",
    "ax2.errorbar(t, flux_data, yerr=yerrs,fmt='.', markersize=5, color='black', ecolor='LightGrey', label=\"Data\", zorder=0) #Black\n",
    "ax2.plot(t, conditional.sample(), color='Red', zorder=10)\n",
    "ax2.set_xlim(min(lc_sector_38.time.btjd), max(lc_sector_38.time.btjd))\n",
    "ax2.set_ylim(ax1.get_ylim()) #Mirror ax1 ylims\n",
    "\n",
    "ax2.get_yaxis().set_ticklabels([])\n",
    "ax2.tick_params(axis=\"y\",which=\"both\", direction=\"in\")\n",
    "\n",
    "# Mirror y\n",
    "ax2A = ax2.twinx()\n",
    "ax2A.set_ylim(ax2.get_ylim())\n",
    "ax2A.get_yaxis().set_ticklabels([])\n",
    "ax2A.tick_params(which=\"both\", direction=\"in\")\n",
    "\n",
    "# Mirror x\n",
    "ax2B = ax2.twiny()\n",
    "ax2B.set_xlim(ax2.get_xlim())\n",
    "ax2B.get_xaxis().set_ticklabels([])\n",
    "ax2B.tick_params(which=\"both\", direction=\"in\")\n",
    "\n",
    "\n",
    "\n",
    "ax1.set_ylabel(\"Normalised flux\", size=17)\n",
    "ax1.set_xlabel(\"Time - 2457000 (BTJD days)\", size=17)\n",
    "\n",
    "ax1.yaxis.set_tick_params(labelsize=17)\n",
    "ax1.xaxis.set_tick_params(labelsize=17)\n",
    "ax2.xaxis.set_tick_params(labelsize=17)\n",
    "\n",
    "\n",
    "ax1.xaxis.set_minor_locator(tck.AutoMinorLocator())\n",
    "ax1B.xaxis.set_minor_locator(tck.AutoMinorLocator())\n",
    "ax1.yaxis.set_minor_locator(tck.AutoMinorLocator())\n",
    "ax1A.yaxis.set_minor_locator(tck.AutoMinorLocator())\n",
    "\n",
    "\n",
    "ax2.xaxis.set_minor_locator(tck.AutoMinorLocator())\n",
    "ax2B.xaxis.set_minor_locator(tck.AutoMinorLocator())\n",
    "ax2.yaxis.set_minor_locator(tck.AutoMinorLocator())\n",
    "ax2A.yaxis.set_minor_locator(tck.AutoMinorLocator())\n",
    "\n",
    "plt.subplots_adjust(wspace=0)\n",
    "plt.show()\n"
   ]
  }
 ],
 "metadata": {
  "kernelspec": {
   "display_name": "MSci_project",
   "language": "python",
   "name": "python3"
  },
  "language_info": {
   "codemirror_mode": {
    "name": "ipython",
    "version": 3
   },
   "file_extension": ".py",
   "mimetype": "text/x-python",
   "name": "python",
   "nbconvert_exporter": "python",
   "pygments_lexer": "ipython3",
   "version": "3.10.4"
  },
  "orig_nbformat": 4,
  "vscode": {
   "interpreter": {
    "hash": "7bd4fe6967f9cc850d872c9777b9eeb4234965a4c66e35bcc9347dfc982970e3"
   }
  }
 },
 "nbformat": 4,
 "nbformat_minor": 2
}
