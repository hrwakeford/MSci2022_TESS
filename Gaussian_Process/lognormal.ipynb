{
 "cells": [
  {
   "cell_type": "code",
   "execution_count": 3,
   "metadata": {},
   "outputs": [],
   "source": [
    "import numpy as np\n",
    "import matplotlib.pyplot as plt"
   ]
  },
  {
   "attachments": {
    "image-2.png": {
     "image/png": "[encoded data removed]"
    }
   },
   "cell_type": "markdown",
   "metadata": {},
   "source": [
    "![image.png](attachment:image-2.png)"
   ]
  },
  {
   "cell_type": "code",
   "execution_count": null,
   "metadata": {},
   "outputs": [
    {
     "name": "stdout",
     "output_type": "stream",
     "text": [
      "-54.91035324725561\n"
     ]
    }
   ],
   "source": [
    "eccen = 0.12\n",
    "# P = np.random.lognormal(mean=0.12, sigma=1.0, size=[eccen])\n",
    "# P = lognorm.pdf(mean=0.12, 0.06)\n",
    "\n",
    "mu = 0.12\n",
    "sigma = 0.06\n",
    "x = eccen\n",
    "\n",
    "P_list = []\n",
    "x_list = np.arange(0, 1, 0.001)\n",
    "\n",
    "for x in x_list:\n",
    "    P = -np.exp(-((np.log(x) - mu)**2)/2*(sigma**2)) / (sigma * x * np.sqrt(2*np.pi))\n",
    "    P_list.append(P)\n",
    "\n",
    "plt.plot(x_list, P_list)\n"
   ]
  },
  {
   "cell_type": "code",
   "execution_count": null,
   "metadata": {},
   "outputs": [],
   "source": []
  }
 ],
 "metadata": {
  "kernelspec": {
   "display_name": "MSci_project",
   "language": "python",
   "name": "python3"
  },
  "language_info": {
   "codemirror_mode": {
    "name": "ipython",
    "version": 3
   },
   "file_extension": ".py",
   "mimetype": "text/x-python",
   "name": "python",
   "nbconvert_exporter": "python",
   "pygments_lexer": "ipython3",
   "version": "3.10.4"
  },
  "orig_nbformat": 4,
  "vscode": {
   "interpreter": {
    "hash": "7bd4fe6967f9cc850d872c9777b9eeb4234965a4c66e35bcc9347dfc982970e3"
   }
  }
 },
 "nbformat": 4,
 "nbformat_minor": 2
}
