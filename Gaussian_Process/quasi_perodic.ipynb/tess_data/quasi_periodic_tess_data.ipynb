{
 "cells": [
  {
   "cell_type": "code",
   "execution_count": null,
   "metadata": {},
   "outputs": [],
   "source": [
    "import os\n",
    "os.environ[\"OMP_NUM_THREADS\"] = \"4\"\n",
    "\n",
    "import lightkurve as lk\n",
    "import numpy as np\n",
    "import matplotlib.pyplot as plt\n",
    "import matplotlib.ticker as ticker\n",
    "import corner\n",
    "import batman\n",
    "import emcee\n",
    "import time\n",
    "from multiprocessing import Pool\n",
    "from IPython.display import display, Math\n",
    "from matplotlib.ticker import (MultipleLocator, AutoMinorLocator)\n",
    "import matplotlib.ticker as tck\n",
    "\n",
    "from exotic_ld import StellarLimbDarkening\n",
    "\n",
    "import pandas as pd\n",
    "import pickle\n",
    "\n",
    "import celerite2\n",
    "from celerite2 import terms\n"
   ]
  },
  {
   "cell_type": "code",
   "execution_count": null,
   "metadata": {},
   "outputs": [],
   "source": [
    "TIC = 'TIC 66818296' #WASP-17 / TIC 66818296\n",
    "\n",
    "search_result = lk.search_lightcurve(\n",
    "    target=TIC,\n",
    "    mission='TESS', author='SPOC')\n",
    "print(\"trying to download\")\n",
    "lc_collection = search_result.download_all()\n",
    "print(\"Search done\")\n",
    "\n",
    "lc = lc_collection[0] #Sector 12\n",
    "\n",
    "lc = lc.remove_nans()\n",
    "lc = lc.normalize()"
   ]
  },
  {
   "cell_type": "code",
   "execution_count": null,
   "metadata": {},
   "outputs": [],
   "source": [
    "lc"
   ]
  },
  {
   "cell_type": "code",
   "execution_count": null,
   "metadata": {},
   "outputs": [],
   "source": [
    "t = np.array(lc.time.btjd)\n",
    "flux_data = np.array(lc.flux)\n",
    "yerrs = np.array(lc.flux_err)"
   ]
  },
  {
   "cell_type": "code",
   "execution_count": null,
   "metadata": {},
   "outputs": [],
   "source": [
    "fig, ax = plt.subplots(1, figsize=(8,6))\n",
    "plt.errorbar(t, flux_data, yerrs, fmt='.', color='Black', ecolor='LightGrey')\n",
    "\n",
    "\n",
    "plt.ylabel(\"Normalised flux\", size=17)\n",
    "plt.xlabel(\"Time - 2457000 (BTJD days)\", size=17)\n",
    "\n",
    "ax.xaxis.set_tick_params(labelsize=17)\n",
    "ax.yaxis.set_tick_params(labelsize=17)\n",
    "\n",
    "ax.xaxis.set_minor_locator(tck.AutoMinorLocator())\n",
    "ax.yaxis.set_minor_locator(tck.AutoMinorLocator())\n",
    "\n",
    "plt.show()\n"
   ]
  },
  {
   "cell_type": "code",
   "execution_count": null,
   "metadata": {},
   "outputs": [],
   "source": [
    "def set_params(params, yerrs):\n",
    "    _sigma, _rho, _tau = params\n",
    "    kernel = terms.SHOTerm(sigma = _sigma, rho  = _rho, tau = _tau)\n",
    "    gp = celerite2.GaussianProcess(kernel, mean=0.0)\n",
    "    gp.compute(t, yerr=yerrs, quiet=True)\n",
    "\n",
    "    return gp"
   ]
  },
  {
   "cell_type": "code",
   "execution_count": null,
   "metadata": {},
   "outputs": [],
   "source": [
    "def log_likelihood(prior_params, flux_data, yerrs):\n",
    "    \n",
    "    gp = set_params(prior_params, yerrs)\n",
    "\n",
    "    prob = gp.log_likelihood(flux_data)\n",
    "    return prob\n",
    "\n",
    "\n",
    "def log_prior(prior_params):\n",
    "    _sigma, _rho, _tau = prior_params\n",
    "\n",
    "    prob = 0.0\n",
    "    if _sigma < 0 or _sigma > 1E4:\n",
    "        prob += -np.inf\n",
    "        return prob\n",
    "    \n",
    "    if _rho < 0 or _rho > 6E4:\n",
    "        prob += -np.inf\n",
    "        return prob\n",
    "\n",
    "    if _tau < 0 or _tau > 6E4:\n",
    "        prob += -np.inf\n",
    "        return prob\n",
    "    \n",
    "    return prob\n",
    "\n",
    "\n",
    "def log_prob(prior_params, flux_data, yerrs):\n",
    "    lp = log_prior(prior_params)\n",
    "    if (np.isinf(lp) == True):\n",
    "        return -np.inf\n",
    "\n",
    "    return log_likelihood(prior_params, flux_data, yerrs) + lp"
   ]
  },
  {
   "cell_type": "code",
   "execution_count": null,
   "metadata": {},
   "outputs": [],
   "source": [
    "guess = [100, 100, 10]\n",
    "\n",
    "pos = guess + 1E-8 * np.random.randn(20, len(guess))\n",
    "\n",
    "nwalkers, ndim = pos.shape\n",
    "\n",
    "filename = \"quasi_periodic_tess_data.h5\"\n",
    "backend = emcee.backends.HDFBackend(filename)\n",
    "backend.reset(nwalkers, ndim)\n",
    "\n",
    "with Pool() as pool:\n",
    "    start_time = time.time()\n",
    "    print(\"Start:       {}\".format(time.ctime(int(start_time))))\n",
    "    \n",
    "    sampler = emcee.EnsembleSampler(nwalkers, ndim, log_prob, args=(flux_data, yerrs))\n",
    "    sampler.run_mcmc(pos, 70000, progress=True)\n",
    "    \n",
    "    end_time = time.time()\n",
    "    execution_time = (end_time - start_time)\n",
    "    print(\"End:         {}\".format(time.ctime(int(end_time))))\n",
    "    print(\"Time taken:  {:.2f} s\".format(execution_time))"
   ]
  },
  {
   "cell_type": "code",
   "execution_count": null,
   "metadata": {},
   "outputs": [],
   "source": [
    "samples = sampler.get_chain()\n",
    "tau = sampler.get_autocorr_time()\n",
    "print(tau)"
   ]
  },
  {
   "cell_type": "code",
   "execution_count": null,
   "metadata": {},
   "outputs": [],
   "source": [
    "burnin = int(5 * np.max(tau))\n",
    "thin = int(0.5 * np.min(tau))\n",
    "flat_samples = sampler.get_chain(discard=burnin, thin=thin, flat=True)\n",
    "print(flat_samples.shape)"
   ]
  },
  {
   "cell_type": "code",
   "execution_count": null,
   "metadata": {},
   "outputs": [],
   "source": [
    "filename = \"quasi_periodic_tess_flat_samples.p\"\n",
    "file = open(filename, \"wb\")\n",
    "pickle.dump(samples, file)\n",
    "file.close()"
   ]
  },
  {
   "cell_type": "code",
   "execution_count": null,
   "metadata": {},
   "outputs": [],
   "source": [
    "fig, axes = plt.subplots(len(guess), figsize=(10, 7), sharex=True)\n",
    "samples = sampler.get_chain()\n",
    "labels = [\"$\\\\sigma$\", \"$\\\\rho$\", \"$\\\\tau$\"]\n",
    "\n",
    "for i in range(ndim):\n",
    "    ax = axes[i]\n",
    "    ax.plot(samples[:, :, i], \"k\", alpha=0.3)\n",
    "    ax.set_xlim(0, len(samples))\n",
    "    ax.axvline(x = burnin, color ='red', ls=\"--\", alpha=0.7)\n",
    "    ax.set_ylabel(labels[i])\n",
    "\n",
    "axes[-1].set_xlabel(\"Step number\")\n",
    "plt.show()"
   ]
  },
  {
   "cell_type": "code",
   "execution_count": null,
   "metadata": {},
   "outputs": [],
   "source": [
    "fig = corner.corner(\n",
    "    flat_samples, labels=labels)"
   ]
  }
 ],
 "metadata": {
  "kernelspec": {
   "display_name": "MSci_project",
   "language": "python",
   "name": "python3"
  },
  "language_info": {
   "codemirror_mode": {
    "name": "ipython",
    "version": 3
   },
   "file_extension": ".py",
   "mimetype": "text/x-python",
   "name": "python",
   "nbconvert_exporter": "python",
   "pygments_lexer": "ipython3",
   "version": "3.10.4"
  },
  "orig_nbformat": 4,
  "vscode": {
   "interpreter": {
    "hash": "7bd4fe6967f9cc850d872c9777b9eeb4234965a4c66e35bcc9347dfc982970e3"
   }
  }
 },
 "nbformat": 4,
 "nbformat_minor": 2
}
